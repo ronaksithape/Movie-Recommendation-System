{
  "nbformat": 4,
  "nbformat_minor": 0,
  "metadata": {
    "colab": {
      "provenance": [],
      "include_colab_link": true
    },
    "kernelspec": {
      "name": "python3",
      "display_name": "Python 3"
    },
    "language_info": {
      "name": "python"
    }
  },
  "cells": [
    {
      "cell_type": "markdown",
      "metadata": {
        "id": "view-in-github",
        "colab_type": "text"
      },
      "source": [
        "<a href=\"https://colab.research.google.com/github/ronaksithape/Movie-Recommendation-System/blob/main/Movie_Recommendation_System.ipynb\" target=\"_parent\"><img src=\"https://colab.research.google.com/assets/colab-badge.svg\" alt=\"Open In Colab\"/></a>"
      ]
    },
    {
      "cell_type": "markdown",
      "source": [
        "##**Movie Recommendation System**"
      ],
      "metadata": {
        "id": "0aoZo0aTxYWx"
      }
    },
    {
      "cell_type": "markdown",
      "source": [
        "**Recommender System** is a system that seeks to predict or filter preferences according to the user's choices. Recommender systems are utilized in a variety of areas including movies, music, news, books, research articles, search queries, social tags, and products in general. Recommender systems produce a list of recommendations in any of the two ways-\n",
        "\n",
        "**Collaborative filtering:** Collaborative filtering approaches build a model from the user's past behavior (ie. items purchased or searched by the user) as well as similar decisions made by other users. This model is then used to predict items (or ratings for items) that users may have an Interest in.\n",
        "\n",
        "**Content-based filtering:** Content-based filtering approaches uses a series of discrete characteristics of an item in order to recommend additional items with similar properties. Content-based filtering methods are totally based on a description of the item and a profile of the user's preferences. It recommends items based on the user's past preferences. Let's develop a basic recommendation system using Python and Pandas.\n",
        "\n",
        "Let's develop a basic recommendation system by suggesting items that are most similar to a particular item, in this case, movies. It just tells what movies/items are most similar to the user's movie choice."
      ],
      "metadata": {
        "id": "lQgfHl9c5xUg"
      }
    },
    {
      "cell_type": "markdown",
      "source": [
        "##**Import Library**"
      ],
      "metadata": {
        "id": "eAN320Ea6HSZ"
      }
    },
    {
      "cell_type": "code",
      "execution_count": 1,
      "metadata": {
        "id": "eHMtWmZnpP6G"
      },
      "outputs": [],
      "source": [
        "import pandas as pd\n",
        "import numpy as np"
      ]
    },
    {
      "cell_type": "markdown",
      "source": [
        "##**Import Dataset**"
      ],
      "metadata": {
        "id": "zctLJ9fS6SF-"
      }
    },
    {
      "cell_type": "code",
      "source": [
        "a=pd.read_csv(\"/content/Movies Recommendation (1).csv\")"
      ],
      "metadata": {
        "id": "XosKN2u8pa9_"
      },
      "execution_count": 2,
      "outputs": []
    },
    {
      "cell_type": "code",
      "source": [
        "a.head()"
      ],
      "metadata": {
        "colab": {
          "base_uri": "https://localhost:8080/",
          "height": 672
        },
        "id": "gQhBW2WTgHzh",
        "outputId": "13e12047-45f4-4b96-ceed-350d2d9f5edb"
      },
      "execution_count": 3,
      "outputs": [
        {
          "output_type": "execute_result",
          "data": {
            "text/plain": [
              "   Movie_ID      Movie_Title                       Movie_Genre Movie_Language  \\\n",
              "0         1       Four Rooms                      Crime Comedy             en   \n",
              "1         2        Star Wars  Adventure Action Science Fiction             en   \n",
              "2         3     Finding Nemo                  Animation Family             en   \n",
              "3         4     Forrest Gump              Comedy Drama Romance             en   \n",
              "4         5  American Beauty                             Drama             en   \n",
              "\n",
              "   Movie_Budget  Movie_Popularity Movie_Release_Date  Movie_Revenue  \\\n",
              "0       4000000         22.876230         09-12-1995        4300000   \n",
              "1      11000000        126.393695         25-05-1977      775398007   \n",
              "2      94000000         85.688789         30-05-2003      940335536   \n",
              "3      55000000        138.133331         06-07-1994      677945399   \n",
              "4      15000000         80.878605         15-09-1999      356296601   \n",
              "\n",
              "   Movie_Runtime  Movie_Vote  ...  \\\n",
              "0           98.0         6.5  ...   \n",
              "1          121.0         8.1  ...   \n",
              "2          100.0         7.6  ...   \n",
              "3          142.0         8.2  ...   \n",
              "4          122.0         7.9  ...   \n",
              "\n",
              "                                      Movie_Homepage  \\\n",
              "0                                                NaN   \n",
              "1  http://www.starwars.com/films/star-wars-episod...   \n",
              "2              http://movies.disney.com/finding-nemo   \n",
              "3                                                NaN   \n",
              "4                      http://www.dreamworks.com/ab/   \n",
              "\n",
              "                                      Movie_Keywords  \\\n",
              "0          hotel new year's eve witch bet hotel room   \n",
              "1        android galaxy hermit death star lightsaber   \n",
              "2  father son relationship harbor underwater fish...   \n",
              "3  vietnam veteran hippie mentally disabled runni...   \n",
              "4  male nudity female nudity adultery midlife cri...   \n",
              "\n",
              "                                      Movie_Overview  \\\n",
              "0  It's Ted the Bellhop's first night on the job....   \n",
              "1  Princess Leia is captured and held hostage by ...   \n",
              "2  Nemo, an adventurous young clownfish, is unexp...   \n",
              "3  A man with a low IQ has accomplished great thi...   \n",
              "4  Lester Burnham, a depressed suburban father in...   \n",
              "\n",
              "                              Movie_Production_House  \\\n",
              "0  [{\"name\": \"Miramax Films\", \"id\": 14}, {\"name\":...   \n",
              "1  [{\"name\": \"Lucasfilm\", \"id\": 1}, {\"name\": \"Twe...   \n",
              "2     [{\"name\": \"Pixar Animation Studios\", \"id\": 3}]   \n",
              "3          [{\"name\": \"Paramount Pictures\", \"id\": 4}]   \n",
              "4  [{\"name\": \"DreamWorks SKG\", \"id\": 27}, {\"name\"...   \n",
              "\n",
              "                            Movie_Production_Country  \\\n",
              "0  [{\"iso_3166_1\": \"US\", \"name\": \"United States o...   \n",
              "1  [{\"iso_3166_1\": \"US\", \"name\": \"United States o...   \n",
              "2  [{\"iso_3166_1\": \"US\", \"name\": \"United States o...   \n",
              "3  [{\"iso_3166_1\": \"US\", \"name\": \"United States o...   \n",
              "4  [{\"iso_3166_1\": \"US\", \"name\": \"United States o...   \n",
              "\n",
              "                      Movie_Spoken_Language  \\\n",
              "0  [{\"iso_639_1\": \"en\", \"name\": \"English\"}]   \n",
              "1  [{\"iso_639_1\": \"en\", \"name\": \"English\"}]   \n",
              "2  [{\"iso_639_1\": \"en\", \"name\": \"English\"}]   \n",
              "3  [{\"iso_639_1\": \"en\", \"name\": \"English\"}]   \n",
              "4  [{\"iso_639_1\": \"en\", \"name\": \"English\"}]   \n",
              "\n",
              "                                       Movie_Tagline  \\\n",
              "0  Twelve outrageous guests. Four scandalous requ...   \n",
              "1       A long time ago in a galaxy far, far away...   \n",
              "2  There are 3.7 trillion fish in the ocean, they...   \n",
              "3  The world will never be the same, once you've ...   \n",
              "4                                       Look closer.   \n",
              "\n",
              "                                          Movie_Cast  \\\n",
              "0  Tim Roth Antonio Banderas Jennifer Beals Madon...   \n",
              "1  Mark Hamill Harrison Ford Carrie Fisher Peter ...   \n",
              "2  Albert Brooks Ellen DeGeneres Alexander Gould ...   \n",
              "3  Tom Hanks Robin Wright Gary Sinise Mykelti Wil...   \n",
              "4  Kevin Spacey Annette Bening Thora Birch Wes Be...   \n",
              "\n",
              "                                          Movie_Crew   Movie_Director  \n",
              "0  [{'name': 'Allison Anders', 'gender': 1, 'depa...   Allison Anders  \n",
              "1  [{'name': 'George Lucas', 'gender': 2, 'depart...     George Lucas  \n",
              "2  [{'name': 'Andrew Stanton', 'gender': 2, 'depa...   Andrew Stanton  \n",
              "3  [{'name': 'Alan Silvestri', 'gender': 2, 'depa...  Robert Zemeckis  \n",
              "4  [{'name': 'Thomas Newman', 'gender': 2, 'depar...       Sam Mendes  \n",
              "\n",
              "[5 rows x 21 columns]"
            ],
            "text/html": [
              "\n",
              "  <div id=\"df-14444d2e-eb65-4af1-b435-2ceb393bd161\" class=\"colab-df-container\">\n",
              "    <div>\n",
              "<style scoped>\n",
              "    .dataframe tbody tr th:only-of-type {\n",
              "        vertical-align: middle;\n",
              "    }\n",
              "\n",
              "    .dataframe tbody tr th {\n",
              "        vertical-align: top;\n",
              "    }\n",
              "\n",
              "    .dataframe thead th {\n",
              "        text-align: right;\n",
              "    }\n",
              "</style>\n",
              "<table border=\"1\" class=\"dataframe\">\n",
              "  <thead>\n",
              "    <tr style=\"text-align: right;\">\n",
              "      <th></th>\n",
              "      <th>Movie_ID</th>\n",
              "      <th>Movie_Title</th>\n",
              "      <th>Movie_Genre</th>\n",
              "      <th>Movie_Language</th>\n",
              "      <th>Movie_Budget</th>\n",
              "      <th>Movie_Popularity</th>\n",
              "      <th>Movie_Release_Date</th>\n",
              "      <th>Movie_Revenue</th>\n",
              "      <th>Movie_Runtime</th>\n",
              "      <th>Movie_Vote</th>\n",
              "      <th>...</th>\n",
              "      <th>Movie_Homepage</th>\n",
              "      <th>Movie_Keywords</th>\n",
              "      <th>Movie_Overview</th>\n",
              "      <th>Movie_Production_House</th>\n",
              "      <th>Movie_Production_Country</th>\n",
              "      <th>Movie_Spoken_Language</th>\n",
              "      <th>Movie_Tagline</th>\n",
              "      <th>Movie_Cast</th>\n",
              "      <th>Movie_Crew</th>\n",
              "      <th>Movie_Director</th>\n",
              "    </tr>\n",
              "  </thead>\n",
              "  <tbody>\n",
              "    <tr>\n",
              "      <th>0</th>\n",
              "      <td>1</td>\n",
              "      <td>Four Rooms</td>\n",
              "      <td>Crime Comedy</td>\n",
              "      <td>en</td>\n",
              "      <td>4000000</td>\n",
              "      <td>22.876230</td>\n",
              "      <td>09-12-1995</td>\n",
              "      <td>4300000</td>\n",
              "      <td>98.0</td>\n",
              "      <td>6.5</td>\n",
              "      <td>...</td>\n",
              "      <td>NaN</td>\n",
              "      <td>hotel new year's eve witch bet hotel room</td>\n",
              "      <td>It's Ted the Bellhop's first night on the job....</td>\n",
              "      <td>[{\"name\": \"Miramax Films\", \"id\": 14}, {\"name\":...</td>\n",
              "      <td>[{\"iso_3166_1\": \"US\", \"name\": \"United States o...</td>\n",
              "      <td>[{\"iso_639_1\": \"en\", \"name\": \"English\"}]</td>\n",
              "      <td>Twelve outrageous guests. Four scandalous requ...</td>\n",
              "      <td>Tim Roth Antonio Banderas Jennifer Beals Madon...</td>\n",
              "      <td>[{'name': 'Allison Anders', 'gender': 1, 'depa...</td>\n",
              "      <td>Allison Anders</td>\n",
              "    </tr>\n",
              "    <tr>\n",
              "      <th>1</th>\n",
              "      <td>2</td>\n",
              "      <td>Star Wars</td>\n",
              "      <td>Adventure Action Science Fiction</td>\n",
              "      <td>en</td>\n",
              "      <td>11000000</td>\n",
              "      <td>126.393695</td>\n",
              "      <td>25-05-1977</td>\n",
              "      <td>775398007</td>\n",
              "      <td>121.0</td>\n",
              "      <td>8.1</td>\n",
              "      <td>...</td>\n",
              "      <td>http://www.starwars.com/films/star-wars-episod...</td>\n",
              "      <td>android galaxy hermit death star lightsaber</td>\n",
              "      <td>Princess Leia is captured and held hostage by ...</td>\n",
              "      <td>[{\"name\": \"Lucasfilm\", \"id\": 1}, {\"name\": \"Twe...</td>\n",
              "      <td>[{\"iso_3166_1\": \"US\", \"name\": \"United States o...</td>\n",
              "      <td>[{\"iso_639_1\": \"en\", \"name\": \"English\"}]</td>\n",
              "      <td>A long time ago in a galaxy far, far away...</td>\n",
              "      <td>Mark Hamill Harrison Ford Carrie Fisher Peter ...</td>\n",
              "      <td>[{'name': 'George Lucas', 'gender': 2, 'depart...</td>\n",
              "      <td>George Lucas</td>\n",
              "    </tr>\n",
              "    <tr>\n",
              "      <th>2</th>\n",
              "      <td>3</td>\n",
              "      <td>Finding Nemo</td>\n",
              "      <td>Animation Family</td>\n",
              "      <td>en</td>\n",
              "      <td>94000000</td>\n",
              "      <td>85.688789</td>\n",
              "      <td>30-05-2003</td>\n",
              "      <td>940335536</td>\n",
              "      <td>100.0</td>\n",
              "      <td>7.6</td>\n",
              "      <td>...</td>\n",
              "      <td>http://movies.disney.com/finding-nemo</td>\n",
              "      <td>father son relationship harbor underwater fish...</td>\n",
              "      <td>Nemo, an adventurous young clownfish, is unexp...</td>\n",
              "      <td>[{\"name\": \"Pixar Animation Studios\", \"id\": 3}]</td>\n",
              "      <td>[{\"iso_3166_1\": \"US\", \"name\": \"United States o...</td>\n",
              "      <td>[{\"iso_639_1\": \"en\", \"name\": \"English\"}]</td>\n",
              "      <td>There are 3.7 trillion fish in the ocean, they...</td>\n",
              "      <td>Albert Brooks Ellen DeGeneres Alexander Gould ...</td>\n",
              "      <td>[{'name': 'Andrew Stanton', 'gender': 2, 'depa...</td>\n",
              "      <td>Andrew Stanton</td>\n",
              "    </tr>\n",
              "    <tr>\n",
              "      <th>3</th>\n",
              "      <td>4</td>\n",
              "      <td>Forrest Gump</td>\n",
              "      <td>Comedy Drama Romance</td>\n",
              "      <td>en</td>\n",
              "      <td>55000000</td>\n",
              "      <td>138.133331</td>\n",
              "      <td>06-07-1994</td>\n",
              "      <td>677945399</td>\n",
              "      <td>142.0</td>\n",
              "      <td>8.2</td>\n",
              "      <td>...</td>\n",
              "      <td>NaN</td>\n",
              "      <td>vietnam veteran hippie mentally disabled runni...</td>\n",
              "      <td>A man with a low IQ has accomplished great thi...</td>\n",
              "      <td>[{\"name\": \"Paramount Pictures\", \"id\": 4}]</td>\n",
              "      <td>[{\"iso_3166_1\": \"US\", \"name\": \"United States o...</td>\n",
              "      <td>[{\"iso_639_1\": \"en\", \"name\": \"English\"}]</td>\n",
              "      <td>The world will never be the same, once you've ...</td>\n",
              "      <td>Tom Hanks Robin Wright Gary Sinise Mykelti Wil...</td>\n",
              "      <td>[{'name': 'Alan Silvestri', 'gender': 2, 'depa...</td>\n",
              "      <td>Robert Zemeckis</td>\n",
              "    </tr>\n",
              "    <tr>\n",
              "      <th>4</th>\n",
              "      <td>5</td>\n",
              "      <td>American Beauty</td>\n",
              "      <td>Drama</td>\n",
              "      <td>en</td>\n",
              "      <td>15000000</td>\n",
              "      <td>80.878605</td>\n",
              "      <td>15-09-1999</td>\n",
              "      <td>356296601</td>\n",
              "      <td>122.0</td>\n",
              "      <td>7.9</td>\n",
              "      <td>...</td>\n",
              "      <td>http://www.dreamworks.com/ab/</td>\n",
              "      <td>male nudity female nudity adultery midlife cri...</td>\n",
              "      <td>Lester Burnham, a depressed suburban father in...</td>\n",
              "      <td>[{\"name\": \"DreamWorks SKG\", \"id\": 27}, {\"name\"...</td>\n",
              "      <td>[{\"iso_3166_1\": \"US\", \"name\": \"United States o...</td>\n",
              "      <td>[{\"iso_639_1\": \"en\", \"name\": \"English\"}]</td>\n",
              "      <td>Look closer.</td>\n",
              "      <td>Kevin Spacey Annette Bening Thora Birch Wes Be...</td>\n",
              "      <td>[{'name': 'Thomas Newman', 'gender': 2, 'depar...</td>\n",
              "      <td>Sam Mendes</td>\n",
              "    </tr>\n",
              "  </tbody>\n",
              "</table>\n",
              "<p>5 rows × 21 columns</p>\n",
              "</div>\n",
              "    <div class=\"colab-df-buttons\">\n",
              "\n",
              "  <div class=\"colab-df-container\">\n",
              "    <button class=\"colab-df-convert\" onclick=\"convertToInteractive('df-14444d2e-eb65-4af1-b435-2ceb393bd161')\"\n",
              "            title=\"Convert this dataframe to an interactive table.\"\n",
              "            style=\"display:none;\">\n",
              "\n",
              "  <svg xmlns=\"http://www.w3.org/2000/svg\" height=\"24px\" viewBox=\"0 -960 960 960\">\n",
              "    <path d=\"M120-120v-720h720v720H120Zm60-500h600v-160H180v160Zm220 220h160v-160H400v160Zm0 220h160v-160H400v160ZM180-400h160v-160H180v160Zm440 0h160v-160H620v160ZM180-180h160v-160H180v160Zm440 0h160v-160H620v160Z\"/>\n",
              "  </svg>\n",
              "    </button>\n",
              "\n",
              "  <style>\n",
              "    .colab-df-container {\n",
              "      display:flex;\n",
              "      gap: 12px;\n",
              "    }\n",
              "\n",
              "    .colab-df-convert {\n",
              "      background-color: #E8F0FE;\n",
              "      border: none;\n",
              "      border-radius: 50%;\n",
              "      cursor: pointer;\n",
              "      display: none;\n",
              "      fill: #1967D2;\n",
              "      height: 32px;\n",
              "      padding: 0 0 0 0;\n",
              "      width: 32px;\n",
              "    }\n",
              "\n",
              "    .colab-df-convert:hover {\n",
              "      background-color: #E2EBFA;\n",
              "      box-shadow: 0px 1px 2px rgba(60, 64, 67, 0.3), 0px 1px 3px 1px rgba(60, 64, 67, 0.15);\n",
              "      fill: #174EA6;\n",
              "    }\n",
              "\n",
              "    .colab-df-buttons div {\n",
              "      margin-bottom: 4px;\n",
              "    }\n",
              "\n",
              "    [theme=dark] .colab-df-convert {\n",
              "      background-color: #3B4455;\n",
              "      fill: #D2E3FC;\n",
              "    }\n",
              "\n",
              "    [theme=dark] .colab-df-convert:hover {\n",
              "      background-color: #434B5C;\n",
              "      box-shadow: 0px 1px 3px 1px rgba(0, 0, 0, 0.15);\n",
              "      filter: drop-shadow(0px 1px 2px rgba(0, 0, 0, 0.3));\n",
              "      fill: #FFFFFF;\n",
              "    }\n",
              "  </style>\n",
              "\n",
              "    <script>\n",
              "      const buttonEl =\n",
              "        document.querySelector('#df-14444d2e-eb65-4af1-b435-2ceb393bd161 button.colab-df-convert');\n",
              "      buttonEl.style.display =\n",
              "        google.colab.kernel.accessAllowed ? 'block' : 'none';\n",
              "\n",
              "      async function convertToInteractive(key) {\n",
              "        const element = document.querySelector('#df-14444d2e-eb65-4af1-b435-2ceb393bd161');\n",
              "        const dataTable =\n",
              "          await google.colab.kernel.invokeFunction('convertToInteractive',\n",
              "                                                    [key], {});\n",
              "        if (!dataTable) return;\n",
              "\n",
              "        const docLinkHtml = 'Like what you see? Visit the ' +\n",
              "          '<a target=\"_blank\" href=https://colab.research.google.com/notebooks/data_table.ipynb>data table notebook</a>'\n",
              "          + ' to learn more about interactive tables.';\n",
              "        element.innerHTML = '';\n",
              "        dataTable['output_type'] = 'display_data';\n",
              "        await google.colab.output.renderOutput(dataTable, element);\n",
              "        const docLink = document.createElement('div');\n",
              "        docLink.innerHTML = docLinkHtml;\n",
              "        element.appendChild(docLink);\n",
              "      }\n",
              "    </script>\n",
              "  </div>\n",
              "\n",
              "\n",
              "<div id=\"df-a794c15f-bc56-4dc1-865f-bd306b5dc4d5\">\n",
              "  <button class=\"colab-df-quickchart\" onclick=\"quickchart('df-a794c15f-bc56-4dc1-865f-bd306b5dc4d5')\"\n",
              "            title=\"Suggest charts\"\n",
              "            style=\"display:none;\">\n",
              "\n",
              "<svg xmlns=\"http://www.w3.org/2000/svg\" height=\"24px\"viewBox=\"0 0 24 24\"\n",
              "     width=\"24px\">\n",
              "    <g>\n",
              "        <path d=\"M19 3H5c-1.1 0-2 .9-2 2v14c0 1.1.9 2 2 2h14c1.1 0 2-.9 2-2V5c0-1.1-.9-2-2-2zM9 17H7v-7h2v7zm4 0h-2V7h2v10zm4 0h-2v-4h2v4z\"/>\n",
              "    </g>\n",
              "</svg>\n",
              "  </button>\n",
              "\n",
              "<style>\n",
              "  .colab-df-quickchart {\n",
              "      --bg-color: #E8F0FE;\n",
              "      --fill-color: #1967D2;\n",
              "      --hover-bg-color: #E2EBFA;\n",
              "      --hover-fill-color: #174EA6;\n",
              "      --disabled-fill-color: #AAA;\n",
              "      --disabled-bg-color: #DDD;\n",
              "  }\n",
              "\n",
              "  [theme=dark] .colab-df-quickchart {\n",
              "      --bg-color: #3B4455;\n",
              "      --fill-color: #D2E3FC;\n",
              "      --hover-bg-color: #434B5C;\n",
              "      --hover-fill-color: #FFFFFF;\n",
              "      --disabled-bg-color: #3B4455;\n",
              "      --disabled-fill-color: #666;\n",
              "  }\n",
              "\n",
              "  .colab-df-quickchart {\n",
              "    background-color: var(--bg-color);\n",
              "    border: none;\n",
              "    border-radius: 50%;\n",
              "    cursor: pointer;\n",
              "    display: none;\n",
              "    fill: var(--fill-color);\n",
              "    height: 32px;\n",
              "    padding: 0;\n",
              "    width: 32px;\n",
              "  }\n",
              "\n",
              "  .colab-df-quickchart:hover {\n",
              "    background-color: var(--hover-bg-color);\n",
              "    box-shadow: 0 1px 2px rgba(60, 64, 67, 0.3), 0 1px 3px 1px rgba(60, 64, 67, 0.15);\n",
              "    fill: var(--button-hover-fill-color);\n",
              "  }\n",
              "\n",
              "  .colab-df-quickchart-complete:disabled,\n",
              "  .colab-df-quickchart-complete:disabled:hover {\n",
              "    background-color: var(--disabled-bg-color);\n",
              "    fill: var(--disabled-fill-color);\n",
              "    box-shadow: none;\n",
              "  }\n",
              "\n",
              "  .colab-df-spinner {\n",
              "    border: 2px solid var(--fill-color);\n",
              "    border-color: transparent;\n",
              "    border-bottom-color: var(--fill-color);\n",
              "    animation:\n",
              "      spin 1s steps(1) infinite;\n",
              "  }\n",
              "\n",
              "  @keyframes spin {\n",
              "    0% {\n",
              "      border-color: transparent;\n",
              "      border-bottom-color: var(--fill-color);\n",
              "      border-left-color: var(--fill-color);\n",
              "    }\n",
              "    20% {\n",
              "      border-color: transparent;\n",
              "      border-left-color: var(--fill-color);\n",
              "      border-top-color: var(--fill-color);\n",
              "    }\n",
              "    30% {\n",
              "      border-color: transparent;\n",
              "      border-left-color: var(--fill-color);\n",
              "      border-top-color: var(--fill-color);\n",
              "      border-right-color: var(--fill-color);\n",
              "    }\n",
              "    40% {\n",
              "      border-color: transparent;\n",
              "      border-right-color: var(--fill-color);\n",
              "      border-top-color: var(--fill-color);\n",
              "    }\n",
              "    60% {\n",
              "      border-color: transparent;\n",
              "      border-right-color: var(--fill-color);\n",
              "    }\n",
              "    80% {\n",
              "      border-color: transparent;\n",
              "      border-right-color: var(--fill-color);\n",
              "      border-bottom-color: var(--fill-color);\n",
              "    }\n",
              "    90% {\n",
              "      border-color: transparent;\n",
              "      border-bottom-color: var(--fill-color);\n",
              "    }\n",
              "  }\n",
              "</style>\n",
              "\n",
              "  <script>\n",
              "    async function quickchart(key) {\n",
              "      const quickchartButtonEl =\n",
              "        document.querySelector('#' + key + ' button');\n",
              "      quickchartButtonEl.disabled = true;  // To prevent multiple clicks.\n",
              "      quickchartButtonEl.classList.add('colab-df-spinner');\n",
              "      try {\n",
              "        const charts = await google.colab.kernel.invokeFunction(\n",
              "            'suggestCharts', [key], {});\n",
              "      } catch (error) {\n",
              "        console.error('Error during call to suggestCharts:', error);\n",
              "      }\n",
              "      quickchartButtonEl.classList.remove('colab-df-spinner');\n",
              "      quickchartButtonEl.classList.add('colab-df-quickchart-complete');\n",
              "    }\n",
              "    (() => {\n",
              "      let quickchartButtonEl =\n",
              "        document.querySelector('#df-a794c15f-bc56-4dc1-865f-bd306b5dc4d5 button');\n",
              "      quickchartButtonEl.style.display =\n",
              "        google.colab.kernel.accessAllowed ? 'block' : 'none';\n",
              "    })();\n",
              "  </script>\n",
              "</div>\n",
              "\n",
              "    </div>\n",
              "  </div>\n"
            ],
            "application/vnd.google.colaboratory.intrinsic+json": {
              "type": "dataframe",
              "variable_name": "a"
            }
          },
          "metadata": {},
          "execution_count": 3
        }
      ]
    },
    {
      "cell_type": "code",
      "source": [
        "a.info()"
      ],
      "metadata": {
        "colab": {
          "base_uri": "https://localhost:8080/"
        },
        "id": "W9xdFoUlhQfM",
        "outputId": "d8cab245-5351-430f-c779-267edc2fc494"
      },
      "execution_count": 4,
      "outputs": [
        {
          "output_type": "stream",
          "name": "stdout",
          "text": [
            "<class 'pandas.core.frame.DataFrame'>\n",
            "RangeIndex: 4760 entries, 0 to 4759\n",
            "Data columns (total 21 columns):\n",
            " #   Column                    Non-Null Count  Dtype  \n",
            "---  ------                    --------------  -----  \n",
            " 0   Movie_ID                  4760 non-null   int64  \n",
            " 1   Movie_Title               4760 non-null   object \n",
            " 2   Movie_Genre               4760 non-null   object \n",
            " 3   Movie_Language            4760 non-null   object \n",
            " 4   Movie_Budget              4760 non-null   int64  \n",
            " 5   Movie_Popularity          4760 non-null   float64\n",
            " 6   Movie_Release_Date        4760 non-null   object \n",
            " 7   Movie_Revenue             4760 non-null   int64  \n",
            " 8   Movie_Runtime             4758 non-null   float64\n",
            " 9   Movie_Vote                4760 non-null   float64\n",
            " 10  Movie_Vote_Count          4760 non-null   int64  \n",
            " 11  Movie_Homepage            1699 non-null   object \n",
            " 12  Movie_Keywords            4373 non-null   object \n",
            " 13  Movie_Overview            4757 non-null   object \n",
            " 14  Movie_Production_House    4760 non-null   object \n",
            " 15  Movie_Production_Country  4760 non-null   object \n",
            " 16  Movie_Spoken_Language     4760 non-null   object \n",
            " 17  Movie_Tagline             3942 non-null   object \n",
            " 18  Movie_Cast                4733 non-null   object \n",
            " 19  Movie_Crew                4760 non-null   object \n",
            " 20  Movie_Director            4738 non-null   object \n",
            "dtypes: float64(3), int64(4), object(14)\n",
            "memory usage: 781.1+ KB\n"
          ]
        }
      ]
    },
    {
      "cell_type": "code",
      "source": [
        "a.shape"
      ],
      "metadata": {
        "colab": {
          "base_uri": "https://localhost:8080/"
        },
        "id": "7JBJI6ExjJIR",
        "outputId": "feb8c077-e9ca-43f8-ffba-14e7224d8f40"
      },
      "execution_count": 5,
      "outputs": [
        {
          "output_type": "execute_result",
          "data": {
            "text/plain": [
              "(4760, 21)"
            ]
          },
          "metadata": {},
          "execution_count": 5
        }
      ]
    },
    {
      "cell_type": "code",
      "source": [
        "a.columns"
      ],
      "metadata": {
        "colab": {
          "base_uri": "https://localhost:8080/"
        },
        "id": "VC73MweQlGcK",
        "outputId": "c63579b7-123e-4212-8e11-ac556b1f4d30"
      },
      "execution_count": 6,
      "outputs": [
        {
          "output_type": "execute_result",
          "data": {
            "text/plain": [
              "Index(['Movie_ID', 'Movie_Title', 'Movie_Genre', 'Movie_Language',\n",
              "       'Movie_Budget', 'Movie_Popularity', 'Movie_Release_Date',\n",
              "       'Movie_Revenue', 'Movie_Runtime', 'Movie_Vote', 'Movie_Vote_Count',\n",
              "       'Movie_Homepage', 'Movie_Keywords', 'Movie_Overview',\n",
              "       'Movie_Production_House', 'Movie_Production_Country',\n",
              "       'Movie_Spoken_Language', 'Movie_Tagline', 'Movie_Cast', 'Movie_Crew',\n",
              "       'Movie_Director'],\n",
              "      dtype='object')"
            ]
          },
          "metadata": {},
          "execution_count": 6
        }
      ]
    },
    {
      "cell_type": "code",
      "source": [
        "a_features = a[['Movie_Genre','Movie_Keywords', 'Movie_Tagline','Movie_Cast','Movie_Director']].fillna('')"
      ],
      "metadata": {
        "id": "_dmKzZUSlM-q"
      },
      "execution_count": 7,
      "outputs": []
    },
    {
      "cell_type": "code",
      "source": [
        "a_features.shape"
      ],
      "metadata": {
        "colab": {
          "base_uri": "https://localhost:8080/"
        },
        "id": "-6IWhOS6mj6i",
        "outputId": "d3207a35-ce7c-4786-89a9-28ea8c5f2b67"
      },
      "execution_count": 8,
      "outputs": [
        {
          "output_type": "execute_result",
          "data": {
            "text/plain": [
              "(4760, 5)"
            ]
          },
          "metadata": {},
          "execution_count": 8
        }
      ]
    },
    {
      "cell_type": "code",
      "source": [
        "a_features"
      ],
      "metadata": {
        "colab": {
          "base_uri": "https://localhost:8080/",
          "height": 493
        },
        "id": "L8D4P9CImqaU",
        "outputId": "9673eb4d-db0a-4233-8ab8-8fe1879d2af5"
      },
      "execution_count": 9,
      "outputs": [
        {
          "output_type": "execute_result",
          "data": {
            "text/plain": [
              "                           Movie_Genre  \\\n",
              "0                         Crime Comedy   \n",
              "1     Adventure Action Science Fiction   \n",
              "2                     Animation Family   \n",
              "3                 Comedy Drama Romance   \n",
              "4                                Drama   \n",
              "...                                ...   \n",
              "4755                            Horror   \n",
              "4756               Comedy Family Drama   \n",
              "4757                    Thriller Drama   \n",
              "4758                            Family   \n",
              "4759                       Documentary   \n",
              "\n",
              "                                         Movie_Keywords  \\\n",
              "0             hotel new year's eve witch bet hotel room   \n",
              "1           android galaxy hermit death star lightsaber   \n",
              "2     father son relationship harbor underwater fish...   \n",
              "3     vietnam veteran hippie mentally disabled runni...   \n",
              "4     male nudity female nudity adultery midlife cri...   \n",
              "...                                                 ...   \n",
              "4755                                                      \n",
              "4756                                                      \n",
              "4757                     christian film sex trafficking   \n",
              "4758                                                      \n",
              "4759  music actors legendary perfomer classic hollyw...   \n",
              "\n",
              "                                          Movie_Tagline  \\\n",
              "0     Twelve outrageous guests. Four scandalous requ...   \n",
              "1          A long time ago in a galaxy far, far away...   \n",
              "2     There are 3.7 trillion fish in the ocean, they...   \n",
              "3     The world will never be the same, once you've ...   \n",
              "4                                          Look closer.   \n",
              "...                                                 ...   \n",
              "4755                The hot spot where Satan's waitin'.   \n",
              "4756           It’s better to stand out than to fit in.   \n",
              "4757           She never knew it could happen to her...   \n",
              "4758                                                      \n",
              "4759                                                      \n",
              "\n",
              "                                             Movie_Cast     Movie_Director  \n",
              "0     Tim Roth Antonio Banderas Jennifer Beals Madon...     Allison Anders  \n",
              "1     Mark Hamill Harrison Ford Carrie Fisher Peter ...       George Lucas  \n",
              "2     Albert Brooks Ellen DeGeneres Alexander Gould ...     Andrew Stanton  \n",
              "3     Tom Hanks Robin Wright Gary Sinise Mykelti Wil...    Robert Zemeckis  \n",
              "4     Kevin Spacey Annette Bening Thora Birch Wes Be...         Sam Mendes  \n",
              "...                                                 ...                ...  \n",
              "4755  Lisa Hart Carroll Michael Des Barres Paul Drak...         Pece Dingo  \n",
              "4756  Roni Akurati Brighton Sharbino Jason Lee Anjul...       Frank Lotito  \n",
              "4757  Nicole Smolen Kim Baldwin Ariana Stephens Brys...       Jaco Booyens  \n",
              "4758                                                                        \n",
              "4759                                    Tony Oppedisano  Simon Napier-Bell  \n",
              "\n",
              "[4760 rows x 5 columns]"
            ],
            "text/html": [
              "\n",
              "  <div id=\"df-1fca14ee-94c1-4236-b0ac-4a4efc2cf169\" class=\"colab-df-container\">\n",
              "    <div>\n",
              "<style scoped>\n",
              "    .dataframe tbody tr th:only-of-type {\n",
              "        vertical-align: middle;\n",
              "    }\n",
              "\n",
              "    .dataframe tbody tr th {\n",
              "        vertical-align: top;\n",
              "    }\n",
              "\n",
              "    .dataframe thead th {\n",
              "        text-align: right;\n",
              "    }\n",
              "</style>\n",
              "<table border=\"1\" class=\"dataframe\">\n",
              "  <thead>\n",
              "    <tr style=\"text-align: right;\">\n",
              "      <th></th>\n",
              "      <th>Movie_Genre</th>\n",
              "      <th>Movie_Keywords</th>\n",
              "      <th>Movie_Tagline</th>\n",
              "      <th>Movie_Cast</th>\n",
              "      <th>Movie_Director</th>\n",
              "    </tr>\n",
              "  </thead>\n",
              "  <tbody>\n",
              "    <tr>\n",
              "      <th>0</th>\n",
              "      <td>Crime Comedy</td>\n",
              "      <td>hotel new year's eve witch bet hotel room</td>\n",
              "      <td>Twelve outrageous guests. Four scandalous requ...</td>\n",
              "      <td>Tim Roth Antonio Banderas Jennifer Beals Madon...</td>\n",
              "      <td>Allison Anders</td>\n",
              "    </tr>\n",
              "    <tr>\n",
              "      <th>1</th>\n",
              "      <td>Adventure Action Science Fiction</td>\n",
              "      <td>android galaxy hermit death star lightsaber</td>\n",
              "      <td>A long time ago in a galaxy far, far away...</td>\n",
              "      <td>Mark Hamill Harrison Ford Carrie Fisher Peter ...</td>\n",
              "      <td>George Lucas</td>\n",
              "    </tr>\n",
              "    <tr>\n",
              "      <th>2</th>\n",
              "      <td>Animation Family</td>\n",
              "      <td>father son relationship harbor underwater fish...</td>\n",
              "      <td>There are 3.7 trillion fish in the ocean, they...</td>\n",
              "      <td>Albert Brooks Ellen DeGeneres Alexander Gould ...</td>\n",
              "      <td>Andrew Stanton</td>\n",
              "    </tr>\n",
              "    <tr>\n",
              "      <th>3</th>\n",
              "      <td>Comedy Drama Romance</td>\n",
              "      <td>vietnam veteran hippie mentally disabled runni...</td>\n",
              "      <td>The world will never be the same, once you've ...</td>\n",
              "      <td>Tom Hanks Robin Wright Gary Sinise Mykelti Wil...</td>\n",
              "      <td>Robert Zemeckis</td>\n",
              "    </tr>\n",
              "    <tr>\n",
              "      <th>4</th>\n",
              "      <td>Drama</td>\n",
              "      <td>male nudity female nudity adultery midlife cri...</td>\n",
              "      <td>Look closer.</td>\n",
              "      <td>Kevin Spacey Annette Bening Thora Birch Wes Be...</td>\n",
              "      <td>Sam Mendes</td>\n",
              "    </tr>\n",
              "    <tr>\n",
              "      <th>...</th>\n",
              "      <td>...</td>\n",
              "      <td>...</td>\n",
              "      <td>...</td>\n",
              "      <td>...</td>\n",
              "      <td>...</td>\n",
              "    </tr>\n",
              "    <tr>\n",
              "      <th>4755</th>\n",
              "      <td>Horror</td>\n",
              "      <td></td>\n",
              "      <td>The hot spot where Satan's waitin'.</td>\n",
              "      <td>Lisa Hart Carroll Michael Des Barres Paul Drak...</td>\n",
              "      <td>Pece Dingo</td>\n",
              "    </tr>\n",
              "    <tr>\n",
              "      <th>4756</th>\n",
              "      <td>Comedy Family Drama</td>\n",
              "      <td></td>\n",
              "      <td>It’s better to stand out than to fit in.</td>\n",
              "      <td>Roni Akurati Brighton Sharbino Jason Lee Anjul...</td>\n",
              "      <td>Frank Lotito</td>\n",
              "    </tr>\n",
              "    <tr>\n",
              "      <th>4757</th>\n",
              "      <td>Thriller Drama</td>\n",
              "      <td>christian film sex trafficking</td>\n",
              "      <td>She never knew it could happen to her...</td>\n",
              "      <td>Nicole Smolen Kim Baldwin Ariana Stephens Brys...</td>\n",
              "      <td>Jaco Booyens</td>\n",
              "    </tr>\n",
              "    <tr>\n",
              "      <th>4758</th>\n",
              "      <td>Family</td>\n",
              "      <td></td>\n",
              "      <td></td>\n",
              "      <td></td>\n",
              "      <td></td>\n",
              "    </tr>\n",
              "    <tr>\n",
              "      <th>4759</th>\n",
              "      <td>Documentary</td>\n",
              "      <td>music actors legendary perfomer classic hollyw...</td>\n",
              "      <td></td>\n",
              "      <td>Tony Oppedisano</td>\n",
              "      <td>Simon Napier-Bell</td>\n",
              "    </tr>\n",
              "  </tbody>\n",
              "</table>\n",
              "<p>4760 rows × 5 columns</p>\n",
              "</div>\n",
              "    <div class=\"colab-df-buttons\">\n",
              "\n",
              "  <div class=\"colab-df-container\">\n",
              "    <button class=\"colab-df-convert\" onclick=\"convertToInteractive('df-1fca14ee-94c1-4236-b0ac-4a4efc2cf169')\"\n",
              "            title=\"Convert this dataframe to an interactive table.\"\n",
              "            style=\"display:none;\">\n",
              "\n",
              "  <svg xmlns=\"http://www.w3.org/2000/svg\" height=\"24px\" viewBox=\"0 -960 960 960\">\n",
              "    <path d=\"M120-120v-720h720v720H120Zm60-500h600v-160H180v160Zm220 220h160v-160H400v160Zm0 220h160v-160H400v160ZM180-400h160v-160H180v160Zm440 0h160v-160H620v160ZM180-180h160v-160H180v160Zm440 0h160v-160H620v160Z\"/>\n",
              "  </svg>\n",
              "    </button>\n",
              "\n",
              "  <style>\n",
              "    .colab-df-container {\n",
              "      display:flex;\n",
              "      gap: 12px;\n",
              "    }\n",
              "\n",
              "    .colab-df-convert {\n",
              "      background-color: #E8F0FE;\n",
              "      border: none;\n",
              "      border-radius: 50%;\n",
              "      cursor: pointer;\n",
              "      display: none;\n",
              "      fill: #1967D2;\n",
              "      height: 32px;\n",
              "      padding: 0 0 0 0;\n",
              "      width: 32px;\n",
              "    }\n",
              "\n",
              "    .colab-df-convert:hover {\n",
              "      background-color: #E2EBFA;\n",
              "      box-shadow: 0px 1px 2px rgba(60, 64, 67, 0.3), 0px 1px 3px 1px rgba(60, 64, 67, 0.15);\n",
              "      fill: #174EA6;\n",
              "    }\n",
              "\n",
              "    .colab-df-buttons div {\n",
              "      margin-bottom: 4px;\n",
              "    }\n",
              "\n",
              "    [theme=dark] .colab-df-convert {\n",
              "      background-color: #3B4455;\n",
              "      fill: #D2E3FC;\n",
              "    }\n",
              "\n",
              "    [theme=dark] .colab-df-convert:hover {\n",
              "      background-color: #434B5C;\n",
              "      box-shadow: 0px 1px 3px 1px rgba(0, 0, 0, 0.15);\n",
              "      filter: drop-shadow(0px 1px 2px rgba(0, 0, 0, 0.3));\n",
              "      fill: #FFFFFF;\n",
              "    }\n",
              "  </style>\n",
              "\n",
              "    <script>\n",
              "      const buttonEl =\n",
              "        document.querySelector('#df-1fca14ee-94c1-4236-b0ac-4a4efc2cf169 button.colab-df-convert');\n",
              "      buttonEl.style.display =\n",
              "        google.colab.kernel.accessAllowed ? 'block' : 'none';\n",
              "\n",
              "      async function convertToInteractive(key) {\n",
              "        const element = document.querySelector('#df-1fca14ee-94c1-4236-b0ac-4a4efc2cf169');\n",
              "        const dataTable =\n",
              "          await google.colab.kernel.invokeFunction('convertToInteractive',\n",
              "                                                    [key], {});\n",
              "        if (!dataTable) return;\n",
              "\n",
              "        const docLinkHtml = 'Like what you see? Visit the ' +\n",
              "          '<a target=\"_blank\" href=https://colab.research.google.com/notebooks/data_table.ipynb>data table notebook</a>'\n",
              "          + ' to learn more about interactive tables.';\n",
              "        element.innerHTML = '';\n",
              "        dataTable['output_type'] = 'display_data';\n",
              "        await google.colab.output.renderOutput(dataTable, element);\n",
              "        const docLink = document.createElement('div');\n",
              "        docLink.innerHTML = docLinkHtml;\n",
              "        element.appendChild(docLink);\n",
              "      }\n",
              "    </script>\n",
              "  </div>\n",
              "\n",
              "\n",
              "<div id=\"df-1710d8aa-3aea-4c53-a6b4-bba8e946c46f\">\n",
              "  <button class=\"colab-df-quickchart\" onclick=\"quickchart('df-1710d8aa-3aea-4c53-a6b4-bba8e946c46f')\"\n",
              "            title=\"Suggest charts\"\n",
              "            style=\"display:none;\">\n",
              "\n",
              "<svg xmlns=\"http://www.w3.org/2000/svg\" height=\"24px\"viewBox=\"0 0 24 24\"\n",
              "     width=\"24px\">\n",
              "    <g>\n",
              "        <path d=\"M19 3H5c-1.1 0-2 .9-2 2v14c0 1.1.9 2 2 2h14c1.1 0 2-.9 2-2V5c0-1.1-.9-2-2-2zM9 17H7v-7h2v7zm4 0h-2V7h2v10zm4 0h-2v-4h2v4z\"/>\n",
              "    </g>\n",
              "</svg>\n",
              "  </button>\n",
              "\n",
              "<style>\n",
              "  .colab-df-quickchart {\n",
              "      --bg-color: #E8F0FE;\n",
              "      --fill-color: #1967D2;\n",
              "      --hover-bg-color: #E2EBFA;\n",
              "      --hover-fill-color: #174EA6;\n",
              "      --disabled-fill-color: #AAA;\n",
              "      --disabled-bg-color: #DDD;\n",
              "  }\n",
              "\n",
              "  [theme=dark] .colab-df-quickchart {\n",
              "      --bg-color: #3B4455;\n",
              "      --fill-color: #D2E3FC;\n",
              "      --hover-bg-color: #434B5C;\n",
              "      --hover-fill-color: #FFFFFF;\n",
              "      --disabled-bg-color: #3B4455;\n",
              "      --disabled-fill-color: #666;\n",
              "  }\n",
              "\n",
              "  .colab-df-quickchart {\n",
              "    background-color: var(--bg-color);\n",
              "    border: none;\n",
              "    border-radius: 50%;\n",
              "    cursor: pointer;\n",
              "    display: none;\n",
              "    fill: var(--fill-color);\n",
              "    height: 32px;\n",
              "    padding: 0;\n",
              "    width: 32px;\n",
              "  }\n",
              "\n",
              "  .colab-df-quickchart:hover {\n",
              "    background-color: var(--hover-bg-color);\n",
              "    box-shadow: 0 1px 2px rgba(60, 64, 67, 0.3), 0 1px 3px 1px rgba(60, 64, 67, 0.15);\n",
              "    fill: var(--button-hover-fill-color);\n",
              "  }\n",
              "\n",
              "  .colab-df-quickchart-complete:disabled,\n",
              "  .colab-df-quickchart-complete:disabled:hover {\n",
              "    background-color: var(--disabled-bg-color);\n",
              "    fill: var(--disabled-fill-color);\n",
              "    box-shadow: none;\n",
              "  }\n",
              "\n",
              "  .colab-df-spinner {\n",
              "    border: 2px solid var(--fill-color);\n",
              "    border-color: transparent;\n",
              "    border-bottom-color: var(--fill-color);\n",
              "    animation:\n",
              "      spin 1s steps(1) infinite;\n",
              "  }\n",
              "\n",
              "  @keyframes spin {\n",
              "    0% {\n",
              "      border-color: transparent;\n",
              "      border-bottom-color: var(--fill-color);\n",
              "      border-left-color: var(--fill-color);\n",
              "    }\n",
              "    20% {\n",
              "      border-color: transparent;\n",
              "      border-left-color: var(--fill-color);\n",
              "      border-top-color: var(--fill-color);\n",
              "    }\n",
              "    30% {\n",
              "      border-color: transparent;\n",
              "      border-left-color: var(--fill-color);\n",
              "      border-top-color: var(--fill-color);\n",
              "      border-right-color: var(--fill-color);\n",
              "    }\n",
              "    40% {\n",
              "      border-color: transparent;\n",
              "      border-right-color: var(--fill-color);\n",
              "      border-top-color: var(--fill-color);\n",
              "    }\n",
              "    60% {\n",
              "      border-color: transparent;\n",
              "      border-right-color: var(--fill-color);\n",
              "    }\n",
              "    80% {\n",
              "      border-color: transparent;\n",
              "      border-right-color: var(--fill-color);\n",
              "      border-bottom-color: var(--fill-color);\n",
              "    }\n",
              "    90% {\n",
              "      border-color: transparent;\n",
              "      border-bottom-color: var(--fill-color);\n",
              "    }\n",
              "  }\n",
              "</style>\n",
              "\n",
              "  <script>\n",
              "    async function quickchart(key) {\n",
              "      const quickchartButtonEl =\n",
              "        document.querySelector('#' + key + ' button');\n",
              "      quickchartButtonEl.disabled = true;  // To prevent multiple clicks.\n",
              "      quickchartButtonEl.classList.add('colab-df-spinner');\n",
              "      try {\n",
              "        const charts = await google.colab.kernel.invokeFunction(\n",
              "            'suggestCharts', [key], {});\n",
              "      } catch (error) {\n",
              "        console.error('Error during call to suggestCharts:', error);\n",
              "      }\n",
              "      quickchartButtonEl.classList.remove('colab-df-spinner');\n",
              "      quickchartButtonEl.classList.add('colab-df-quickchart-complete');\n",
              "    }\n",
              "    (() => {\n",
              "      let quickchartButtonEl =\n",
              "        document.querySelector('#df-1710d8aa-3aea-4c53-a6b4-bba8e946c46f button');\n",
              "      quickchartButtonEl.style.display =\n",
              "        google.colab.kernel.accessAllowed ? 'block' : 'none';\n",
              "    })();\n",
              "  </script>\n",
              "</div>\n",
              "\n",
              "  <div id=\"id_58f374ee-7072-4874-8242-921f116445b3\">\n",
              "    <style>\n",
              "      .colab-df-generate {\n",
              "        background-color: #E8F0FE;\n",
              "        border: none;\n",
              "        border-radius: 50%;\n",
              "        cursor: pointer;\n",
              "        display: none;\n",
              "        fill: #1967D2;\n",
              "        height: 32px;\n",
              "        padding: 0 0 0 0;\n",
              "        width: 32px;\n",
              "      }\n",
              "\n",
              "      .colab-df-generate:hover {\n",
              "        background-color: #E2EBFA;\n",
              "        box-shadow: 0px 1px 2px rgba(60, 64, 67, 0.3), 0px 1px 3px 1px rgba(60, 64, 67, 0.15);\n",
              "        fill: #174EA6;\n",
              "      }\n",
              "\n",
              "      [theme=dark] .colab-df-generate {\n",
              "        background-color: #3B4455;\n",
              "        fill: #D2E3FC;\n",
              "      }\n",
              "\n",
              "      [theme=dark] .colab-df-generate:hover {\n",
              "        background-color: #434B5C;\n",
              "        box-shadow: 0px 1px 3px 1px rgba(0, 0, 0, 0.15);\n",
              "        filter: drop-shadow(0px 1px 2px rgba(0, 0, 0, 0.3));\n",
              "        fill: #FFFFFF;\n",
              "      }\n",
              "    </style>\n",
              "    <button class=\"colab-df-generate\" onclick=\"generateWithVariable('a_features')\"\n",
              "            title=\"Generate code using this dataframe.\"\n",
              "            style=\"display:none;\">\n",
              "\n",
              "  <svg xmlns=\"http://www.w3.org/2000/svg\" height=\"24px\"viewBox=\"0 0 24 24\"\n",
              "       width=\"24px\">\n",
              "    <path d=\"M7,19H8.4L18.45,9,17,7.55,7,17.6ZM5,21V16.75L18.45,3.32a2,2,0,0,1,2.83,0l1.4,1.43a1.91,1.91,0,0,1,.58,1.4,1.91,1.91,0,0,1-.58,1.4L9.25,21ZM18.45,9,17,7.55Zm-12,3A5.31,5.31,0,0,0,4.9,8.1,5.31,5.31,0,0,0,1,6.5,5.31,5.31,0,0,0,4.9,4.9,5.31,5.31,0,0,0,6.5,1,5.31,5.31,0,0,0,8.1,4.9,5.31,5.31,0,0,0,12,6.5,5.46,5.46,0,0,0,6.5,12Z\"/>\n",
              "  </svg>\n",
              "    </button>\n",
              "    <script>\n",
              "      (() => {\n",
              "      const buttonEl =\n",
              "        document.querySelector('#id_58f374ee-7072-4874-8242-921f116445b3 button.colab-df-generate');\n",
              "      buttonEl.style.display =\n",
              "        google.colab.kernel.accessAllowed ? 'block' : 'none';\n",
              "\n",
              "      buttonEl.onclick = () => {\n",
              "        google.colab.notebook.generateWithVariable('a_features');\n",
              "      }\n",
              "      })();\n",
              "    </script>\n",
              "  </div>\n",
              "\n",
              "    </div>\n",
              "  </div>\n"
            ],
            "application/vnd.google.colaboratory.intrinsic+json": {
              "type": "dataframe",
              "variable_name": "a_features",
              "summary": "{\n  \"name\": \"a_features\",\n  \"rows\": 4760,\n  \"fields\": [\n    {\n      \"column\": \"Movie_Genre\",\n      \"properties\": {\n        \"dtype\": \"category\",\n        \"num_unique_values\": 1164,\n        \"samples\": [\n          \"Family Animation Adventure\",\n          \"Adventure Science Fiction Action\",\n          \"Action Crime Drama Romance Thriller\"\n        ],\n        \"semantic_type\": \"\",\n        \"description\": \"\"\n      }\n    },\n    {\n      \"column\": \"Movie_Keywords\",\n      \"properties\": {\n        \"dtype\": \"string\",\n        \"num_unique_values\": 4203,\n        \"samples\": [\n          \"canada nazis sequel spin off ancient evil\",\n          \"sex professor wedding woman director columbia university\",\n          \"prophecy sea beach gold small town\"\n        ],\n        \"semantic_type\": \"\",\n        \"description\": \"\"\n      }\n    },\n    {\n      \"column\": \"Movie_Tagline\",\n      \"properties\": {\n        \"dtype\": \"string\",\n        \"num_unique_values\": 3928,\n        \"samples\": [\n          \"The messenger must be silenced.\",\n          \"It's not the house that's haunted.\",\n          \"The final hunt begins.\"\n        ],\n        \"semantic_type\": \"\",\n        \"description\": \"\"\n      }\n    },\n    {\n      \"column\": \"Movie_Cast\",\n      \"properties\": {\n        \"dtype\": \"string\",\n        \"num_unique_values\": 4715,\n        \"samples\": [\n          \"Robin Tunney Fairuza Balk Neve Campbell Rachel True Skeet Ulrich\",\n          \"Peter Sellers Christopher Plummer Herbert Lom Catherine Schell Peter Arne\",\n          \"John Wayne Laraine Day Cedric Hardwicke Judith Anderson Anthony Quinn\"\n        ],\n        \"semantic_type\": \"\",\n        \"description\": \"\"\n      }\n    },\n    {\n      \"column\": \"Movie_Director\",\n      \"properties\": {\n        \"dtype\": \"category\",\n        \"num_unique_values\": 2332,\n        \"samples\": [\n          \"Rob McKittrick\",\n          \"Terron R. Parsons\",\n          \"Cyrus Nowrasteh\"\n        ],\n        \"semantic_type\": \"\",\n        \"description\": \"\"\n      }\n    }\n  ]\n}"
            }
          },
          "metadata": {},
          "execution_count": 9
        }
      ]
    },
    {
      "cell_type": "code",
      "source": [
        "x = a_features['Movie_Genre']+''+ a_features['Movie_Keywords']+''+ a_features['Movie_Tagline']+''+ a_features['Movie_Cast']+''+ a_features['Movie_Director']"
      ],
      "metadata": {
        "id": "voYpTfZsnGS8"
      },
      "execution_count": 10,
      "outputs": []
    },
    {
      "cell_type": "code",
      "source": [
        "x"
      ],
      "metadata": {
        "colab": {
          "base_uri": "https://localhost:8080/",
          "height": 458
        },
        "id": "Jrje_6qloXmr",
        "outputId": "bce1ea14-b5d6-4433-84c8-f4bee35f7892"
      },
      "execution_count": 11,
      "outputs": [
        {
          "output_type": "execute_result",
          "data": {
            "text/plain": [
              "0       Crime Comedyhotel new year's eve witch bet hot...\n",
              "1       Adventure Action Science Fictionandroid galaxy...\n",
              "2       Animation Familyfather son relationship harbor...\n",
              "3       Comedy Drama Romancevietnam veteran hippie men...\n",
              "4       Dramamale nudity female nudity adultery midlif...\n",
              "                              ...                        \n",
              "4755    HorrorThe hot spot where Satan's waitin'.Lisa ...\n",
              "4756    Comedy Family DramaIt’s better to stand out th...\n",
              "4757    Thriller Dramachristian film sex traffickingSh...\n",
              "4758                                               Family\n",
              "4759    Documentarymusic actors legendary perfomer cla...\n",
              "Length: 4760, dtype: object"
            ],
            "text/html": [
              "<div>\n",
              "<style scoped>\n",
              "    .dataframe tbody tr th:only-of-type {\n",
              "        vertical-align: middle;\n",
              "    }\n",
              "\n",
              "    .dataframe tbody tr th {\n",
              "        vertical-align: top;\n",
              "    }\n",
              "\n",
              "    .dataframe thead th {\n",
              "        text-align: right;\n",
              "    }\n",
              "</style>\n",
              "<table border=\"1\" class=\"dataframe\">\n",
              "  <thead>\n",
              "    <tr style=\"text-align: right;\">\n",
              "      <th></th>\n",
              "      <th>0</th>\n",
              "    </tr>\n",
              "  </thead>\n",
              "  <tbody>\n",
              "    <tr>\n",
              "      <th>0</th>\n",
              "      <td>Crime Comedyhotel new year's eve witch bet hot...</td>\n",
              "    </tr>\n",
              "    <tr>\n",
              "      <th>1</th>\n",
              "      <td>Adventure Action Science Fictionandroid galaxy...</td>\n",
              "    </tr>\n",
              "    <tr>\n",
              "      <th>2</th>\n",
              "      <td>Animation Familyfather son relationship harbor...</td>\n",
              "    </tr>\n",
              "    <tr>\n",
              "      <th>3</th>\n",
              "      <td>Comedy Drama Romancevietnam veteran hippie men...</td>\n",
              "    </tr>\n",
              "    <tr>\n",
              "      <th>4</th>\n",
              "      <td>Dramamale nudity female nudity adultery midlif...</td>\n",
              "    </tr>\n",
              "    <tr>\n",
              "      <th>...</th>\n",
              "      <td>...</td>\n",
              "    </tr>\n",
              "    <tr>\n",
              "      <th>4755</th>\n",
              "      <td>HorrorThe hot spot where Satan's waitin'.Lisa ...</td>\n",
              "    </tr>\n",
              "    <tr>\n",
              "      <th>4756</th>\n",
              "      <td>Comedy Family DramaIt’s better to stand out th...</td>\n",
              "    </tr>\n",
              "    <tr>\n",
              "      <th>4757</th>\n",
              "      <td>Thriller Dramachristian film sex traffickingSh...</td>\n",
              "    </tr>\n",
              "    <tr>\n",
              "      <th>4758</th>\n",
              "      <td>Family</td>\n",
              "    </tr>\n",
              "    <tr>\n",
              "      <th>4759</th>\n",
              "      <td>Documentarymusic actors legendary perfomer cla...</td>\n",
              "    </tr>\n",
              "  </tbody>\n",
              "</table>\n",
              "<p>4760 rows × 1 columns</p>\n",
              "</div><br><label><b>dtype:</b> object</label>"
            ]
          },
          "metadata": {},
          "execution_count": 11
        }
      ]
    },
    {
      "cell_type": "code",
      "source": [
        "x.shape"
      ],
      "metadata": {
        "colab": {
          "base_uri": "https://localhost:8080/"
        },
        "id": "Ej4_m0LmqUA-",
        "outputId": "dfc72eb7-370e-4732-a4df-0bdff709195e"
      },
      "execution_count": 12,
      "outputs": [
        {
          "output_type": "execute_result",
          "data": {
            "text/plain": [
              "(4760,)"
            ]
          },
          "metadata": {},
          "execution_count": 12
        }
      ]
    },
    {
      "cell_type": "code",
      "source": [
        "from sklearn.feature_extraction.text import TfidfVectorizer"
      ],
      "metadata": {
        "id": "_CAy2foHs55P"
      },
      "execution_count": 13,
      "outputs": []
    },
    {
      "cell_type": "code",
      "source": [
        "tfidf = TfidfVectorizer()"
      ],
      "metadata": {
        "id": "6WsCmhcNtQ8Y"
      },
      "execution_count": 14,
      "outputs": []
    },
    {
      "cell_type": "code",
      "source": [
        "x = tfidf.fit_transform(x)"
      ],
      "metadata": {
        "id": "h7M6EdGLtWag"
      },
      "execution_count": 15,
      "outputs": []
    },
    {
      "cell_type": "code",
      "source": [
        "x.shape"
      ],
      "metadata": {
        "colab": {
          "base_uri": "https://localhost:8080/"
        },
        "id": "nDNbcr4BtnDW",
        "outputId": "f5bc442c-4bff-4b57-e4f0-f50bd2479036"
      },
      "execution_count": 16,
      "outputs": [
        {
          "output_type": "execute_result",
          "data": {
            "text/plain": [
              "(4760, 27466)"
            ]
          },
          "metadata": {},
          "execution_count": 16
        }
      ]
    },
    {
      "cell_type": "code",
      "source": [
        "print(x)"
      ],
      "metadata": {
        "colab": {
          "base_uri": "https://localhost:8080/"
        },
        "id": "o9vETOeQtqjt",
        "outputId": "4871a351-a80e-41cf-b50a-b2443a39c387"
      },
      "execution_count": 17,
      "outputs": [
        {
          "output_type": "stream",
          "name": "stdout",
          "text": [
            "  (0, 1028)\t0.16196019146631543\n",
            "  (0, 24785)\t0.1954632929283795\n",
            "  (0, 15844)\t0.14205053053187272\n",
            "  (0, 15553)\t0.17099186675469502\n",
            "  (0, 2132)\t0.18002354204307464\n",
            "  (0, 13312)\t0.09914387783149516\n",
            "  (0, 1887)\t0.14106037409792174\n",
            "  (0, 1216)\t0.13920306109638164\n",
            "  (0, 21158)\t0.14205053053187272\n",
            "  (0, 24701)\t0.11357423942624927\n",
            "  (0, 14943)\t0.091376722056839\n",
            "  (0, 18098)\t0.06200430666985742\n",
            "  (0, 26738)\t0.175053052455033\n",
            "  (0, 9790)\t0.08712552095655665\n",
            "  (0, 26675)\t0.1116831168780693\n",
            "  (0, 13401)\t0.13748876529263096\n",
            "  (0, 24105)\t0.10726395493180996\n",
            "  (0, 18192)\t0.07278761942152372\n",
            "  (0, 6172)\t0.11970212451073885\n",
            "  (0, 9626)\t0.11757910435818826\n",
            "  (0, 11960)\t0.20134029899961134\n",
            "  (0, 12801)\t0.1530338818199682\n",
            "  (0, 2292)\t0.1954632929283795\n",
            "  (0, 15172)\t0.1537691763994982\n",
            "  (0, 18196)\t0.08579029869987485\n",
            "  :\t:\n",
            "  (4757, 1839)\t0.19327629083107672\n",
            "  (4757, 5410)\t0.19734759150400596\n",
            "  (4757, 11350)\t0.21582294886514122\n",
            "  (4757, 22017)\t0.1646400247918531\n",
            "  (4757, 17789)\t0.18881341937258544\n",
            "  (4757, 9484)\t0.1411164779725638\n",
            "  (4757, 14176)\t0.2330831990045816\n",
            "  (4757, 11762)\t0.17321388936472645\n",
            "  (4757, 14052)\t0.1776312353410007\n",
            "  (4757, 24232)\t0.10947784435203887\n",
            "  (4757, 24746)\t0.09744940789814222\n",
            "  (4757, 13079)\t0.12400374714145113\n",
            "  (4757, 17721)\t0.1489085353667712\n",
            "  (4758, 8651)\t1.0\n",
            "  (4759, 18229)\t0.33527342183765224\n",
            "  (4759, 22434)\t0.33527342183765224\n",
            "  (4759, 18841)\t0.33527342183765224\n",
            "  (4759, 6950)\t0.33527342183765224\n",
            "  (4759, 345)\t0.31978160936741457\n",
            "  (4759, 14742)\t0.31978160936741457\n",
            "  (4759, 12139)\t0.2778063685558062\n",
            "  (4759, 4446)\t0.282306565154911\n",
            "  (4759, 17552)\t0.3087899934962816\n",
            "  (4759, 9955)\t0.21805075638656476\n",
            "  (4759, 2285)\t0.21465229435984196\n"
          ]
        }
      ]
    },
    {
      "cell_type": "code",
      "source": [
        "from sklearn.metrics.pairwise import cosine_similarity"
      ],
      "metadata": {
        "id": "jTRy9tqIttnj"
      },
      "execution_count": 18,
      "outputs": []
    },
    {
      "cell_type": "code",
      "source": [
        "Similarity_Score= cosine_similarity(x)"
      ],
      "metadata": {
        "id": "44ruelmnuUNj"
      },
      "execution_count": 19,
      "outputs": []
    },
    {
      "cell_type": "code",
      "source": [
        "Similarity_Score"
      ],
      "metadata": {
        "colab": {
          "base_uri": "https://localhost:8080/"
        },
        "id": "UBP6SIo8vL5_",
        "outputId": "92217694-36f6-42ab-8717-2866803bc231"
      },
      "execution_count": 20,
      "outputs": [
        {
          "output_type": "execute_result",
          "data": {
            "text/plain": [
              "array([[1.        , 0.01438634, 0.03807033, ..., 0.        , 0.        ,\n",
              "        0.        ],\n",
              "       [0.01438634, 1.        , 0.00844858, ..., 0.        , 0.        ,\n",
              "        0.        ],\n",
              "       [0.03807033, 0.00844858, 1.        , ..., 0.        , 0.        ,\n",
              "        0.        ],\n",
              "       ...,\n",
              "       [0.        , 0.        , 0.        , ..., 1.        , 0.        ,\n",
              "        0.        ],\n",
              "       [0.        , 0.        , 0.        , ..., 0.        , 1.        ,\n",
              "        0.        ],\n",
              "       [0.        , 0.        , 0.        , ..., 0.        , 0.        ,\n",
              "        1.        ]])"
            ]
          },
          "metadata": {},
          "execution_count": 20
        }
      ]
    },
    {
      "cell_type": "code",
      "source": [
        "Similarity_Score.shape"
      ],
      "metadata": {
        "colab": {
          "base_uri": "https://localhost:8080/"
        },
        "id": "7VrknWNivOYf",
        "outputId": "b2b00679-aac3-4c1e-c9c4-b84da1cffebd"
      },
      "execution_count": 21,
      "outputs": [
        {
          "output_type": "execute_result",
          "data": {
            "text/plain": [
              "(4760, 4760)"
            ]
          },
          "metadata": {},
          "execution_count": 21
        }
      ]
    },
    {
      "cell_type": "code",
      "source": [
        "Favourite_Movie_Name = input('Enter your favourite movie name :')"
      ],
      "metadata": {
        "colab": {
          "base_uri": "https://localhost:8080/"
        },
        "id": "sTZLnz5TvUTI",
        "outputId": "0c2d3bac-f349-41fe-dc23-bb078a127ecc"
      },
      "execution_count": 22,
      "outputs": [
        {
          "name": "stdout",
          "output_type": "stream",
          "text": [
            "Enter your favourite movie name :Harry Potter\n"
          ]
        }
      ]
    },
    {
      "cell_type": "code",
      "source": [
        "All_Movies_Title_List=a['Movie_Title'].tolist()"
      ],
      "metadata": {
        "id": "NHH41hgjxCkK"
      },
      "execution_count": 23,
      "outputs": []
    },
    {
      "cell_type": "code",
      "source": [
        "import difflib"
      ],
      "metadata": {
        "id": "ZSprlqwLxclS"
      },
      "execution_count": 24,
      "outputs": []
    },
    {
      "cell_type": "code",
      "source": [
        "Movie_Recommendation = difflib.get_close_matches(Favourite_Movie_Name, All_Movies_Title_List)\n",
        "print(Movie_Recommendation)"
      ],
      "metadata": {
        "colab": {
          "base_uri": "https://localhost:8080/"
        },
        "id": "9no2DsktxjNk",
        "outputId": "39d53c5b-e6da-473c-d377-6a12b2ff47eb"
      },
      "execution_count": 25,
      "outputs": [
        {
          "output_type": "stream",
          "name": "stdout",
          "text": [
            "['Party Monster', 'Miss Potter', 'Harry Brown']\n"
          ]
        }
      ]
    },
    {
      "cell_type": "code",
      "source": [
        "Close_Match = Movie_Recommendation[0]\n",
        "print(Close_Match)"
      ],
      "metadata": {
        "colab": {
          "base_uri": "https://localhost:8080/"
        },
        "id": "Iva6WWulyI1U",
        "outputId": "dfa70a33-110d-4f96-cc48-9affe5829b99"
      },
      "execution_count": 26,
      "outputs": [
        {
          "output_type": "stream",
          "name": "stdout",
          "text": [
            "Party Monster\n"
          ]
        }
      ]
    },
    {
      "cell_type": "code",
      "source": [
        "Index_of_Close_Match_Movie=a[a.Movie_Title == Close_Match]['Movie_ID'].values[0]\n",
        "print(Index_of_Close_Match_Movie)"
      ],
      "metadata": {
        "colab": {
          "base_uri": "https://localhost:8080/"
        },
        "id": "TjFWrRVeyrMd",
        "outputId": "dc60e077-20ad-4005-b1ae-0cb1119225e9"
      },
      "execution_count": 27,
      "outputs": [
        {
          "output_type": "stream",
          "name": "stdout",
          "text": [
            "480\n"
          ]
        }
      ]
    },
    {
      "cell_type": "code",
      "source": [
        "# getting a list of similar movies\n",
        "Recommendation_Score = list(enumerate(Similarity_Score[Index_of_Close_Match_Movie]))\n",
        "print(Recommendation_Score)"
      ],
      "metadata": {
        "colab": {
          "base_uri": "https://localhost:8080/"
        },
        "id": "LYv6I-W2zU9Y",
        "outputId": "1fee38f5-044c-4c30-efee-910207c1fdaf"
      },
      "execution_count": 28,
      "outputs": [
        {
          "output_type": "stream",
          "name": "stdout",
          "text": [
            "[(0, 0.0), (1, 0.0), (2, 0.0), (3, 0.013344229556764267), (4, 0.0), (5, 0.003745479707063078), (6, 0.025713446199740843), (7, 0.002825485004310851), (8, 0.004102383110682602), (9, 0.010951467868071076), (10, 0.0), (11, 0.0039015541357618542), (12, 0.004131967561841093), (13, 0.0), (14, 0.0), (15, 0.003417780413808514), (16, 0.003261881110284216), (17, 0.012179012004408324), (18, 0.02420477620972514), (19, 0.0037388433569091333), (20, 0.0), (21, 0.004238293878349938), (22, 0.0), (23, 0.0039051348284268005), (24, 0.0), (25, 0.013061497328178281), (26, 0.0), (27, 0.0), (28, 0.023855498161330098), (29, 0.003638989304590866), (30, 0.0), (31, 0.014686088736012091), (32, 0.003479819101527906), (33, 0.003349052031357875), (34, 0.003965768599473343), (35, 0.03754873257517449), (36, 0.027160290210246282), (37, 0.0), (38, 0.0), (39, 0.0), (40, 0.0), (41, 0.02793642220346126), (42, 0.0), (43, 0.0), (44, 0.0031881262058119464), (45, 0.0), (46, 0.02200265959812562), (47, 0.04653461327258548), (48, 0.004139471674610104), (49, 0.011417361368016582), (50, 0.0), (51, 0.003896357974144689), (52, 0.0035554673577540036), (53, 0.0), (54, 0.011745401361444639), (55, 0.0117526289348887), (56, 0.01181886616941903), (57, 0.009824075098572482), (58, 0.009982969353105558), (59, 0.0), (60, 0.013350533209162987), (61, 0.01482233154633619), (62, 0.004167401992661082), (63, 0.0031765625408726643), (64, 0.0), (65, 0.0), (66, 0.0), (67, 0.0), (68, 0.003988949489525521), (69, 0.0), (70, 0.0), (71, 0.01567143386333071), (72, 0.017769038704936645), (73, 0.0), (74, 0.00398237883562011), (75, 0.0), (76, 0.0), (77, 0.0381480954098616), (78, 0.0), (79, 0.003681560999636294), (80, 0.0), (81, 0.02642964803509623), (82, 0.0), (83, 0.0), (84, 0.011289519954313194), (85, 0.0036248997576217687), (86, 0.0), (87, 0.0038112889731102234), (88, 0.0), (89, 0.0), (90, 0.0), (91, 0.0), (92, 0.003498638716669489), (93, 0.0), (94, 0.0), (95, 0.0), (96, 0.03959868416922476), (97, 0.0032784924163658676), (98, 0.0), (99, 0.0), (100, 0.0), (101, 0.0), (102, 0.0), (103, 0.003415217970831588), (104, 0.003695164889373252), (105, 0.0), (106, 0.0), (107, 0.004212572198243109), (108, 0.05384008890323518), (109, 0.0036916458269872837), (110, 0.0), (111, 0.0035004148398499486), (112, 0.0036682936532247356), (113, 0.003091058125727322), (114, 0.0036864848969400013), (115, 0.05420995225058589), (116, 0.01458583571050965), (117, 0.0), (118, 0.0), (119, 0.0036179880143026558), (120, 0.004026249891864509), (121, 0.0035058435577006272), (122, 0.010593973862849469), (123, 0.0), (124, 0.0034362774873422626), (125, 0.014029411828137297), (126, 0.0036385514032594175), (127, 0.0035990321207835197), (128, 0.0), (129, 0.010990018785957806), (130, 0.010436280329045373), (131, 0.0), (132, 0.04210116751812524), (133, 0.0), (134, 0.0), (135, 0.0), (136, 0.0140999723707799), (137, 0.0), (138, 0.0), (139, 0.0), (140, 0.0), (141, 0.012164488185176616), (142, 0.003162475932536118), (143, 0.0), (144, 0.0), (145, 0.0), (146, 0.0), (147, 0.003349389889569277), (148, 0.0), (149, 0.0033797868521035055), (150, 0.0), (151, 0.0), (152, 0.011560249107224778), (153, 0.026226231714744218), (154, 0.04495134547181483), (155, 0.0), (156, 0.003056291221406696), (157, 0.0), (158, 0.0), (159, 0.0), (160, 0.0), (161, 0.0033773961909692044), (162, 0.0), (163, 0.0), (164, 0.0), (165, 0.003258642789805902), (166, 0.0033803121617680633), (167, 0.0), (168, 0.0), (169, 0.0038292236833501604), (170, 0.0), (171, 0.0), (172, 0.0), (173, 0.0038476988907276835), (174, 0.0038501503418760133), (175, 0.0), (176, 0.0), (177, 0.009892719292810982), (178, 0.0039254324462680845), (179, 0.0), (180, 0.019663774020261756), (181, 0.0), (182, 0.0), (183, 0.040522761098842126), (184, 0.02358603784500136), (185, 0.0), (186, 0.05908655096912439), (187, 0.0), (188, 0.0), (189, 0.0), (190, 0.03372987239787303), (191, 0.010468377653738946), (192, 0.003937118038519104), (193, 0.03396364200294785), (194, 0.003295034600354042), (195, 0.003218068465563598), (196, 0.0), (197, 0.0036195682961369293), (198, 0.01564218497030604), (199, 0.0649243387626045), (200, 0.0034834278765107003), (201, 0.0), (202, 0.002469821391329134), (203, 0.07854852783195568), (204, 0.015967796556191585), (205, 0.012329718543534198), (206, 0.01658055387381414), (207, 0.0), (208, 0.0041762065543723284), (209, 0.0), (210, 0.004081630311576881), (211, 0.0), (212, 0.0), (213, 0.025055692027644363), (214, 0.0), (215, 0.014863316856167931), (216, 0.003880917183914449), (217, 0.0), (218, 0.014182682632431567), (219, 0.0), (220, 0.0), (221, 0.0036002250486833194), (222, 0.00331281970250086), (223, 0.0), (224, 0.0029466488906479005), (225, 0.0), (226, 0.0), (227, 0.003998340378618362), (228, 0.027756877392728647), (229, 0.0), (230, 0.01121162163665004), (231, 0.022766715391697893), (232, 0.012252561617446948), (233, 0.0), (234, 0.0), (235, 0.0), (236, 0.003520669059777797), (237, 0.00955825819600728), (238, 0.015571631040650673), (239, 0.0), (240, 0.03478848209469863), (241, 0.011584623884306545), (242, 0.003302624706981543), (243, 0.0026673994292146907), (244, 0.012105572741915798), (245, 0.0), (246, 0.0), (247, 0.011395483817518062), (248, 0.0), (249, 0.0), (250, 0.0), (251, 0.0033151295064467053), (252, 0.003494854107975161), (253, 0.020027516801188302), (254, 0.0), (255, 0.003931360076346013), (256, 0.0029908551886988215), (257, 0.0), (258, 0.012056349549164347), (259, 0.026237312614492456), (260, 0.0), (261, 0.0), (262, 0.0), (263, 0.017478031489071826), (264, 0.01851765871922995), (265, 0.0), (266, 0.0028897625176998757), (267, 0.003349532046412346), (268, 0.0), (269, 0.0032171657649868782), (270, 0.003791524261397132), (271, 0.0029721992718766276), (272, 0.0), (273, 0.0), (274, 0.004242843309626447), (275, 0.0), (276, 0.003566953324284039), (277, 0.0), (278, 0.016408833614000938), (279, 0.0), (280, 0.030033590601402285), (281, 0.0), (282, 0.026766112889709107), (283, 0.021250388744825873), (284, 0.0), (285, 0.01068982450396923), (286, 0.0033960954177545306), (287, 0.0), (288, 0.0), (289, 0.0), (290, 0.0), (291, 0.0108919782551726), (292, 0.0), (293, 0.0), (294, 0.0), (295, 0.0), (296, 0.0029410480649133893), (297, 0.012203380837614977), (298, 0.012183742029776257), (299, 0.01169771705276184), (300, 0.011065705890389377), (301, 0.012046754748887082), (302, 0.010696335304368837), (303, 0.012771673393878413), (304, 0.0), (305, 0.0), (306, 0.0), (307, 0.025172435037147303), (308, 0.0), (309, 0.0030512470881238645), (310, 0.02277682429043493), (311, 0.0), (312, 0.036302932293403166), (313, 0.0), (314, 0.0), (315, 0.0), (316, 0.0), (317, 0.0), (318, 0.004059927232634054), (319, 0.0), (320, 0.018726518767547468), (321, 0.0), (322, 0.0), (323, 0.0), (324, 0.02428288304808533), (325, 0.003575868821779989), (326, 0.004541095561689874), (327, 0.0), (328, 0.0), (329, 0.0), (330, 0.0026276191127120557), (331, 0.0), (332, 0.0), (333, 0.0), (334, 0.010325899745994693), (335, 0.0), (336, 0.0), (337, 0.0), (338, 0.0), (339, 0.011378908307994649), (340, 0.012592781984073742), (341, 0.0), (342, 0.004005657542520344), (343, 0.0036436905405961635), (344, 0.0), (345, 0.0), (346, 0.0), (347, 0.0), (348, 0.003679222065886022), (349, 0.03809175794077162), (350, 0.004106687771344894), (351, 0.0029828998192561445), (352, 0.0), (353, 0.025738846666601905), (354, 0.010853399362260492), (355, 0.04212518820821886), (356, 0.003557832360898799), (357, 0.013891342534396223), (358, 0.029228752872609377), (359, 0.0035068794604198343), (360, 0.0), (361, 0.0), (362, 0.0), (363, 0.01233014188374165), (364, 0.003354724320682839), (365, 0.0), (366, 0.0), (367, 0.0), (368, 0.0), (369, 0.0), (370, 0.0037190428381510144), (371, 0.023611840411145505), (372, 0.0035295875190389384), (373, 0.0036291674037266406), (374, 0.04303641666869375), (375, 0.01187161315318967), (376, 0.020728135737793148), (377, 0.0), (378, 0.0), (379, 0.0), (380, 0.0), (381, 0.021149411643038206), (382, 0.010732634943224103), (383, 0.0), (384, 0.0), (385, 0.024422383917073544), (386, 0.0), (387, 0.0037809732246981424), (388, 0.014801177951811092), (389, 0.048762981405371275), (390, 0.04979033086652041), (391, 0.0), (392, 0.0), (393, 0.0659156442121572), (394, 0.0), (395, 0.0), (396, 0.0), (397, 0.0), (398, 0.0), (399, 0.02204256075675952), (400, 0.003693914615911211), (401, 0.024359598184435147), (402, 0.0), (403, 0.0032546545851116684), (404, 0.011522041172523454), (405, 0.0), (406, 0.0037934112537121134), (407, 0.003006533321726744), (408, 0.0035471985588716027), (409, 0.011193336569595216), (410, 0.0033923595854736866), (411, 0.010837623518719615), (412, 0.0), (413, 0.0), (414, 0.008764226038693096), (415, 0.0), (416, 0.003411796419064636), (417, 0.0), (418, 0.0), (419, 0.004352190993360599), (420, 0.0), (421, 0.0), (422, 0.0), (423, 0.0), (424, 0.0), (425, 0.0), (426, 0.0), (427, 0.0), (428, 0.027291694397586046), (429, 0.003935524909221119), (430, 0.01591686076245013), (431, 0.0042835052417989315), (432, 0.0), (433, 0.0030596614110015978), (434, 0.03125350508819277), (435, 0.02050776736429891), (436, 0.0349430201977838), (437, 0.003735273309592456), (438, 0.009820700254991615), (439, 0.0), (440, 0.0), (441, 0.003177188875696281), (442, 0.03758688886494888), (443, 0.00420269798000851), (444, 0.0), (445, 0.0), (446, 0.0), (447, 0.0), (448, 0.004418321908305249), (449, 0.011122634704880851), (450, 0.004002053286954535), (451, 0.011363232704886747), (452, 0.0028808379497297703), (453, 0.024297579816351), (454, 0.0), (455, 0.0026418049310971683), (456, 0.016289653210396937), (457, 0.0033928408346732926), (458, 0.004248592600651247), (459, 0.0), (460, 0.0), (461, 0.0), (462, 0.0), (463, 0.00337754761544416), (464, 0.0037951152716655715), (465, 0.003455976804103302), (466, 0.0), (467, 0.0), (468, 0.0), (469, 0.009776914782930966), (470, 0.0039520024541722576), (471, 0.003572580408164451), (472, 0.003960138545398009), (473, 0.0), (474, 0.0), (475, 0.07862286544341857), (476, 0.0), (477, 0.0), (478, 0.0), (479, 0.0038428157800903095), (480, 1.0000000000000002), (481, 0.016870570788032425), (482, 0.0039406116665483765), (483, 0.011851307909611105), (484, 0.0), (485, 0.0), (486, 0.0), (487, 0.0), (488, 0.0035876897464818735), (489, 0.0), (490, 0.0037139446626353045), (491, 0.013778185241220835), (492, 0.0748150623366041), (493, 0.02889361835844536), (494, 0.0), (495, 0.003412679463319527), (496, 0.003277691773326372), (497, 0.01041361564912045), (498, 0.0), (499, 0.0), (500, 0.011229756011174102), (501, 0.0), (502, 0.0038265977507934757), (503, 0.0), (504, 0.0038176868229077873), (505, 0.0), (506, 0.009633656082878191), (507, 0.0), (508, 0.0), (509, 0.0037876744029726713), (510, 0.002988679978758972), (511, 0.0), (512, 0.0), (513, 0.0), (514, 0.0), (515, 0.02022746896359182), (516, 0.0), (517, 0.0), (518, 0.0), (519, 0.0033536202173224446), (520, 0.0), (521, 0.0), (522, 0.015165869017783959), (523, 0.0), (524, 0.0), (525, 0.0), (526, 0.0), (527, 0.0), (528, 0.0), (529, 0.0), (530, 0.0), (531, 0.0), (532, 0.0), (533, 0.0807622914670498), (534, 0.004022476846758686), (535, 0.0), (536, 0.0), (537, 0.0), (538, 0.026109666952798136), (539, 0.0), (540, 0.0), (541, 0.0), (542, 0.0027380808829566314), (543, 0.0038913435099339326), (544, 0.0), (545, 0.0), (546, 0.010960048313303265), (547, 0.003188111934198783), (548, 0.01679509696903055), (549, 0.0), (550, 0.0), (551, 0.003899563197359363), (552, 0.0), (553, 0.0), (554, 0.0), (555, 0.0), (556, 0.0), (557, 0.0), (558, 0.003406009180316119), (559, 0.0), (560, 0.0), (561, 0.0), (562, 0.0029189221606721245), (563, 0.01427341246212935), (564, 0.04663680675252976), (565, 0.022808500863782246), (566, 0.00323688086145699), (567, 0.0), (568, 0.011219508077119304), (569, 0.0), (570, 0.0), (571, 0.0029479043383678666), (572, 0.018159523765938542), (573, 0.0), (574, 0.0), (575, 0.0), (576, 0.00415508948993584), (577, 0.034604541104521526), (578, 0.03938063904383711), (579, 0.0038606570860451393), (580, 0.022693823168656105), (581, 0.0), (582, 0.0), (583, 0.0), (584, 0.003953443880338978), (585, 0.026942340141398416), (586, 0.011695720790611978), (587, 0.004142480601062592), (588, 0.022519815435526645), (589, 0.003528946986016229), (590, 0.023800271830048868), (591, 0.0), (592, 0.0), (593, 0.0), (594, 0.06687783412483736), (595, 0.03733967949871266), (596, 0.0042792676155921595), (597, 0.0), (598, 0.0036418850634889277), (599, 0.0), (600, 0.0), (601, 0.0), (602, 0.0), (603, 0.0), (604, 0.0646077745977081), (605, 0.0034977016642521947), (606, 0.003922969078805176), (607, 0.021340069045169063), (608, 0.014460475107470483), (609, 0.01258335004735498), (610, 0.011612850970401338), (611, 0.00324828257521865), (612, 0.004064947400998291), (613, 0.040554348474897986), (614, 0.02981317025537121), (615, 0.0), (616, 0.0031142242155608084), (617, 0.003298286201854851), (618, 0.0), (619, 0.034427206950940197), (620, 0.0), (621, 0.0), (622, 0.003872800888981347), (623, 0.004125049856204579), (624, 0.011103077240847352), (625, 0.0), (626, 0.0032035428431257756), (627, 0.005007816417276297), (628, 0.003706480001184448), (629, 0.0), (630, 0.0), (631, 0.02680708704305068), (632, 0.0), (633, 0.011772499565911887), (634, 0.0), (635, 0.012684896018333138), (636, 0.003836834666221346), (637, 0.0037903297365718294), (638, 0.02010927153138563), (639, 0.009860234042341981), (640, 0.010160716845475868), (641, 0.002862792150217024), (642, 0.003272184673050274), (643, 0.0035750305105366953), (644, 0.015636461269561152), (645, 0.0), (646, 0.0), (647, 0.0), (648, 0.0), (649, 0.0), (650, 0.0), (651, 0.003637269222492099), (652, 0.0038888124215989282), (653, 0.013666261823408193), (654, 0.0), (655, 0.0035286603777209976), (656, 0.0), (657, 0.003334346588262839), (658, 0.0), (659, 0.03823560521731206), (660, 0.015782173515699598), (661, 0.0), (662, 0.0), (663, 0.0), (664, 0.0), (665, 0.0), (666, 0.0), (667, 0.0), (668, 0.021103538887204534), (669, 0.025211886220915688), (670, 0.004491756253869867), (671, 0.0), (672, 0.0033388419212013708), (673, 0.004002221654246847), (674, 0.011730212904740087), (675, 0.0), (676, 0.014975631419479543), (677, 0.0), (678, 0.0), (679, 0.0), (680, 0.0), (681, 0.0), (682, 0.0), (683, 0.0), (684, 0.012124090252174168), (685, 0.0), (686, 0.0), (687, 0.0), (688, 0.0040949291569480455), (689, 0.003671846054350321), (690, 0.0), (691, 0.0), (692, 0.0), (693, 0.0037436945517490597), (694, 0.023839598917874665), (695, 0.0), (696, 0.015675317698006574), (697, 0.015695482321811473), (698, 0.0037371219627594333), (699, 0.0), (700, 0.0123634782698671), (701, 0.004195552772924049), (702, 0.0), (703, 0.02469253378027048), (704, 0.0), (705, 0.02956944246809375), (706, 0.009871758995046616), (707, 0.01327706650105567), (708, 0.0), (709, 0.0), (710, 0.011079302344540859), (711, 0.0), (712, 0.0032497568235853886), (713, 0.024952868084090387), (714, 0.0), (715, 0.012483933800935973), (716, 0.004140657775122489), (717, 0.0), (718, 0.0), (719, 0.003128927561175615), (720, 0.011654498766347452), (721, 0.004382258477129966), (722, 0.0033750297579854096), (723, 0.0), (724, 0.0), (725, 0.019761718699622975), (726, 0.03179751126212412), (727, 0.0036633881142454925), (728, 0.003968542987573135), (729, 0.004070687206233267), (730, 0.022252132883773274), (731, 0.011327522812360711), (732, 0.003233289231548896), (733, 0.02525477379667536), (734, 0.003507425315300532), (735, 0.005447859514608808), (736, 0.011642567879863706), (737, 0.0), (738, 0.0), (739, 0.004183511427962433), (740, 0.0), (741, 0.0), (742, 0.0035245849242566797), (743, 0.003916226753477032), (744, 0.0034117514119342295), (745, 0.02380933554192771), (746, 0.0), (747, 0.0), (748, 0.0), (749, 0.003738486660270708), (750, 0.003714454833011704), (751, 0.013573113666555957), (752, 0.012018542992718987), (753, 0.0), (754, 0.0), (755, 0.00379180323175891), (756, 0.0), (757, 0.0), (758, 0.011633977815730936), (759, 0.0), (760, 0.0), (761, 0.003931455127814258), (762, 0.0), (763, 0.0), (764, 0.0), (765, 0.0), (766, 0.0), (767, 0.0), (768, 0.0), (769, 0.003729383265466692), (770, 0.0), (771, 0.0), (772, 0.0), (773, 0.0), (774, 0.003988273765534926), (775, 0.0), (776, 0.0), (777, 0.0), (778, 0.0), (779, 0.010224964366121842), (780, 0.0), (781, 0.0), (782, 0.0), (783, 0.003877667764790601), (784, 0.0), (785, 0.0), (786, 0.0), (787, 0.018980554855285582), (788, 0.003458283429945409), (789, 0.0), (790, 0.017534795630032476), (791, 0.0), (792, 0.0039609321746987315), (793, 0.0), (794, 0.0038198657449207813), (795, 0.0), (796, 0.0032120324273093932), (797, 0.0), (798, 0.0035745570449652016), (799, 0.10887477808526629), (800, 0.003331349689092851), (801, 0.0), (802, 0.0), (803, 0.0), (804, 0.0034103092871683744), (805, 0.0), (806, 0.003732109891193641), (807, 0.009311556387460963), (808, 0.024103419392011556), (809, 0.0), (810, 0.03490767477657903), (811, 0.0), (812, 0.01738724808302884), (813, 0.0043140591300300166), (814, 0.018327942959563498), (815, 0.0033498458628488685), (816, 0.0032779567095203546), (817, 0.06888665941916838), (818, 0.003624732810861612), (819, 0.011904650760060592), (820, 0.0), (821, 0.0), (822, 0.011436597914036369), (823, 0.0), (824, 0.010952572260891358), (825, 0.0), (826, 0.004012811498143947), (827, 0.0), (828, 0.0), (829, 0.0), (830, 0.003910386923696278), (831, 0.0028194637170997623), (832, 0.0037670869854231803), (833, 0.0), (834, 0.0), (835, 0.0), (836, 0.010235321363067627), (837, 0.0), (838, 0.003618694576315887), (839, 0.0), (840, 0.0), (841, 0.0), (842, 0.0), (843, 0.0031191917956930543), (844, 0.003926336001492522), (845, 0.0), (846, 0.025206389751281703), (847, 0.004199289597634537), (848, 0.0), (849, 0.012078481879774722), (850, 0.0037342858253768124), (851, 0.013875478352170368), (852, 0.003628073020031111), (853, 0.0), (854, 0.0036323472843669746), (855, 0.0), (856, 0.003344024039185002), (857, 0.004196494989238224), (858, 0.002636653534316682), (859, 0.03696126349936904), (860, 0.004342370616752479), (861, 0.013411520912971427), (862, 0.0), (863, 0.010808236008209205), (864, 0.0037417365276242705), (865, 0.06418153441942537), (866, 0.0035601698179419886), (867, 0.003748737410986772), (868, 0.0), (869, 0.0), (870, 0.003644429114265844), (871, 0.003865920678828172), (872, 0.003963939471444329), (873, 0.0), (874, 0.0), (875, 0.01933445484431656), (876, 0.004133007903298129), (877, 0.0), (878, 0.003594519105757645), (879, 0.003933147355688204), (880, 0.014778533873578657), (881, 0.0), (882, 0.010656703047656655), (883, 0.047153040056050824), (884, 0.0), (885, 0.0), (886, 0.025470591623993625), (887, 0.012669749280148074), (888, 0.004053436821780171), (889, 0.0), (890, 0.0), (891, 0.0), (892, 0.05256767357419148), (893, 0.0), (894, 0.003721494512195374), (895, 0.0), (896, 0.004008043014123632), (897, 0.003798783809907462), (898, 0.0), (899, 0.0), (900, 0.0035064478110699983), (901, 0.0), (902, 0.0), (903, 0.003978534555660808), (904, 0.0), (905, 0.0), (906, 0.022241168566201182), (907, 0.0035479597177868866), (908, 0.0), (909, 0.02964216236081068), (910, 0.003439980310902057), (911, 0.023687579848097686), (912, 0.010309363106191688), (913, 0.0), (914, 0.0272931451865862), (915, 0.017282947317649257), (916, 0.0), (917, 0.0), (918, 0.0), (919, 0.019970927224285676), (920, 0.0), (921, 0.0), (922, 0.0), (923, 0.015762223547506657), (924, 0.0031889344755265444), (925, 0.004415549963973132), (926, 0.014436768264963524), (927, 0.0), (928, 0.0), (929, 0.04692344794676067), (930, 0.003932638180858874), (931, 0.0), (932, 0.0), (933, 0.0), (934, 0.003466854330077145), (935, 0.0), (936, 0.01404138241588766), (937, 0.004455623615036496), (938, 0.0), (939, 0.011209780804757697), (940, 0.002637946697697991), (941, 0.0), (942, 0.0030863301375761536), (943, 0.0), (944, 0.003437989130687904), (945, 0.0), (946, 0.0), (947, 0.005377549807935985), (948, 0.0), (949, 0.0), (950, 0.0), (951, 0.013937572356653112), (952, 0.003932808967467019), (953, 0.012375780882513614), (954, 0.0), (955, 0.0), (956, 0.0), (957, 0.013912779477226864), (958, 0.0), (959, 0.003685152559667954), (960, 0.0), (961, 0.012454213002672819), (962, 0.0036323009698710717), (963, 0.003507417985252632), (964, 0.0), (965, 0.0), (966, 0.0036684260814662884), (967, 0.004112250607518435), (968, 0.003422234041632975), (969, 0.030111130064304773), (970, 0.0), (971, 0.0), (972, 0.0), (973, 0.0), (974, 0.0), (975, 0.003538845101717095), (976, 0.0), (977, 0.012319549798444417), (978, 0.0), (979, 0.03286150200974847), (980, 0.0038121066119548275), (981, 0.003384489455193329), (982, 0.012651487676545302), (983, 0.0), (984, 0.0), (985, 0.00431072356419437), (986, 0.003991437671249476), (987, 0.0), (988, 0.03283704926815333), (989, 0.02130773615918291), (990, 0.0), (991, 0.003964260083049333), (992, 0.0), (993, 0.011806721446188708), (994, 0.0), (995, 0.0), (996, 0.0), (997, 0.0), (998, 0.06936273425636375), (999, 0.004237263521256364), (1000, 0.0034358287978489286), (1001, 0.003573777784585941), (1002, 0.0035914648003144397), (1003, 0.0), (1004, 0.0), (1005, 0.002976657357611046), (1006, 0.0038995010172881628), (1007, 0.004077313850523507), (1008, 0.01069868830507337), (1009, 0.0035096632781131884), (1010, 0.0), (1011, 0.0), (1012, 0.0), (1013, 0.01235464182152101), (1014, 0.0), (1015, 0.003890652056188153), (1016, 0.0), (1017, 0.0037540448148928613), (1018, 0.0), (1019, 0.00380627430654571), (1020, 0.0037740516780136383), (1021, 0.0036520738128312546), (1022, 0.0), (1023, 0.004215704992371538), (1024, 0.0), (1025, 0.0), (1026, 0.0036586815390046716), (1027, 0.015197239968101827), (1028, 0.0), (1029, 0.03540907782377914), (1030, 0.003610286241040066), (1031, 0.0), (1032, 0.0), (1033, 0.0), (1034, 0.014712161768169547), (1035, 0.003732536280800864), (1036, 0.0), (1037, 0.0), (1038, 0.0), (1039, 0.0), (1040, 0.0032755830361186015), (1041, 0.06688469812637621), (1042, 0.0), (1043, 0.012340735097000516), (1044, 0.0036488038076228193), (1045, 0.0), (1046, 0.010054975234614693), (1047, 0.011959029139983526), (1048, 0.0), (1049, 0.0044105414175936684), (1050, 0.05195573166048102), (1051, 0.013860450202407606), (1052, 0.02803852807884462), (1053, 0.004446140314754455), (1054, 0.04331913789814688), (1055, 0.010683143961742513), (1056, 0.0), (1057, 0.0), (1058, 0.0), (1059, 0.0), (1060, 0.0036287035723843305), (1061, 0.0), (1062, 0.0), (1063, 0.0), (1064, 0.004574842655277612), (1065, 0.0034934296153957822), (1066, 0.0), (1067, 0.0), (1068, 0.0), (1069, 0.013259722482452078), (1070, 0.0), (1071, 0.003914051466898462), (1072, 0.0), (1073, 0.0), (1074, 0.0), (1075, 0.003758878635145802), (1076, 0.0), (1077, 0.003788764399584318), (1078, 0.0032116711081347183), (1079, 0.0034601535517776423), (1080, 0.014072316884552115), (1081, 0.0), (1082, 0.0), (1083, 0.003868108634137636), (1084, 0.0035853571787402712), (1085, 0.03079479960896239), (1086, 0.0), (1087, 0.0), (1088, 0.003239291037189934), (1089, 0.0), (1090, 0.0), (1091, 0.0), (1092, 0.0), (1093, 0.0), (1094, 0.0), (1095, 0.0), (1096, 0.0), (1097, 0.0), (1098, 0.0), (1099, 0.0), (1100, 0.0), (1101, 0.0), (1102, 0.003748397849344717), (1103, 0.0), (1104, 0.0), (1105, 0.0), (1106, 0.0), (1107, 0.0034864523366969317), (1108, 0.0), (1109, 0.004176994917818038), (1110, 0.0), (1111, 0.011610003561298776), (1112, 0.0), (1113, 0.0), (1114, 0.016772404295633734), (1115, 0.0), (1116, 0.0), (1117, 0.011410241084842045), (1118, 0.0), (1119, 0.004139282062031149), (1120, 0.020570210028676053), (1121, 0.0), (1122, 0.0038609247539457977), (1123, 0.02531126276179576), (1124, 0.0), (1125, 0.0), (1126, 0.0), (1127, 0.0), (1128, 0.0), (1129, 0.011422946752229086), (1130, 0.01133309035610566), (1131, 0.0038223685721834656), (1132, 0.014907998965141939), (1133, 0.0), (1134, 0.0), (1135, 0.0), (1136, 0.0033448560512525207), (1137, 0.0), (1138, 0.003702673138060388), (1139, 0.0), (1140, 0.0345677625529633), (1141, 0.004107591130994339), (1142, 0.012894248254675852), (1143, 0.033347653203707604), (1144, 0.0), (1145, 0.0), (1146, 0.0), (1147, 0.0), (1148, 0.0), (1149, 0.0), (1150, 0.012025512021892027), (1151, 0.0), (1152, 0.0), (1153, 0.028165571477004218), (1154, 0.0), (1155, 0.0), (1156, 0.0), (1157, 0.010818219852339788), (1158, 0.0), (1159, 0.0), (1160, 0.044419887039340154), (1161, 0.003665437656302572), (1162, 0.0), (1163, 0.003797366960494694), (1164, 0.0), (1165, 0.022694381344747886), (1166, 0.0), (1167, 0.0), (1168, 0.0), (1169, 0.0), (1170, 0.003698333150089042), (1171, 0.010689509400469017), (1172, 0.06143885038075793), (1173, 0.0), (1174, 0.0), (1175, 0.015414125621827484), (1176, 0.0038395613005939304), (1177, 0.014776043407152628), (1178, 0.0), (1179, 0.0038174773931003), (1180, 0.0), (1181, 0.0), (1182, 0.0039957771193186884), (1183, 0.003575060843670241), (1184, 0.004248100468529536), (1185, 0.0), (1186, 0.003339050774652519), (1187, 0.004382562350040928), (1188, 0.016593016741816204), (1189, 0.0), (1190, 0.01132341636728181), (1191, 0.0037485996069884075), (1192, 0.003802514322212201), (1193, 0.0), (1194, 0.0), (1195, 0.011974399900408673), (1196, 0.011137733964628478), (1197, 0.010846929010868662), (1198, 0.022451286578730748), (1199, 0.0033559083961375927), (1200, 0.0), (1201, 0.0), (1202, 0.049604473399107396), (1203, 0.0), (1204, 0.011634659942661966), (1205, 0.0), (1206, 0.0035152639467209783), (1207, 0.0), (1208, 0.004580513636177703), (1209, 0.003454846507049734), (1210, 0.0), (1211, 0.0), (1212, 0.009965379193384529), (1213, 0.0), (1214, 0.0), (1215, 0.003242823074499608), (1216, 0.003379812793619706), (1217, 0.02555430988220696), (1218, 0.0107909281425365), (1219, 0.0033984082436347104), (1220, 0.0035511883662735287), (1221, 0.009962580897139748), (1222, 0.0), (1223, 0.01569925583851951), (1224, 0.003994273209274295), (1225, 0.003987000076055188), (1226, 0.0), (1227, 0.0), (1228, 0.0), (1229, 0.003934539196098869), (1230, 0.0), (1231, 0.0), (1232, 0.003829930340903919), (1233, 0.0), (1234, 0.012286399047750805), (1235, 0.0), (1236, 0.0), (1237, 0.003335863900145368), (1238, 0.0), (1239, 0.0), (1240, 0.0), (1241, 0.025012702662499435), (1242, 0.0), (1243, 0.0), (1244, 0.0), (1245, 0.014934600680447647), (1246, 0.0), (1247, 0.0036650329516305967), (1248, 0.01518317756811942), (1249, 0.033999960501441745), (1250, 0.01192350724218177), (1251, 0.0033363724507184268), (1252, 0.003788012960790637), (1253, 0.0), (1254, 0.0), (1255, 0.014722483105389338), (1256, 0.011602581600776296), (1257, 0.0036855900713755304), (1258, 0.01411523015191939), (1259, 0.0), (1260, 0.0), (1261, 0.014782998293986034), (1262, 0.0), (1263, 0.03925717602991054), (1264, 0.004619581975187536), (1265, 0.0), (1266, 0.0), (1267, 0.0), (1268, 0.018591534804561022), (1269, 0.0), (1270, 0.0), (1271, 0.012132732246594686), (1272, 0.0), (1273, 0.023653213496825302), (1274, 0.0), (1275, 0.00419271925908563), (1276, 0.0), (1277, 0.0), (1278, 0.027039758471797914), (1279, 0.0), (1280, 0.0), (1281, 0.0), (1282, 0.0), (1283, 0.02832015950717466), (1284, 0.0), (1285, 0.0), (1286, 0.003902394600383), (1287, 0.0), (1288, 0.0), (1289, 0.0), (1290, 0.024344056216932648), (1291, 0.0), (1292, 0.011099145983545023), (1293, 0.0), (1294, 0.0), (1295, 0.011334158737120938), (1296, 0.018451662245228508), (1297, 0.0), (1298, 0.0116980685247925), (1299, 0.027231779056724793), (1300, 0.0), (1301, 0.021703757601168362), (1302, 0.0), (1303, 0.0030362442947971685), (1304, 0.0), (1305, 0.003111998596867842), (1306, 0.002758900669485533), (1307, 0.0), (1308, 0.003489976590275046), (1309, 0.0), (1310, 0.010780546252939232), (1311, 0.0), (1312, 0.0), (1313, 0.0036997252617118432), (1314, 0.0), (1315, 0.0), (1316, 0.0), (1317, 0.021923652814219995), (1318, 0.003330077702353599), (1319, 0.0), (1320, 0.0), (1321, 0.0), (1322, 0.0), (1323, 0.0), (1324, 0.003953599529296712), (1325, 0.004189542973497566), (1326, 0.01829193495237474), (1327, 0.0), (1328, 0.0), (1329, 0.0), (1330, 0.0), (1331, 0.0), (1332, 0.013192083041908907), (1333, 0.0), (1334, 0.0037434113455418598), (1335, 0.0038245032598049297), (1336, 0.0), (1337, 0.003679298157896197), (1338, 0.02965772477024622), (1339, 0.0), (1340, 0.014488675861218015), (1341, 0.009646397958974174), (1342, 0.0), (1343, 0.0), (1344, 0.0), (1345, 0.012044281039300614), (1346, 0.012167456860137935), (1347, 0.0), (1348, 0.0), (1349, 0.004139267318257596), (1350, 0.003992242070622444), (1351, 0.0027471253505721538), (1352, 0.0033369025011933656), (1353, 0.0), (1354, 0.0), (1355, 0.0), (1356, 0.03045741722333573), (1357, 0.024196136835524497), (1358, 0.0), (1359, 0.012300818950369198), (1360, 0.0035777534754493565), (1361, 0.01215233113848051), (1362, 0.01886854363011818), (1363, 0.011225970084322466), (1364, 0.003974844223770847), (1365, 0.0032192400176079433), (1366, 0.0), (1367, 0.02110627084447876), (1368, 0.01099432984308563), (1369, 0.0), (1370, 0.013310206817382734), (1371, 0.0), (1372, 0.02829904308923177), (1373, 0.0), (1374, 0.029315360742976106), (1375, 0.01459005165601782), (1376, 0.0115473029515363), (1377, 0.0032135813625445778), (1378, 0.015243062761061188), (1379, 0.010211845076092184), (1380, 0.0), (1381, 0.0), (1382, 0.003940759439370698), (1383, 0.004245831598380746), (1384, 0.0), (1385, 0.0035678017192475623), (1386, 0.011489334279250507), (1387, 0.0033168676544409336), (1388, 0.0), (1389, 0.0), (1390, 0.04075310149503215), (1391, 0.0), (1392, 0.010564797223287117), (1393, 0.0), (1394, 0.019102600462104418), (1395, 0.0), (1396, 0.0), (1397, 0.0), (1398, 0.004320757287674498), (1399, 0.0), (1400, 0.003906008854802564), (1401, 0.0), (1402, 0.018808234426705928), (1403, 0.0029011919256897475), (1404, 0.0), (1405, 0.010282794137213953), (1406, 0.0), (1407, 0.0), (1408, 0.015158104038066287), (1409, 0.0), (1410, 0.0037865748825131025), (1411, 0.0), (1412, 0.0), (1413, 0.0038496238151476693), (1414, 0.013503851144692918), (1415, 0.0032031971177220375), (1416, 0.02539128081630036), (1417, 0.002951814073039553), (1418, 0.009110166425690052), (1419, 0.0), (1420, 0.0), (1421, 0.003669100497796726), (1422, 0.0037007522696643437), (1423, 0.00332571650403001), (1424, 0.0), (1425, 0.0), (1426, 0.0), (1427, 0.003439157447143709), (1428, 0.0), (1429, 0.004457191253249033), (1430, 0.0), (1431, 0.0), (1432, 0.0), (1433, 0.0), (1434, 0.0), (1435, 0.0), (1436, 0.0), (1437, 0.013701796942973738), (1438, 0.0036466185385840527), (1439, 0.0), (1440, 0.0), (1441, 0.0), (1442, 0.07080496529248936), (1443, 0.0), (1444, 0.0), (1445, 0.0), (1446, 0.0036266793860558924), (1447, 0.0), (1448, 0.003603881855039835), (1449, 0.0), (1450, 0.0), (1451, 0.0), (1452, 0.0), (1453, 0.0), (1454, 0.003978132099236861), (1455, 0.0), (1456, 0.0), (1457, 0.0), (1458, 0.0), (1459, 0.0), (1460, 0.025079611207890824), (1461, 0.0), (1462, 0.014310894137401883), (1463, 0.003955819024417683), (1464, 0.0), (1465, 0.0), (1466, 0.0), (1467, 0.018311948660112085), (1468, 0.010767790433699782), (1469, 0.0), (1470, 0.01922508102321442), (1471, 0.002854127844991421), (1472, 0.003700889619641568), (1473, 0.0), (1474, 0.03265059421618425), (1475, 0.0038810361645256523), (1476, 0.0037280606749329937), (1477, 0.0034224888579823904), (1478, 0.003556468249346451), (1479, 0.0), (1480, 0.0), (1481, 0.003594918015499029), (1482, 0.0), (1483, 0.0036819043967093296), (1484, 0.0), (1485, 0.0), (1486, 0.0), (1487, 0.0), (1488, 0.003704913122506931), (1489, 0.00427804058202713), (1490, 0.0), (1491, 0.0), (1492, 0.0), (1493, 0.0), (1494, 0.0), (1495, 0.03586079970128431), (1496, 0.03814999910849008), (1497, 0.0), (1498, 0.00435186273136969), (1499, 0.0), (1500, 0.0), (1501, 0.0), (1502, 0.0), (1503, 0.00344038082276115), (1504, 0.0), (1505, 0.0), (1506, 0.002567042959394115), (1507, 0.0), (1508, 0.0), (1509, 0.002616180684358954), (1510, 0.014813585783818146), (1511, 0.01256629760876254), (1512, 0.0), (1513, 0.0040238946569726266), (1514, 0.003533235338843804), (1515, 0.011495728483869884), (1516, 0.0), (1517, 0.0), (1518, 0.01674648988414555), (1519, 0.0035780995557145663), (1520, 0.0), (1521, 0.0), (1522, 0.02231713303201605), (1523, 0.0), (1524, 0.02069467916105722), (1525, 0.0), (1526, 0.0), (1527, 0.0), (1528, 0.027593580299082213), (1529, 0.04558295714890361), (1530, 0.0), (1531, 0.0), (1532, 0.0), (1533, 0.015478971148385992), (1534, 0.0), (1535, 0.0), (1536, 0.0), (1537, 0.004013984866364558), (1538, 0.0), (1539, 0.013840708177398964), (1540, 0.0), (1541, 0.0), (1542, 0.0), (1543, 0.0034246513174293045), (1544, 0.0), (1545, 0.0), (1546, 0.0), (1547, 0.004379847658501327), (1548, 0.0), (1549, 0.0), (1550, 0.0), (1551, 0.0), (1552, 0.0), (1553, 0.0), (1554, 0.0), (1555, 0.0), (1556, 0.0), (1557, 0.0), (1558, 0.003652422677108973), (1559, 0.02246966331273204), (1560, 0.0), (1561, 0.0), (1562, 0.0), (1563, 0.0), (1564, 0.0), (1565, 0.013945676474839705), (1566, 0.0), (1567, 0.0), (1568, 0.07194359573046955), (1569, 0.03113783225848059), (1570, 0.004019734854821604), (1571, 0.0), (1572, 0.0), (1573, 0.0), (1574, 0.0), (1575, 0.0), (1576, 0.0), (1577, 0.0), (1578, 0.011923889904408574), (1579, 0.0205063939842539), (1580, 0.0), (1581, 0.0), (1582, 0.0035392030084279015), (1583, 0.0), (1584, 0.0), (1585, 0.0), (1586, 0.0), (1587, 0.0), (1588, 0.0), (1589, 0.018270514520343135), (1590, 0.0), (1591, 0.0), (1592, 0.011354810114137892), (1593, 0.0), (1594, 0.0), (1595, 0.02012639093339522), (1596, 0.0), (1597, 0.0036244958921631933), (1598, 0.003655615193729225), (1599, 0.012140785776573376), (1600, 0.012131883728849421), (1601, 0.026297173730228038), (1602, 0.0), (1603, 0.035053297331426064), (1604, 0.0), (1605, 0.0034607555033910413), (1606, 0.0), (1607, 0.0), (1608, 0.003526029058145318), (1609, 0.0), (1610, 0.01121805149013842), (1611, 0.0), (1612, 0.0), (1613, 0.02410066276581517), (1614, 0.0), (1615, 0.013375892207199716), (1616, 0.02372603022213504), (1617, 0.0), (1618, 0.0), (1619, 0.0038853495117133776), (1620, 0.0037033723774509723), (1621, 0.0037101128294284224), (1622, 0.018716637445499815), (1623, 0.0), (1624, 0.0031388594444096657), (1625, 0.0), (1626, 0.0), (1627, 0.013957989209766729), (1628, 0.0036226646377040123), (1629, 0.003757176586303109), (1630, 0.0), (1631, 0.0), (1632, 0.0), (1633, 0.011308233560890696), (1634, 0.003687759647930976), (1635, 0.0), (1636, 0.0), (1637, 0.0), (1638, 0.0), (1639, 0.0), (1640, 0.0), (1641, 0.0), (1642, 0.0), (1643, 0.00390424471505317), (1644, 0.0), (1645, 0.003848117480921903), (1646, 0.0), (1647, 0.02755756762645023), (1648, 0.0028868150508301626), (1649, 0.031503564728301965), (1650, 0.0), (1651, 0.0), (1652, 0.0), (1653, 0.021909618963108998), (1654, 0.0), (1655, 0.004647300827083333), (1656, 0.0), (1657, 0.0), (1658, 0.004363490879350971), (1659, 0.0), (1660, 0.0), (1661, 0.03949025455985609), (1662, 0.0), (1663, 0.0), (1664, 0.010887502805107835), (1665, 0.0035919723526013463), (1666, 0.003655719939597451), (1667, 0.0036176846527135468), (1668, 0.02876278324860823), (1669, 0.0), (1670, 0.0), (1671, 0.0219274469358281), (1672, 0.0), (1673, 0.0), (1674, 0.0), (1675, 0.023731069927303467), (1676, 0.0), (1677, 0.0030423854029722913), (1678, 0.003756614910902336), (1679, 0.0), (1680, 0.0), (1681, 0.0), (1682, 0.003507315111685333), (1683, 0.01219560426447154), (1684, 0.0), (1685, 0.004032554051361176), (1686, 0.0), (1687, 0.0040374821371980734), (1688, 0.0), (1689, 0.026967114608714662), (1690, 0.0033858726113239752), (1691, 0.0), (1692, 0.0), (1693, 0.0036816333458547556), (1694, 0.0), (1695, 0.0), (1696, 0.0), (1697, 0.0), (1698, 0.0), (1699, 0.0), (1700, 0.0), (1701, 0.0), (1702, 0.0), (1703, 0.0040042801978520505), (1704, 0.0), (1705, 0.0), (1706, 0.0037029399289737227), (1707, 0.0031863090103631028), (1708, 0.0), (1709, 0.0), (1710, 0.0036517016623423357), (1711, 0.004606968494429121), (1712, 0.0), (1713, 0.0), (1714, 0.07880494099566107), (1715, 0.0), (1716, 0.004106997208781682), (1717, 0.0037766889304666727), (1718, 0.0), (1719, 0.03683532579272531), (1720, 0.0), (1721, 0.0), (1722, 0.0038607747534518213), (1723, 0.0), (1724, 0.0), (1725, 0.0), (1726, 0.011730217367214989), (1727, 0.0), (1728, 0.0), (1729, 0.0), (1730, 0.003731077136398586), (1731, 0.0), (1732, 0.012284236154972246), (1733, 0.0), (1734, 0.0), (1735, 0.0), (1736, 0.02833700291922158), (1737, 0.0), (1738, 0.011578456267449256), (1739, 0.003441823861172307), (1740, 0.09023832966551454), (1741, 0.0), (1742, 0.0), (1743, 0.0031675781364118435), (1744, 0.003559585088059566), (1745, 0.0), (1746, 0.0), (1747, 0.02161912240696847), (1748, 0.004334696690024817), (1749, 0.0), (1750, 0.05789569603421184), (1751, 0.0), (1752, 0.0), (1753, 0.0), (1754, 0.0), (1755, 0.0), (1756, 0.0), (1757, 0.0), (1758, 0.0), (1759, 0.0), (1760, 0.0034556649411139244), (1761, 0.0), (1762, 0.07070584912339226), (1763, 0.003394987861511953), (1764, 0.023079730056267535), (1765, 0.0), (1766, 0.0), (1767, 0.011448077092037554), (1768, 0.00374452368799541), (1769, 0.0), (1770, 0.0), (1771, 0.0), (1772, 0.026883907267396197), (1773, 0.0), (1774, 0.016961986994817234), (1775, 0.0), (1776, 0.0), (1777, 0.0), (1778, 0.0), (1779, 0.003849982374666303), (1780, 0.02350491910074529), (1781, 0.009911282280053528), (1782, 0.003611353558626045), (1783, 0.0), (1784, 0.010517321493634716), (1785, 0.0), (1786, 0.0), (1787, 0.0), (1788, 0.0), (1789, 0.0), (1790, 0.0), (1791, 0.0), (1792, 0.0), (1793, 0.0), (1794, 0.0), (1795, 0.0), (1796, 0.003577889171183812), (1797, 0.011082684295433744), (1798, 0.004090703350431673), (1799, 0.0), (1800, 0.0), (1801, 0.0), (1802, 0.0), (1803, 0.0), (1804, 0.0), (1805, 0.0), (1806, 0.0), (1807, 0.0), (1808, 0.0), (1809, 0.0), (1810, 0.0), (1811, 0.0), (1812, 0.0), (1813, 0.0036061573314817154), (1814, 0.0), (1815, 0.0), (1816, 0.0), (1817, 0.023855822481091523), (1818, 0.0), (1819, 0.0035701892966024024), (1820, 0.0), (1821, 0.0164106333989133), (1822, 0.004093565622246218), (1823, 0.0), (1824, 0.0), (1825, 0.0), (1826, 0.0), (1827, 0.003433965927896253), (1828, 0.0032041069819896545), (1829, 0.0), (1830, 0.0033713213478320857), (1831, 0.0), (1832, 0.0), (1833, 0.0), (1834, 0.0), (1835, 0.0), (1836, 0.013028158289751252), (1837, 0.0), (1838, 0.0), (1839, 0.0), (1840, 0.0), (1841, 0.012453539279143933), (1842, 0.0), (1843, 0.0), (1844, 0.0), (1845, 0.003139152330840043), (1846, 0.0), (1847, 0.0), (1848, 0.0), (1849, 0.0), (1850, 0.010363206992388352), (1851, 0.003993791442222364), (1852, 0.0), (1853, 0.00393817532910728), (1854, 0.0), (1855, 0.011043472556995918), (1856, 0.0), (1857, 0.0), (1858, 0.0), (1859, 0.0), (1860, 0.0), (1861, 0.0), (1862, 0.0), (1863, 0.0), (1864, 0.0035741385487886466), (1865, 0.003402741324539578), (1866, 0.004033608794949165), (1867, 0.0), (1868, 0.0), (1869, 0.03526300443992707), (1870, 0.0), (1871, 0.02413140569896502), (1872, 0.0), (1873, 0.0), (1874, 0.0), (1875, 0.0034209577559811788), (1876, 0.003940996564262304), (1877, 0.0), (1878, 0.003576682166544387), (1879, 0.0), (1880, 0.0), (1881, 0.0), (1882, 0.0037068270243259625), (1883, 0.0), (1884, 0.0035333870726670675), (1885, 0.004410741761612185), (1886, 0.003076059914275386), (1887, 0.0), (1888, 0.0), (1889, 0.0), (1890, 0.0), (1891, 0.0036840530050564393), (1892, 0.0036650636743317346), (1893, 0.004008198585710251), (1894, 0.0), (1895, 0.0), (1896, 0.0040556171149649595), (1897, 0.004070872907211249), (1898, 0.0), (1899, 0.0), (1900, 0.0), (1901, 0.0), (1902, 0.003896332127231296), (1903, 0.010580333104476883), (1904, 0.0), (1905, 0.004067734548580934), (1906, 0.0), (1907, 0.004033910239897016), (1908, 0.13866901817034596), (1909, 0.004321096967059927), (1910, 0.0), (1911, 0.0), (1912, 0.0), (1913, 0.028937366599495473), (1914, 0.0), (1915, 0.0), (1916, 0.004007006636604613), (1917, 0.0), (1918, 0.0039532562090757615), (1919, 0.0256698541169748), (1920, 0.003377629196916995), (1921, 0.0), (1922, 0.0), (1923, 0.00409993237060237), (1924, 0.00415743031321242), (1925, 0.010154716136062317), (1926, 0.012572565539813264), (1927, 0.0), (1928, 0.0), (1929, 0.01117462970340748), (1930, 0.0), (1931, 0.0038339601649391678), (1932, 0.0), (1933, 0.0), (1934, 0.0033618865533894256), (1935, 0.0), (1936, 0.011909296305899333), (1937, 0.0), (1938, 0.01050983263164279), (1939, 0.0), (1940, 0.0), (1941, 0.0), (1942, 0.003857570249175973), (1943, 0.0132063046198365), (1944, 0.0), (1945, 0.0), (1946, 0.01621263763705148), (1947, 0.0043836839544474995), (1948, 0.02518822188572354), (1949, 0.0), (1950, 0.0031373729615320977), (1951, 0.0039695042825711405), (1952, 0.0), (1953, 0.0), (1954, 0.0), (1955, 0.012438611434241544), (1956, 0.0), (1957, 0.0), (1958, 0.0), (1959, 0.01298328404198219), (1960, 0.003960620552367904), (1961, 0.0), (1962, 0.0), (1963, 0.02532035901655836), (1964, 0.03747082199943906), (1965, 0.0), (1966, 0.0), (1967, 0.003798915385919322), (1968, 0.037516940382037046), (1969, 0.003738961797421783), (1970, 0.0294649913812422), (1971, 0.003336965077885291), (1972, 0.0), (1973, 0.0), (1974, 0.010936410898375725), (1975, 0.0), (1976, 0.0), (1977, 0.0033452079896641195), (1978, 0.0), (1979, 0.0), (1980, 0.0), (1981, 0.041055056422783336), (1982, 0.010682240390843414), (1983, 0.003791186617676945), (1984, 0.0), (1985, 0.0038050347575986723), (1986, 0.0), (1987, 0.0), (1988, 0.0), (1989, 0.003045035814684895), (1990, 0.0), (1991, 0.036836886870564536), (1992, 0.0), (1993, 0.0), (1994, 0.0), (1995, 0.026265043393679032), (1996, 0.0), (1997, 0.004090334798565827), (1998, 0.030288639943313093), (1999, 0.0), (2000, 0.0030662163925242888), (2001, 0.0), (2002, 0.0), (2003, 0.0), (2004, 0.0035659327260540363), (2005, 0.0), (2006, 0.0), (2007, 0.0), (2008, 0.003711807303230258), (2009, 0.03152667833403924), (2010, 0.003095166900684387), (2011, 0.0033822157456702114), (2012, 0.01314908975620308), (2013, 0.0), (2014, 0.0), (2015, 0.0), (2016, 0.003982828904787777), (2017, 0.0), (2018, 0.009776300902321719), (2019, 0.0), (2020, 0.0), (2021, 0.0), (2022, 0.0), (2023, 0.003543940132898431), (2024, 0.0037046161866732567), (2025, 0.0), (2026, 0.01789598126634573), (2027, 0.003705804154350761), (2028, 0.03303011978726044), (2029, 0.003615890564493839), (2030, 0.0), (2031, 0.003421665542473087), (2032, 0.0), (2033, 0.0), (2034, 0.003191865577910956), (2035, 0.0031845397992332795), (2036, 0.01139598346397631), (2037, 0.003928229268860105), (2038, 0.0), (2039, 0.043982514135857534), (2040, 0.0040390156091107635), (2041, 0.0), (2042, 0.0), (2043, 0.0), (2044, 0.0), (2045, 0.003729171376246799), (2046, 0.0), (2047, 0.0), (2048, 0.003961467006194546), (2049, 0.004215404271238135), (2050, 0.0), (2051, 0.00431739548961551), (2052, 0.0), (2053, 0.003972060308594747), (2054, 0.0), (2055, 0.0033926997334209753), (2056, 0.0), (2057, 0.04037327783853627), (2058, 0.0200365998408033), (2059, 0.0), (2060, 0.0), (2061, 0.029506238571250263), (2062, 0.010953594621561603), (2063, 0.0), (2064, 0.008701899308718427), (2065, 0.003312363707995212), (2066, 0.0), (2067, 0.003972618586807659), (2068, 0.003635967934142855), (2069, 0.03233660083577288), (2070, 0.0031863235638559238), (2071, 0.0), (2072, 0.0), (2073, 0.01542040244677563), (2074, 0.01034725348121937), (2075, 0.00477019043296673), (2076, 0.0), (2077, 0.0), (2078, 0.0), (2079, 0.0), (2080, 0.0), (2081, 0.0), (2082, 0.0), (2083, 0.00390948738579457), (2084, 0.0), (2085, 0.0), (2086, 0.012343240214100014), (2087, 0.0037174716037407653), (2088, 0.003975977549364447), (2089, 0.0043161960884770985), (2090, 0.0), (2091, 0.0039002087728925495), (2092, 0.0), (2093, 0.0), (2094, 0.010887807632249006), (2095, 0.0), (2096, 0.00400406276049439), (2097, 0.004108505425871042), (2098, 0.0), (2099, 0.0), (2100, 0.02202459278464602), (2101, 0.0), (2102, 0.014939826992427106), (2103, 0.00365357311975419), (2104, 0.0433374703892953), (2105, 0.003939628364646505), (2106, 0.0), (2107, 0.0), (2108, 0.004206712083644166), (2109, 0.0), (2110, 0.0), (2111, 0.0), (2112, 0.004025659900160141), (2113, 0.0), (2114, 0.009898100033910475), (2115, 0.0), (2116, 0.004127583563887514), (2117, 0.0035936474747126244), (2118, 0.029989281020262718), (2119, 0.0), (2120, 0.01177981409291884), (2121, 0.003698545034240016), (2122, 0.0037181383439557516), (2123, 0.0), (2124, 0.0), (2125, 0.02252155558732922), (2126, 0.0), (2127, 0.0031852993333589394), (2128, 0.0), (2129, 0.010820498844406973), (2130, 0.0), (2131, 0.003649592299847275), (2132, 0.013176620399656669), (2133, 0.011733996487761222), (2134, 0.004346520025545049), (2135, 0.0), (2136, 0.012343802252049106), (2137, 0.0), (2138, 0.0), (2139, 0.0), (2140, 0.039768202755265956), (2141, 0.0), (2142, 0.0), (2143, 0.0035259891088264576), (2144, 0.0038080353821236786), (2145, 0.0), (2146, 0.0), (2147, 0.0125014873351986), (2148, 0.0), (2149, 0.0035060829363451618), (2150, 0.0), (2151, 0.0), (2152, 0.010569919638416598), (2153, 0.0), (2154, 0.00453024401659445), (2155, 0.0037829751048239816), (2156, 0.0), (2157, 0.025841544501771403), (2158, 0.0), (2159, 0.004107225879006178), (2160, 0.0), (2161, 0.0), (2162, 0.004248914512661628), (2163, 0.0), (2164, 0.0), (2165, 0.0), (2166, 0.0), (2167, 0.0), (2168, 0.0), (2169, 0.003760226016644462), (2170, 0.010789907359983386), (2171, 0.0), (2172, 0.0), (2173, 0.0), (2174, 0.0036764257481329307), (2175, 0.0), (2176, 0.0041932731856182785), (2177, 0.0), (2178, 0.011596699182547613), (2179, 0.0), (2180, 0.028658032850775207), (2181, 0.0), (2182, 0.0), (2183, 0.011026289419061362), (2184, 0.036580635222165175), (2185, 0.0), (2186, 0.0), (2187, 0.0), (2188, 0.004406319248205268), (2189, 0.0), (2190, 0.01267936670185781), (2191, 0.003441162993178743), (2192, 0.0), (2193, 0.0), (2194, 0.0), (2195, 0.003658626882979362), (2196, 0.0), (2197, 0.0), (2198, 0.0), (2199, 0.004737726440415953), (2200, 0.0), (2201, 0.0034900795368216515), (2202, 0.0), (2203, 0.024244779279775565), (2204, 0.0), (2205, 0.0), (2206, 0.0), (2207, 0.0), (2208, 0.012343122064827251), (2209, 0.0), (2210, 0.0036692013383107023), (2211, 0.013131014738862551), (2212, 0.0037606911000689493), (2213, 0.0), (2214, 0.004113395997655061), (2215, 0.0), (2216, 0.0036621035188311676), (2217, 0.0), (2218, 0.0), (2219, 0.0), (2220, 0.0), (2221, 0.0), (2222, 0.0), (2223, 0.004116236108769314), (2224, 0.003482983085782599), (2225, 0.0), (2226, 0.0037163666384629024), (2227, 0.010458534983790553), (2228, 0.0), (2229, 0.004312771119745944), (2230, 0.003933832565216665), (2231, 0.0), (2232, 0.0), (2233, 0.0), (2234, 0.0), (2235, 0.0), (2236, 0.01673314612644296), (2237, 0.003274925126752612), (2238, 0.0), (2239, 0.0), (2240, 0.019702078567382646), (2241, 0.019317333934833775), (2242, 0.015926851522931475), (2243, 0.0), (2244, 0.0), (2245, 0.0), (2246, 0.0), (2247, 0.0), (2248, 0.0), (2249, 0.0), (2250, 0.021554987122009338), (2251, 0.005230064939597603), (2252, 0.0), (2253, 0.0), (2254, 0.0039006984856935654), (2255, 0.00487846858344983), (2256, 0.0), (2257, 0.02846397777692998), (2258, 0.028062622629840106), (2259, 0.0), (2260, 0.0042144861693162745), (2261, 0.0), (2262, 0.0), (2263, 0.0), (2264, 0.0), (2265, 0.014143742343259717), (2266, 0.004536373016594243), (2267, 0.0), (2268, 0.0), (2269, 0.01762074676500935), (2270, 0.0), (2271, 0.0), (2272, 0.0), (2273, 0.0), (2274, 0.0), (2275, 0.0), (2276, 0.0), (2277, 0.003916798806716744), (2278, 0.0), (2279, 0.0037697634726250487), (2280, 0.0), (2281, 0.0), (2282, 0.0), (2283, 0.012031578846920027), (2284, 0.0), (2285, 0.0), (2286, 0.018972187135247315), (2287, 0.0034593701569361358), (2288, 0.0), (2289, 0.004051282417880515), (2290, 0.0), (2291, 0.0), (2292, 0.0), (2293, 0.0), (2294, 0.0), (2295, 0.0038288722997818618), (2296, 0.0), (2297, 0.011874072933345296), (2298, 0.025839452156624563), (2299, 0.0), (2300, 0.011754378513090845), (2301, 0.0034443419412572528), (2302, 0.004253355610844132), (2303, 0.0), (2304, 0.0), (2305, 0.0), (2306, 0.0), (2307, 0.0), (2308, 0.0), (2309, 0.0), (2310, 0.0), (2311, 0.011025704825114436), (2312, 0.0), (2313, 0.0037594404787037305), (2314, 0.0), (2315, 0.0), (2316, 0.0), (2317, 0.0), (2318, 0.0), (2319, 0.0038909851163099435), (2320, 0.004366427330414339), (2321, 0.003787626343718877), (2322, 0.011192034002966733), (2323, 0.010307253448519873), (2324, 0.0), (2325, 0.0), (2326, 0.0), (2327, 0.01722144844576518), (2328, 0.0), (2329, 0.0), (2330, 0.012068085758184688), (2331, 0.0), (2332, 0.02688280515130397), (2333, 0.0), (2334, 0.003969142079432769), (2335, 0.011511529434508973), (2336, 0.0), (2337, 0.0), (2338, 0.0033647543260994597), (2339, 0.0), (2340, 0.0), (2341, 0.0), (2342, 0.0), (2343, 0.0), (2344, 0.003996776422481927), (2345, 0.0), (2346, 0.0), (2347, 0.031216688646309883), (2348, 0.01692368596857877), (2349, 0.005131584520086335), (2350, 0.0048290257948315615), (2351, 0.0), (2352, 0.0), (2353, 0.026058553498438077), (2354, 0.0), (2355, 0.04600264180220842), (2356, 0.0), (2357, 0.0), (2358, 0.0), (2359, 0.0032039183142758805), (2360, 0.010632245781007627), (2361, 0.004095947228875079), (2362, 0.003703885454644693), (2363, 0.0), (2364, 0.0), (2365, 0.024178997696426115), (2366, 0.0), (2367, 0.003483260957102931), (2368, 0.0), (2369, 0.0), (2370, 0.0), (2371, 0.012900836040829531), (2372, 0.0), (2373, 0.0), (2374, 0.003753439420166718), (2375, 0.004033678615271261), (2376, 0.0), (2377, 0.0), (2378, 0.0), (2379, 0.005197178176520354), (2380, 0.0), (2381, 0.0), (2382, 0.0), (2383, 0.0), (2384, 0.0), (2385, 0.01190627780603297), (2386, 0.003903541158374666), (2387, 0.0), (2388, 0.004449290440648385), (2389, 0.0), (2390, 0.0040377469392105314), (2391, 0.004048107533194093), (2392, 0.0), (2393, 0.0226092308786948), (2394, 0.004108167889677714), (2395, 0.0), (2396, 0.0), (2397, 0.025323925230113935), (2398, 0.0), (2399, 0.0034310964903011146), (2400, 0.004189828122921574), (2401, 0.0), (2402, 0.0036162502546244835), (2403, 0.0), (2404, 0.0), (2405, 0.0038631248968082374), (2406, 0.004492330122211364), (2407, 0.004968973836152841), (2408, 0.0), (2409, 0.0), (2410, 0.0), (2411, 0.01746540535732593), (2412, 0.003232505783827091), (2413, 0.0), (2414, 0.0), (2415, 0.004763975914982774), (2416, 0.0), (2417, 0.0), (2418, 0.0), (2419, 0.0), (2420, 0.0), (2421, 0.0), (2422, 0.0037435460360077774), (2423, 0.004850199004908238), (2424, 0.0), (2425, 0.0), (2426, 0.0), (2427, 0.004390882312866165), (2428, 0.0044805473593850014), (2429, 0.0), (2430, 0.0036468227314214955), (2431, 0.0), (2432, 0.0), (2433, 0.0), (2434, 0.00446230874683769), (2435, 0.0), (2436, 0.004124997740376698), (2437, 0.00439503801551162), (2438, 0.004770611897762465), (2439, 0.05109790800972674), (2440, 0.0), (2441, 0.003105506126964761), (2442, 0.0), (2443, 0.010416362317129465), (2444, 0.05466642158602309), (2445, 0.0), (2446, 0.0), (2447, 0.023555337818582704), (2448, 0.004800353526246803), (2449, 0.0), (2450, 0.0), (2451, 0.0), (2452, 0.0), (2453, 0.003512626327011148), (2454, 0.0), (2455, 0.0), (2456, 0.011883530394815872), (2457, 0.0034856976300757527), (2458, 0.0), (2459, 0.004370345932511543), (2460, 0.010202447371921206), (2461, 0.01489277760291035), (2462, 0.0), (2463, 0.0), (2464, 0.0), (2465, 0.0), (2466, 0.003886712522293515), (2467, 0.003586836130682553), (2468, 0.0), (2469, 0.043455928059762526), (2470, 0.0), (2471, 0.0), (2472, 0.0), (2473, 0.003596349678676534), (2474, 0.0030016501424506366), (2475, 0.0044070731243519585), (2476, 0.0), (2477, 0.003973656488737918), (2478, 0.0042744098295363206), (2479, 0.0), (2480, 0.0), (2481, 0.0), (2482, 0.0035366736770315547), (2483, 0.0), (2484, 0.004924651596520657), (2485, 0.0), (2486, 0.0), (2487, 0.0), (2488, 0.02633220751409112), (2489, 0.003824078728709836), (2490, 0.0053234609529759285), (2491, 0.0), (2492, 0.003811960328278882), (2493, 0.0), (2494, 0.0038574575450510476), (2495, 0.0), (2496, 0.0036520024617165726), (2497, 0.0), (2498, 0.0), (2499, 0.0), (2500, 0.01600524261304406), (2501, 0.0), (2502, 0.0033810045763490166), (2503, 0.0), (2504, 0.0), (2505, 0.0), (2506, 0.0), (2507, 0.0), (2508, 0.0), (2509, 0.0032767342155412948), (2510, 0.0), (2511, 0.012129898605515697), (2512, 0.0036159676022785854), (2513, 0.0), (2514, 0.0), (2515, 0.0), (2516, 0.04135256394074438), (2517, 0.0), (2518, 0.020416517299356632), (2519, 0.0), (2520, 0.0033370420919806884), (2521, 0.0), (2522, 0.004040246204956869), (2523, 0.0), (2524, 0.0), (2525, 0.0), (2526, 0.003172051157920992), (2527, 0.02555024168673316), (2528, 0.003587241359409492), (2529, 0.005404168121100457), (2530, 0.0046192630816122016), (2531, 0.0039260301164841475), (2532, 0.013521722007962768), (2533, 0.0), (2534, 0.02651816331007917), (2535, 0.00440781829309954), (2536, 0.0), (2537, 0.0), (2538, 0.002337963954103624), (2539, 0.0), (2540, 0.003618758227245728), (2541, 0.0), (2542, 0.0), (2543, 0.0), (2544, 0.00801692080642919), (2545, 0.0), (2546, 0.023811765243444884), (2547, 0.0), (2548, 0.0), (2549, 0.0), (2550, 0.0028148222789136806), (2551, 0.021671282593823813), (2552, 0.0), (2553, 0.0036149093264601227), (2554, 0.0038919081803621834), (2555, 0.004105110651201776), (2556, 0.0035855783641381136), (2557, 0.0), (2558, 0.02832640346784791), (2559, 0.0049367680335241125), (2560, 0.004155141806712929), (2561, 0.0), (2562, 0.008928671350717066), (2563, 0.003152341300199708), (2564, 0.0), (2565, 0.0), (2566, 0.0), (2567, 0.0), (2568, 0.005134727936554175), (2569, 0.0), (2570, 0.004410567141413537), (2571, 0.017760990474187766), (2572, 0.0), (2573, 0.0), (2574, 0.0), (2575, 0.0), (2576, 0.0), (2577, 0.0), (2578, 0.0), (2579, 0.004155443747360695), (2580, 0.0033311670277485603), (2581, 0.0), (2582, 0.0), (2583, 0.0), (2584, 0.010868681571461234), (2585, 0.0), (2586, 0.0), (2587, 0.0), (2588, 0.012474323082537958), (2589, 0.0), (2590, 0.0), (2591, 0.06021170781987865), (2592, 0.004151650589378444), (2593, 0.003679673959450869), (2594, 0.0), (2595, 0.0), (2596, 0.0), (2597, 0.0), (2598, 0.0034998297040747415), (2599, 0.0), (2600, 0.0), (2601, 0.003997720950519943), (2602, 0.003328967250880797), (2603, 0.0032089249404887864), (2604, 0.0), (2605, 0.0), (2606, 0.0037654452096832053), (2607, 0.003456934330420286), (2608, 0.023920303290874915), (2609, 0.016084720065277478), (2610, 0.0), (2611, 0.014050416310643967), (2612, 0.0036721586407165692), (2613, 0.0), (2614, 0.007909048371115321), (2615, 0.0), (2616, 0.011282870567072074), (2617, 0.0), (2618, 0.011307793747160419), (2619, 0.0), (2620, 0.0), (2621, 0.013235827238191696), (2622, 0.0), (2623, 0.004406325914849747), (2624, 0.0), (2625, 0.004304052218779729), (2626, 0.0), (2627, 0.0), (2628, 0.0), (2629, 0.004156196136652545), (2630, 0.0), (2631, 0.0), (2632, 0.0037914692147169903), (2633, 0.0039662952703200995), (2634, 0.003628025221922719), (2635, 0.0), (2636, 0.0), (2637, 0.01200713125367694), (2638, 0.004237167847595562), (2639, 0.0), (2640, 0.0), (2641, 0.011756458264611268), (2642, 0.021360142871057378), (2643, 0.005062123517568674), (2644, 0.0), (2645, 0.0048421940860768065), (2646, 0.01785223996482858), (2647, 0.0037648099973533076), (2648, 0.01255869453649694), (2649, 0.0), (2650, 0.012232723119485669), (2651, 0.0), (2652, 0.015427865332290814), (2653, 0.0035535084624703944), (2654, 0.0), (2655, 0.00509952142330831), (2656, 0.0), (2657, 0.0), (2658, 0.0), (2659, 0.0), (2660, 0.0), (2661, 0.003892215050880689), (2662, 0.0), (2663, 0.0), (2664, 0.004276801797085599), (2665, 0.0), (2666, 0.0), (2667, 0.0), (2668, 0.0038418162905736186), (2669, 0.0), (2670, 0.0), (2671, 0.0), (2672, 0.013056378580896552), (2673, 0.0), (2674, 0.003598429523816379), (2675, 0.0), (2676, 0.0), (2677, 0.0), (2678, 0.0060054782257810265), (2679, 0.0), (2680, 0.035544616792738265), (2681, 0.011342436857243256), (2682, 0.0105253854271406), (2683, 0.0), (2684, 0.0), (2685, 0.0), (2686, 0.0), (2687, 0.0037223482582894847), (2688, 0.010144432643201286), (2689, 0.05351627521729535), (2690, 0.0), (2691, 0.011938732764498078), (2692, 0.003279384635800519), (2693, 0.0), (2694, 0.0), (2695, 0.0037743376222077168), (2696, 0.004408351755494102), (2697, 0.0031131454623833615), (2698, 0.003664871224560231), (2699, 0.0), (2700, 0.0), (2701, 0.02695695320984105), (2702, 0.00430566702672699), (2703, 0.0), (2704, 0.0), (2705, 0.0042224669447997985), (2706, 0.0037674976400692392), (2707, 0.0), (2708, 0.051648844692246974), (2709, 0.0), (2710, 0.0), (2711, 0.02231997704391957), (2712, 0.003950075637701525), (2713, 0.0), (2714, 0.016356053153391927), (2715, 0.01538264382067922), (2716, 0.003670939377115264), (2717, 0.0), (2718, 0.0), (2719, 0.0), (2720, 0.0), (2721, 0.0), (2722, 0.0), (2723, 0.0), (2724, 0.0033597970348522893), (2725, 0.0), (2726, 0.0), (2727, 0.0), (2728, 0.0), (2729, 0.011951998854434072), (2730, 0.0), (2731, 0.004968936435424884), (2732, 0.0), (2733, 0.0), (2734, 0.0), (2735, 0.0), (2736, 0.0), (2737, 0.0), (2738, 0.0), (2739, 0.0), (2740, 0.004322279194287949), (2741, 0.0034677765259132575), (2742, 0.0), (2743, 0.003559955654154354), (2744, 0.003840125166025427), (2745, 0.0037658600954889316), (2746, 0.003815400669703069), (2747, 0.003391572810025634), (2748, 0.004415428084627317), (2749, 0.0), (2750, 0.0), (2751, 0.0), (2752, 0.0), (2753, 0.0), (2754, 0.0), (2755, 0.004117977930670189), (2756, 0.0), (2757, 0.0), (2758, 0.0031408832912521553), (2759, 0.0), (2760, 0.03906010568564046), (2761, 0.0031720232067605782), (2762, 0.0), (2763, 0.0), (2764, 0.03074269686504018), (2765, 0.0), (2766, 0.002991374471136277), (2767, 0.0029599711671871223), (2768, 0.005163653576011802), (2769, 0.004326399374465843), (2770, 0.0), (2771, 0.014008698361256467), (2772, 0.004446371810190441), (2773, 0.0), (2774, 0.009492971388749787), (2775, 0.005036973870043925), (2776, 0.003979811619609494), (2777, 0.0036240175279272442), (2778, 0.004558585792514717), (2779, 0.0036769939824182365), (2780, 0.0), (2781, 0.0), (2782, 0.004102920941993472), (2783, 0.0), (2784, 0.00375085200003554), (2785, 0.0), (2786, 0.0), (2787, 0.0), (2788, 0.0), (2789, 0.0), (2790, 0.0), (2791, 0.011310302894610597), (2792, 0.0), (2793, 0.038125593255927445), (2794, 0.0), (2795, 0.004846132087166651), (2796, 0.004393951793161943), (2797, 0.027559330951709), (2798, 0.03162724700818822), (2799, 0.0), (2800, 0.0035177521775303098), (2801, 0.0), (2802, 0.003715022897316047), (2803, 0.0034643099711563537), (2804, 0.0), (2805, 0.0), (2806, 0.0), (2807, 0.0), (2808, 0.003695141343241868), (2809, 0.007821265411315307), (2810, 0.0), (2811, 0.0), (2812, 0.0037601874072576186), (2813, 0.011705824066979157), (2814, 0.0), (2815, 0.0), (2816, 0.0), (2817, 0.0), (2818, 0.0), (2819, 0.0250180000371191), (2820, 0.0), (2821, 0.01669051616185075), (2822, 0.04097878082165871), (2823, 0.0), (2824, 0.0), (2825, 0.0), (2826, 0.0), (2827, 0.05972670143168281), (2828, 0.0), (2829, 0.0), (2830, 0.016715169320388697), (2831, 0.0036937296098045374), (2832, 0.005179605373545091), (2833, 0.0), (2834, 0.004543299446159163), (2835, 0.0), (2836, 0.0), (2837, 0.01472062578298027), (2838, 0.01936503099532528), (2839, 0.0), (2840, 0.00417048433481809), (2841, 0.0), (2842, 0.015671609856200835), (2843, 0.07643963336703893), (2844, 0.0030681128833181183), (2845, 0.0033890480441083172), (2846, 0.0), (2847, 0.011330609494598862), (2848, 0.004482794526332307), (2849, 0.0), (2850, 0.0), (2851, 0.0), (2852, 0.0), (2853, 0.0), (2854, 0.0041119991153300015), (2855, 0.0), (2856, 0.0), (2857, 0.004416496517084266), (2858, 0.0), (2859, 0.0035633268412715), (2860, 0.0), (2861, 0.0), (2862, 0.0035352021555830034), (2863, 0.0), (2864, 0.03286428579811336), (2865, 0.0), (2866, 0.052092820726363086), (2867, 0.009340006330309953), (2868, 0.0), (2869, 0.0), (2870, 0.0052269945768090445), (2871, 0.0), (2872, 0.004400011845791702), (2873, 0.0), (2874, 0.0), (2875, 0.0), (2876, 0.0032196292380857793), (2877, 0.0), (2878, 0.0038594373259126505), (2879, 0.004607980725328103), (2880, 0.0), (2881, 0.0043003327131222865), (2882, 0.0), (2883, 0.0050479538502857125), (2884, 0.0), (2885, 0.0), (2886, 0.003666157444033156), (2887, 0.003773249521526481), (2888, 0.00421973113517907), (2889, 0.005003324010079572), (2890, 0.004510647916895791), (2891, 0.0), (2892, 0.014769321125165647), (2893, 0.004217291912187881), (2894, 0.04265244853735346), (2895, 0.0), (2896, 0.0), (2897, 0.0), (2898, 0.0), (2899, 0.0035065941872734884), (2900, 0.0), (2901, 0.004937972350951446), (2902, 0.0), (2903, 0.004170760035917351), (2904, 0.0037991734749420556), (2905, 0.0), (2906, 0.0), (2907, 0.003628840897460597), (2908, 0.0030021852685834884), (2909, 0.017720383730145395), (2910, 0.00388748241758884), (2911, 0.003986241210725665), (2912, 0.0), (2913, 0.0), (2914, 0.004396244571036632), (2915, 0.0041757046455227825), (2916, 0.004356660230069862), (2917, 0.0030077351702059714), (2918, 0.0), (2919, 0.003911737896747664), (2920, 0.0034953651963239188), (2921, 0.0), (2922, 0.0), (2923, 0.0), (2924, 0.004230670179147368), (2925, 0.003049264215265096), (2926, 0.003972517460830962), (2927, 0.01382947295600882), (2928, 0.0), (2929, 0.0), (2930, 0.0), (2931, 0.003404648696442203), (2932, 0.004968496979592903), (2933, 0.0033006360031365253), (2934, 0.0038413428440719688), (2935, 0.03837395462609741), (2936, 0.0), (2937, 0.0), (2938, 0.0), (2939, 0.0), (2940, 0.012014008609046672), (2941, 0.0), (2942, 0.0), (2943, 0.004192415858365405), (2944, 0.0), (2945, 0.003703193098415297), (2946, 0.0037777289625457663), (2947, 0.0), (2948, 0.0), (2949, 0.0), (2950, 0.0), (2951, 0.0), (2952, 0.0), (2953, 0.0), (2954, 0.0), (2955, 0.01248901813229959), (2956, 0.013801396853232489), (2957, 0.03201813452333527), (2958, 0.010967611862183394), (2959, 0.0), (2960, 0.0), (2961, 0.003771403670727981), (2962, 0.0), (2963, 0.0), (2964, 0.0), (2965, 0.0036704458839190235), (2966, 0.004668237942086129), (2967, 0.0), (2968, 0.0), (2969, 0.0032017314044930586), (2970, 0.0), (2971, 0.0), (2972, 0.003765899591151436), (2973, 0.0), (2974, 0.004297516141851655), (2975, 0.025496475024166666), (2976, 0.003313780795330697), (2977, 0.003814640797138851), (2978, 0.0), (2979, 0.0), (2980, 0.003707839279016722), (2981, 0.0032788409852760416), (2982, 0.0), (2983, 0.0), (2984, 0.0), (2985, 0.0), (2986, 0.004397861015284042), (2987, 0.0), (2988, 0.00391778616051888), (2989, 0.005251736387106994), (2990, 0.0), (2991, 0.0), (2992, 0.04731053375520918), (2993, 0.0), (2994, 0.0), (2995, 0.003622288869844635), (2996, 0.003933140983391504), (2997, 0.0), (2998, 0.005389557766277069), (2999, 0.003978513155766741), (3000, 0.0), (3001, 0.01310717703401043), (3002, 0.0), (3003, 0.0), (3004, 0.0044714851881451885), (3005, 0.0), (3006, 0.0), (3007, 0.0), (3008, 0.0), (3009, 0.0), (3010, 0.0), (3011, 0.0), (3012, 0.004453144833950422), (3013, 0.004076193859654578), (3014, 0.0035933223065530563), (3015, 0.0048023682050876365), (3016, 0.0), (3017, 0.0), (3018, 0.02392965876234564), (3019, 0.0045188008117011645), (3020, 0.0), (3021, 0.0), (3022, 0.0), (3023, 0.0), (3024, 0.003148836617229357), (3025, 0.0), (3026, 0.0), (3027, 0.003446636105606172), (3028, 0.0035491283416371447), (3029, 0.0), (3030, 0.0), (3031, 0.0), (3032, 0.004266531714158797), (3033, 0.0), (3034, 0.0), (3035, 0.0), (3036, 0.0037622575219100813), (3037, 0.004119085224666966), (3038, 0.0), (3039, 0.0), (3040, 0.0), (3041, 0.0), (3042, 0.0), (3043, 0.0041340057609962335), (3044, 0.004239064775209134), (3045, 0.009780190643019016), (3046, 0.0), (3047, 0.0), (3048, 0.0), (3049, 0.0), (3050, 0.003611925078343079), (3051, 0.02132079062697916), (3052, 0.0), (3053, 0.018168250954780737), (3054, 0.0), (3055, 0.0), (3056, 0.0032010510697380494), (3057, 0.030844103963099005), (3058, 0.011712934574920564), (3059, 0.0), (3060, 0.0), (3061, 0.0), (3062, 0.004368766833353277), (3063, 0.023224337167919818), (3064, 0.0), (3065, 0.0033391222472876577), (3066, 0.011649062955163545), (3067, 0.0037497651271309364), (3068, 0.0), (3069, 0.0), (3070, 0.0), (3071, 0.0034776634308773353), (3072, 0.004517413132409361), (3073, 0.0), (3074, 0.004747275626741777), (3075, 0.0039643910983365675), (3076, 0.00491020626220189), (3077, 0.0), (3078, 0.0), (3079, 0.0), (3080, 0.0), (3081, 0.00462528918953087), (3082, 0.02249607277368197), (3083, 0.0), (3084, 0.0), (3085, 0.0), (3086, 0.003946825393423675), (3087, 0.0), (3088, 0.0), (3089, 0.01390420090430048), (3090, 0.0), (3091, 0.031275268933727486), (3092, 0.04266520053892616), (3093, 0.012063335458831257), (3094, 0.004316712824206659), (3095, 0.0), (3096, 0.013500816031240977), (3097, 0.02755186250493555), (3098, 0.0), (3099, 0.0), (3100, 0.0), (3101, 0.0678792885246831), (3102, 0.04194998476654142), (3103, 0.0), (3104, 0.0), (3105, 0.0), (3106, 0.026281872425195293), (3107, 0.0), (3108, 0.0033246442931893503), (3109, 0.0), (3110, 0.0), (3111, 0.003284719547396746), (3112, 0.004068537456689002), (3113, 0.05271131541669326), (3114, 0.0), (3115, 0.0), (3116, 0.004178554667378223), (3117, 0.0), (3118, 0.0), (3119, 0.0), (3120, 0.003445643627798639), (3121, 0.011433026260365985), (3122, 0.003706645832535874), (3123, 0.004461706481522326), (3124, 0.0), (3125, 0.003836624610280685), (3126, 0.07825457085093081), (3127, 0.0), (3128, 0.0), (3129, 0.0), (3130, 0.04326227774116579), (3131, 0.0), (3132, 0.0), (3133, 0.0), (3134, 0.0), (3135, 0.0), (3136, 0.0), (3137, 0.00337071628746405), (3138, 0.0), (3139, 0.0), (3140, 0.00483726089488824), (3141, 0.011236965608478488), (3142, 0.05075285156352625), (3143, 0.0), (3144, 0.0), (3145, 0.0), (3146, 0.004124221317247312), (3147, 0.0034829915596770867), (3148, 0.004219177325297112), (3149, 0.0), (3150, 0.026795211742362355), (3151, 0.003682752418468391), (3152, 0.003061061305137374), (3153, 0.0038760746447004646), (3154, 0.01897243106925484), (3155, 0.0), (3156, 0.0), (3157, 0.02995800927834017), (3158, 0.0), (3159, 0.0), (3160, 0.0), (3161, 0.024672587502277278), (3162, 0.012777778278926332), (3163, 0.0), (3164, 0.0), (3165, 0.0044424294003401225), (3166, 0.005057627472646837), (3167, 0.0), (3168, 0.0), (3169, 0.0), (3170, 0.0037129038019058868), (3171, 0.003694652413111649), (3172, 0.0), (3173, 0.0), (3174, 0.034055641573428455), (3175, 0.0), (3176, 0.0), (3177, 0.0), (3178, 0.033900001140957946), (3179, 0.012033463447788151), (3180, 0.0), (3181, 0.0), (3182, 0.0038364976156022887), (3183, 0.004080382947077938), (3184, 0.015980025591707296), (3185, 0.0), (3186, 0.0), (3187, 0.004110051655332178), (3188, 0.0), (3189, 0.0), (3190, 0.0), (3191, 0.012710093827007852), (3192, 0.0), (3193, 0.0), (3194, 0.0035916869438280255), (3195, 0.003685158689753277), (3196, 0.004157559096367387), (3197, 0.0), (3198, 0.004069414075373017), (3199, 0.0029763790115729973), (3200, 0.038639473603758294), (3201, 0.0), (3202, 0.024206400818142737), (3203, 0.0), (3204, 0.0), (3205, 0.0), (3206, 0.0), (3207, 0.0), (3208, 0.0), (3209, 0.0), (3210, 0.003992171687691278), (3211, 0.0), (3212, 0.0), (3213, 0.024810465061442046), (3214, 0.003875583695874274), (3215, 0.0), (3216, 0.0), (3217, 0.0), (3218, 0.0040562858926118574), (3219, 0.004884032305117961), (3220, 0.003612381256867736), (3221, 0.0), (3222, 0.0), (3223, 0.0), (3224, 0.0), (3225, 0.06670768941769604), (3226, 0.0034378948380531108), (3227, 0.003912371043891526), (3228, 0.004390487393090029), (3229, 0.0), (3230, 0.0), (3231, 0.0), (3232, 0.011160886393372187), (3233, 0.0038990989609636356), (3234, 0.024031275765595415), (3235, 0.004028808609206391), (3236, 0.027260311571964506), (3237, 0.0037069655990603135), (3238, 0.010775499367285042), (3239, 0.0), (3240, 0.0035634283381713334), (3241, 0.003882591884079551), (3242, 0.012297463020013513), (3243, 0.0), (3244, 0.0), (3245, 0.0), (3246, 0.0), (3247, 0.0), (3248, 0.0043030915645727915), (3249, 0.0), (3250, 0.0), (3251, 0.0), (3252, 0.0), (3253, 0.0), (3254, 0.00326276794166636), (3255, 0.0), (3256, 0.0), (3257, 0.005289573699418044), (3258, 0.004281427001392485), (3259, 0.012534953172468164), (3260, 0.0), (3261, 0.0), (3262, 0.00516575262440634), (3263, 0.0), (3264, 0.0), (3265, 0.018468091254012352), (3266, 0.0), (3267, 0.0), (3268, 0.0037665583904350625), (3269, 0.0), (3270, 0.018255261520025354), (3271, 0.0), (3272, 0.0), (3273, 0.004098493788248621), (3274, 0.00434656633976158), (3275, 0.0046263146057531675), (3276, 0.005432427928033808), (3277, 0.0), (3278, 0.003539508739074429), (3279, 0.010210847443569631), (3280, 0.0), (3281, 0.0), (3282, 0.004663238122089594), (3283, 0.012299047986701374), (3284, 0.0034348556840544313), (3285, 0.0), (3286, 0.037335143140345854), (3287, 0.0), (3288, 0.0), (3289, 0.0), (3290, 0.0), (3291, 0.005375459098747214), (3292, 0.0), (3293, 0.00358540157647264), (3294, 0.0), (3295, 0.0), (3296, 0.004314528904104511), (3297, 0.0037897858714331626), (3298, 0.003599572926413033), (3299, 0.0), (3300, 0.02866849128899685), (3301, 0.0031962362908347164), (3302, 0.018246935790760442), (3303, 0.0038366700515270777), (3304, 0.01413858125283073), (3305, 0.0), (3306, 0.0), (3307, 0.0), (3308, 0.018163351432166255), (3309, 0.0), (3310, 0.03191924614263824), (3311, 0.003480358665957134), (3312, 0.0), (3313, 0.0), (3314, 0.01630999992726847), (3315, 0.0036783804328761327), (3316, 0.0029374688019686637), (3317, 0.003097682395360771), (3318, 0.0034022908371637048), (3319, 0.0), (3320, 0.0), (3321, 0.0), (3322, 0.0), (3323, 0.0), (3324, 0.0), (3325, 0.006124456335007853), (3326, 0.003931644837428121), (3327, 0.0033501742463132294), (3328, 0.0024556870997109875), (3329, 0.0), (3330, 0.003781965602213947), (3331, 0.0032590239964695), (3332, 0.0), (3333, 0.0), (3334, 0.0), (3335, 0.0), (3336, 0.0), (3337, 0.0), (3338, 0.0), (3339, 0.0), (3340, 0.0), (3341, 0.0), (3342, 0.0034982158132635895), (3343, 0.0), (3344, 0.003156384611828443), (3345, 0.0), (3346, 0.0037573850750693117), (3347, 0.0031772733756531683), (3348, 0.0), (3349, 0.003988777562713216), (3350, 0.0), (3351, 0.012055873063441127), (3352, 0.014800402867956959), (3353, 0.003935308177238709), (3354, 0.0), (3355, 0.02623944674292827), (3356, 0.020391944989945596), (3357, 0.004477016044751202), (3358, 0.0), (3359, 0.004467763861134815), (3360, 0.003307528319382303), (3361, 0.0), (3362, 0.009819706553021926), (3363, 0.004567570315883507), (3364, 0.004369519075779172), (3365, 0.0027075852953665587), (3366, 0.0), (3367, 0.0), (3368, 0.03407236012274114), (3369, 0.0), (3370, 0.0035175293662664106), (3371, 0.02156808238794346), (3372, 0.0), (3373, 0.0), (3374, 0.003977939771736893), (3375, 0.0), (3376, 0.0), (3377, 0.013745992557490544), (3378, 0.0), (3379, 0.0036080483074046373), (3380, 0.0033621566793921626), (3381, 0.0), (3382, 0.0), (3383, 0.0), (3384, 0.0), (3385, 0.03385284767864615), (3386, 0.015971575471020037), (3387, 0.0), (3388, 0.0038995516410770268), (3389, 0.0034412919959018367), (3390, 0.0), (3391, 0.004171201586993237), (3392, 0.0), (3393, 0.0033038938645809615), (3394, 0.07832936063567816), (3395, 0.0), (3396, 0.0), (3397, 0.0), (3398, 0.039614510887279936), (3399, 0.0035632442294444796), (3400, 0.0), (3401, 0.0), (3402, 0.003705747798283565), (3403, 0.013690686934073154), (3404, 0.03634782346938399), (3405, 0.01847311702293738), (3406, 0.004029515037667733), (3407, 0.0036136895486962974), (3408, 0.01688683486480413), (3409, 0.003250766673539017), (3410, 0.0), (3411, 0.0), (3412, 0.0), (3413, 0.0043903725018105645), (3414, 0.0), (3415, 0.0), (3416, 0.011565207974967118), (3417, 0.004142509996292302), (3418, 0.0), (3419, 0.021258585198612935), (3420, 0.0), (3421, 0.0), (3422, 0.0), (3423, 0.0), (3424, 0.0), (3425, 0.004248457788676659), (3426, 0.0), (3427, 0.0), (3428, 0.0), (3429, 0.0), (3430, 0.0), (3431, 0.0), (3432, 0.018939393379140537), (3433, 0.08589782026070955), (3434, 0.0), (3435, 0.00375476428180661), (3436, 0.003790117774523095), (3437, 0.00398204475939327), (3438, 0.0), (3439, 0.0), (3440, 0.0), (3441, 0.0), (3442, 0.0), (3443, 0.0), (3444, 0.0), (3445, 0.015477959687863387), (3446, 0.0), (3447, 0.003530980289517189), (3448, 0.0), (3449, 0.003948049380563001), (3450, 0.004222990073876939), (3451, 0.0), (3452, 0.0), (3453, 0.0), (3454, 0.011215014781879692), (3455, 0.0), (3456, 0.0), (3457, 0.0), (3458, 0.0), (3459, 0.01066455182079352), (3460, 0.003501127476249835), (3461, 0.0), (3462, 0.0), (3463, 0.04301519334599327), (3464, 0.011949086047120038), (3465, 0.0), (3466, 0.0), (3467, 0.0), (3468, 0.0), (3469, 0.0), (3470, 0.025533542054446474), (3471, 0.0032277675959748674), (3472, 0.01526312999931664), (3473, 0.021723296748840156), (3474, 0.0033685907441002054), (3475, 0.0), (3476, 0.0), (3477, 0.003697209236909234), (3478, 0.0), (3479, 0.004889181995678806), (3480, 0.010617833185274457), (3481, 0.0), (3482, 0.0), (3483, 0.003855528137986483), (3484, 0.04505140622192528), (3485, 0.0), (3486, 0.0), (3487, 0.003659075140530434), (3488, 0.0), (3489, 0.0), (3490, 0.0), (3491, 0.0), (3492, 0.01530673849618925), (3493, 0.0039579534736855935), (3494, 0.0), (3495, 0.010811882791274598), (3496, 0.0039466419381857555), (3497, 0.0), (3498, 0.0036349927630271966), (3499, 0.0), (3500, 0.003723338980810087), (3501, 0.00392717662256853), (3502, 0.0), (3503, 0.0035266638626039884), (3504, 0.003570496871593246), (3505, 0.0), (3506, 0.00424008040248701), (3507, 0.0), (3508, 0.0), (3509, 0.0), (3510, 0.0), (3511, 0.003965383117011849), (3512, 0.006106155960947838), (3513, 0.018716935298750702), (3514, 0.012246963991540362), (3515, 0.0), (3516, 0.0038639281341740165), (3517, 0.0), (3518, 0.0), (3519, 0.0), (3520, 0.0), (3521, 0.0045260055401109694), (3522, 0.012460845589948295), (3523, 0.0), (3524, 0.0042913358881080796), (3525, 0.0), (3526, 0.0038647433620358136), (3527, 0.004028244646814884), (3528, 0.0), (3529, 0.0), (3530, 0.0), (3531, 0.0), (3532, 0.0), (3533, 0.0), (3534, 0.03490680836121742), (3535, 0.0), (3536, 0.0), (3537, 0.0), (3538, 0.0), (3539, 0.0240561591650831), (3540, 0.0), (3541, 0.003751841922513331), (3542, 0.0038514816004183864), (3543, 0.0), (3544, 0.0), (3545, 0.0), (3546, 0.0028303420242167176), (3547, 0.0), (3548, 0.0), (3549, 0.0), (3550, 0.0), (3551, 0.003881365746413663), (3552, 0.005981214854918177), (3553, 0.0038535082925860212), (3554, 0.026107720163865956), (3555, 0.0), (3556, 0.00329412814369816), (3557, 0.003695137588638847), (3558, 0.003607352444922956), (3559, 0.009922935109003283), (3560, 0.004274768836837143), (3561, 0.0), (3562, 0.0), (3563, 0.014489885287390198), (3564, 0.0038416017238848844), (3565, 0.0), (3566, 0.0), (3567, 0.0), (3568, 0.0), (3569, 0.0033495940194713577), (3570, 0.0), (3571, 0.0037923859081689833), (3572, 0.0), (3573, 0.0), (3574, 0.0), (3575, 0.013443254662494589), (3576, 0.0), (3577, 0.018252862101481762), (3578, 0.0), (3579, 0.0034037795111726945), (3580, 0.036292815727108636), (3581, 0.0), (3582, 0.0), (3583, 0.0), (3584, 0.0), (3585, 0.0), (3586, 0.0), (3587, 0.012602952856386756), (3588, 0.0), (3589, 0.011067543645055711), (3590, 0.004292612150657581), (3591, 0.0), (3592, 0.014124204712728032), (3593, 0.0), (3594, 0.0), (3595, 0.0), (3596, 0.0), (3597, 0.0), (3598, 0.0), (3599, 0.0), (3600, 0.0), (3601, 0.004111732441742875), (3602, 0.0), (3603, 0.0), (3604, 0.03573275480168138), (3605, 0.0), (3606, 0.0), (3607, 0.0), (3608, 0.0), (3609, 0.011350329191873619), (3610, 0.0), (3611, 0.0), (3612, 0.003951633596965516), (3613, 0.004765178923571733), (3614, 0.020495948993044785), (3615, 0.0), (3616, 0.0), (3617, 0.0), (3618, 0.004144249140243155), (3619, 0.0), (3620, 0.004572374415529506), (3621, 0.0), (3622, 0.0), (3623, 0.0039239943697981), (3624, 0.003876808779477849), (3625, 0.0), (3626, 0.002922686174055467), (3627, 0.0), (3628, 0.0), (3629, 0.0), (3630, 0.0), (3631, 0.0), (3632, 0.0), (3633, 0.0), (3634, 0.024869970853171313), (3635, 0.005004091788859088), (3636, 0.0), (3637, 0.003361832681662454), (3638, 0.004525715599831866), (3639, 0.004185637722222535), (3640, 0.0042101839106855055), (3641, 0.015188965204866938), (3642, 0.0), (3643, 0.003897107249980827), (3644, 0.0), (3645, 0.003118442273071151), (3646, 0.0035945671314565972), (3647, 0.0), (3648, 0.0), (3649, 0.0), (3650, 0.0), (3651, 0.0), (3652, 0.0), (3653, 0.003847077360371942), (3654, 0.003912826667655626), (3655, 0.014069633717713354), (3656, 0.010660940707337765), (3657, 0.0032870287102847954), (3658, 0.0), (3659, 0.0), (3660, 0.0035712755190263385), (3661, 0.0), (3662, 0.0), (3663, 0.0), (3664, 0.0), (3665, 0.0), (3666, 0.003884581568693261), (3667, 0.005754248328703819), (3668, 0.0), (3669, 0.0035234049920890463), (3670, 0.0), (3671, 0.0), (3672, 0.0), (3673, 0.00378798599148358), (3674, 0.0), (3675, 0.00460990108845292), (3676, 0.0), (3677, 0.0), (3678, 0.027259462523422928), (3679, 0.0), (3680, 0.004337334419165837), (3681, 0.0), (3682, 0.0), (3683, 0.0), (3684, 0.0), (3685, 0.0), (3686, 0.04011044587165854), (3687, 0.0), (3688, 0.0), (3689, 0.02667382679032365), (3690, 0.0), (3691, 0.0), (3692, 0.0040528737791564575), (3693, 0.06070614443580968), (3694, 0.028230974881459005), (3695, 0.025559401795515694), (3696, 0.028786376530245492), (3697, 0.019617947440066463), (3698, 0.029095883965040217), (3699, 0.0), (3700, 0.0), (3701, 0.0), (3702, 0.0), (3703, 0.0), (3704, 0.004063215562175062), (3705, 0.0034507455042828996), (3706, 0.024947203739518885), (3707, 0.003825533699591931), (3708, 0.0), (3709, 0.0), (3710, 0.0), (3711, 0.0), (3712, 0.0), (3713, 0.0), (3714, 0.0), (3715, 0.0), (3716, 0.02141398666183678), (3717, 0.0), (3718, 0.0), (3719, 0.0), (3720, 0.0), (3721, 0.0), (3722, 0.0), (3723, 0.011017185252087178), (3724, 0.0), (3725, 0.0), (3726, 0.0), (3727, 0.0038106249316483152), (3728, 0.015870270486807107), (3729, 0.0), (3730, 0.01287162486623477), (3731, 0.0), (3732, 0.0), (3733, 0.0), (3734, 0.0036240258553610883), (3735, 0.0), (3736, 0.0), (3737, 0.0), (3738, 0.010612847021855458), (3739, 0.003695037038836634), (3740, 0.0), (3741, 0.0), (3742, 0.0034228748377924893), (3743, 0.0), (3744, 0.0), (3745, 0.00433151933223288), (3746, 0.0), (3747, 0.0), (3748, 0.0), (3749, 0.004093935443457471), (3750, 0.0), (3751, 0.0), (3752, 0.010460532263450674), (3753, 0.0), (3754, 0.03400897105936826), (3755, 0.003447907016784469), (3756, 0.0031575610049484433), (3757, 0.0), (3758, 0.0), (3759, 0.020874944732338942), (3760, 0.0), (3761, 0.0), (3762, 0.0), (3763, 0.004642149188906142), (3764, 0.0), (3765, 0.003871996534630559), (3766, 0.004673597722213712), (3767, 0.0033700954398742052), (3768, 0.0), (3769, 0.0), (3770, 0.0), (3771, 0.003978979021756838), (3772, 0.004413564547101226), (3773, 0.0), (3774, 0.03219175665376517), (3775, 0.0), (3776, 0.0), (3777, 0.003937207936044437), (3778, 0.0038468160002109518), (3779, 0.0), (3780, 0.03665558869106981), (3781, 0.0), (3782, 0.0), (3783, 0.0), (3784, 0.0036926015781282868), (3785, 0.0), (3786, 0.0), (3787, 0.0), (3788, 0.0), (3789, 0.0), (3790, 0.012317437839690793), (3791, 0.0), (3792, 0.018467344881588355), (3793, 0.0), (3794, 0.0), (3795, 0.0), (3796, 0.0), (3797, 0.004146321334034288), (3798, 0.012256869740624933), (3799, 0.00377980166447876), (3800, 0.0), (3801, 0.0034176086322587687), (3802, 0.0), (3803, 0.0), (3804, 0.0), (3805, 0.0), (3806, 0.0), (3807, 0.003786034142655261), (3808, 0.02082993021223626), (3809, 0.0038948280253869342), (3810, 0.0), (3811, 0.015382378127239287), (3812, 0.012462604503350098), (3813, 0.004105955890671554), (3814, 0.0), (3815, 0.0), (3816, 0.0), (3817, 0.0), (3818, 0.0), (3819, 0.00362925257167396), (3820, 0.0), (3821, 0.0), (3822, 0.004011855115684613), (3823, 0.0), (3824, 0.0), (3825, 0.0), (3826, 0.0035740111920936853), (3827, 0.004210503906034294), (3828, 0.004662980401726604), (3829, 0.0034517097328481358), (3830, 0.03970747773896485), (3831, 0.0), (3832, 0.004703114629710746), (3833, 0.03062838125098255), (3834, 0.0), (3835, 0.0024633346089014234), (3836, 0.0), (3837, 0.0), (3838, 0.0), (3839, 0.0034130864415720876), (3840, 0.0), (3841, 0.0), (3842, 0.0), (3843, 0.0), (3844, 0.0), (3845, 0.0040229671676811525), (3846, 0.0), (3847, 0.0416240938270583), (3848, 0.0), (3849, 0.0), (3850, 0.05991629126771335), (3851, 0.0), (3852, 0.0), (3853, 0.0), (3854, 0.06652029951550192), (3855, 0.003167903632564359), (3856, 0.02072129874018538), (3857, 0.0), (3858, 0.0), (3859, 0.0), (3860, 0.0), (3861, 0.0), (3862, 0.00406508798575422), (3863, 0.0), (3864, 0.0), (3865, 0.0), (3866, 0.00437908435362637), (3867, 0.004121728045667436), (3868, 0.021488769982890107), (3869, 0.029556203122389813), (3870, 0.011730911407129598), (3871, 0.0), (3872, 0.0), (3873, 0.004093253908866755), (3874, 0.0), (3875, 0.003070614732386313), (3876, 0.0037100249647380843), (3877, 0.0), (3878, 0.0), (3879, 0.0), (3880, 0.013859617352287166), (3881, 0.0), (3882, 0.02239678376484336), (3883, 0.004258537134374477), (3884, 0.0), (3885, 0.0), (3886, 0.011402143959189877), (3887, 0.0), (3888, 0.00377591345605226), (3889, 0.0), (3890, 0.003706762707532709), (3891, 0.0), (3892, 0.004802167224469784), (3893, 0.004173255100065014), (3894, 0.0), (3895, 0.02620761974269504), (3896, 0.0), (3897, 0.0), (3898, 0.00361343447090425), (3899, 0.0), (3900, 0.0037786494361274855), (3901, 0.004533954296746174), (3902, 0.004109282632012572), (3903, 0.004299498002050887), (3904, 0.004047242763601682), (3905, 0.0), (3906, 0.03418395123676728), (3907, 0.0), (3908, 0.0), (3909, 0.0), (3910, 0.0034699055918669675), (3911, 0.0), (3912, 0.0), (3913, 0.003396861570033669), (3914, 0.0), (3915, 0.004052713012345357), (3916, 0.0), (3917, 0.0038048923714452836), (3918, 0.0), (3919, 0.004004857269608073), (3920, 0.004085948359882461), (3921, 0.0), (3922, 0.0048603085043798094), (3923, 0.0), (3924, 0.004074816003086589), (3925, 0.005540626829191629), (3926, 0.0), (3927, 0.003217708877905617), (3928, 0.0033131271023394116), (3929, 0.0), (3930, 0.0), (3931, 0.0), (3932, 0.006979833768026575), (3933, 0.0), (3934, 0.027375962893268557), (3935, 0.0), (3936, 0.0), (3937, 0.011929592144377842), (3938, 0.0), (3939, 0.0), (3940, 0.06424439679030362), (3941, 0.010858397526205415), (3942, 0.0), (3943, 0.0), (3944, 0.0), (3945, 0.0), (3946, 0.0), (3947, 0.0), (3948, 0.010806597977332985), (3949, 0.0), (3950, 0.0), (3951, 0.0), (3952, 0.004468800340652511), (3953, 0.003628521654896628), (3954, 0.0034911896799476763), (3955, 0.0), (3956, 0.003381798956368919), (3957, 0.0), (3958, 0.0), (3959, 0.004002706588751368), (3960, 0.004165280801202321), (3961, 0.01995788470877632), (3962, 0.004227500892165111), (3963, 0.026698816425888942), (3964, 0.0), (3965, 0.031674587786360994), (3966, 0.0), (3967, 0.0), (3968, 0.0), (3969, 0.0), (3970, 0.06550679520164909), (3971, 0.0), (3972, 0.0), (3973, 0.0039045275682360815), (3974, 0.0035410159385993673), (3975, 0.0), (3976, 0.0), (3977, 0.0), (3978, 0.0), (3979, 0.0), (3980, 0.046189344808216126), (3981, 0.0), (3982, 0.0), (3983, 0.0028958326369509825), (3984, 0.017128642120314893), (3985, 0.0), (3986, 0.0), (3987, 0.0), (3988, 0.0), (3989, 0.0), (3990, 0.005037947788523612), (3991, 0.0), (3992, 0.0042866232088977696), (3993, 0.0), (3994, 0.0), (3995, 0.0), (3996, 0.0), (3997, 0.019554328947269207), (3998, 0.0), (3999, 0.0), (4000, 0.0), (4001, 0.0), (4002, 0.0), (4003, 0.0), (4004, 0.018467299158066077), (4005, 0.003958096917112753), (4006, 0.0), (4007, 0.0), (4008, 0.0), (4009, 0.0), (4010, 0.0), (4011, 0.014834823452194133), (4012, 0.0), (4013, 0.0), (4014, 0.004063425188947762), (4015, 0.0), (4016, 0.0038470122592116343), (4017, 0.0), (4018, 0.034509645637652464), (4019, 0.0), (4020, 0.028378810905973946), (4021, 0.0), (4022, 0.035476533833798986), (4023, 0.0), (4024, 0.004102414605257743), (4025, 0.003849677540668144), (4026, 0.0), (4027, 0.0), (4028, 0.0), (4029, 0.0), (4030, 0.0), (4031, 0.0), (4032, 0.0), (4033, 0.00393393200062671), (4034, 0.0), (4035, 0.0), (4036, 0.003711133894683116), (4037, 0.0), (4038, 0.003957526874235542), (4039, 0.0), (4040, 0.0), (4041, 0.0), (4042, 0.0), (4043, 0.0), (4044, 0.0), (4045, 0.0), (4046, 0.004015762977719081), (4047, 0.0), (4048, 0.0), (4049, 0.0), (4050, 0.0), (4051, 0.004290880916082582), (4052, 0.0), (4053, 0.0037219024828412097), (4054, 0.003843439496965866), (4055, 0.0), (4056, 0.0038805375666390012), (4057, 0.0), (4058, 0.0), (4059, 0.0), (4060, 0.0), (4061, 0.0), (4062, 0.0), (4063, 0.017124872694614983), (4064, 0.0), (4065, 0.0), (4066, 0.0034095454352289223), (4067, 0.0), (4068, 0.0037325753937234693), (4069, 0.003628977261631224), (4070, 0.011242355896372834), (4071, 0.011103745202630695), (4072, 0.0), (4073, 0.0), (4074, 0.013844110959561676), (4075, 0.0), (4076, 0.0), (4077, 0.0), (4078, 0.0), (4079, 0.004046228151593249), (4080, 0.0), (4081, 0.0), (4082, 0.042569258021203975), (4083, 0.0), (4084, 0.0), (4085, 0.0035901747997817033), (4086, 0.0), (4087, 0.004207284225157126), (4088, 0.0), (4089, 0.0), (4090, 0.0), (4091, 0.0), (4092, 0.004220988796056263), (4093, 0.0), (4094, 0.0), (4095, 0.0031990575918951327), (4096, 0.028181619235032776), (4097, 0.0), (4098, 0.004103091705856591), (4099, 0.0), (4100, 0.0), (4101, 0.017055733963052717), (4102, 0.0), (4103, 0.0), (4104, 0.0), (4105, 0.0), (4106, 0.0), (4107, 0.0), (4108, 0.0), (4109, 0.0), (4110, 0.0), (4111, 0.004066274716562082), (4112, 0.0), (4113, 0.00413076465423774), (4114, 0.0), (4115, 0.0), (4116, 0.004108399019128111), (4117, 0.00444737972020403), (4118, 0.0), (4119, 0.0), (4120, 0.0), (4121, 0.0205922657494125), (4122, 0.0), (4123, 0.003988072338015475), (4124, 0.0), (4125, 0.0), (4126, 0.0), (4127, 0.0), (4128, 0.0), (4129, 0.0), (4130, 0.004178204877353762), (4131, 0.0), (4132, 0.0), (4133, 0.004200253701938526), (4134, 0.0), (4135, 0.0037538971517636585), (4136, 0.012268251493401246), (4137, 0.015303593869746517), (4138, 0.004142408078252917), (4139, 0.0), (4140, 0.0), (4141, 0.0034084676727221728), (4142, 0.0), (4143, 0.003409589271294286), (4144, 0.0), (4145, 0.0), (4146, 0.0), (4147, 0.0), (4148, 0.024797537095838335), (4149, 0.03340114539411833), (4150, 0.0), (4151, 0.0032610137929066346), (4152, 0.0149490088794552), (4153, 0.0), (4154, 0.0035843628934183304), (4155, 0.0), (4156, 0.003233922362397921), (4157, 0.0), (4158, 0.03028228538272403), (4159, 0.011477662686548849), (4160, 0.004232323687245555), (4161, 0.0), (4162, 0.0), (4163, 0.004578860349646341), (4164, 0.010723332199902387), (4165, 0.0), (4166, 0.0), (4167, 0.0), (4168, 0.0), (4169, 0.0), (4170, 0.0), (4171, 0.011136882844762122), (4172, 0.0), (4173, 0.0), (4174, 0.0), (4175, 0.0), (4176, 0.0035044231812615184), (4177, 0.0), (4178, 0.0038274697852376193), (4179, 0.0), (4180, 0.0), (4181, 0.0), (4182, 0.049022209333241355), (4183, 0.0037112305695710963), (4184, 0.0), (4185, 0.0), (4186, 0.0), (4187, 0.004104779566365452), (4188, 0.01216211844338034), (4189, 0.003656024017735803), (4190, 0.0), (4191, 0.0), (4192, 0.0035695018030976145), (4193, 0.0), (4194, 0.014496442009357), (4195, 0.0), (4196, 0.0), (4197, 0.04910901384078044), (4198, 0.0), (4199, 0.02795703314997315), (4200, 0.0), (4201, 0.0), (4202, 0.005312411330947769), (4203, 0.004252114244726604), (4204, 0.0), (4205, 0.0035791911175889757), (4206, 0.0), (4207, 0.0), (4208, 0.0), (4209, 0.0), (4210, 0.034442725419929064), (4211, 0.0), (4212, 0.0), (4213, 0.0), (4214, 0.0), (4215, 0.0), (4216, 0.0), (4217, 0.0), (4218, 0.01164043558128918), (4219, 0.0), (4220, 0.0), (4221, 0.0), (4222, 0.0), (4223, 0.0), (4224, 0.0), (4225, 0.0), (4226, 0.0), (4227, 0.0), (4228, 0.0), (4229, 0.0), (4230, 0.0), (4231, 0.003994789691170457), (4232, 0.0), (4233, 0.0), (4234, 0.0), (4235, 0.0), (4236, 0.0), (4237, 0.010665547755082001), (4238, 0.0), (4239, 0.07614647800010817), (4240, 0.0), (4241, 0.0), (4242, 0.0), (4243, 0.004512962365172034), (4244, 0.004429116334544427), (4245, 0.0), (4246, 0.0), (4247, 0.0033214258756470772), (4248, 0.0), (4249, 0.004040801728643011), (4250, 0.0), (4251, 0.0), (4252, 0.0), (4253, 0.0), (4254, 0.0), (4255, 0.003789182573431886), (4256, 0.02716239691927102), (4257, 0.003532804359750931), (4258, 0.0), (4259, 0.004037354495749508), (4260, 0.0), (4261, 0.0), (4262, 0.0), (4263, 0.0), (4264, 0.0), (4265, 0.0), (4266, 0.003808347998161873), (4267, 0.0), (4268, 0.06088409969562043), (4269, 0.004291186300477832), (4270, 0.011030151186355638), (4271, 0.0), (4272, 0.0), (4273, 0.0), (4274, 0.0), (4275, 0.0), (4276, 0.0), (4277, 0.0), (4278, 0.0), (4279, 0.0), (4280, 0.0), (4281, 0.0), (4282, 0.003546533267331662), (4283, 0.0037412888761455456), (4284, 0.003814866995934065), (4285, 0.0), (4286, 0.004002208307852051), (4287, 0.0038367863968087504), (4288, 0.007822817626638418), (4289, 0.0), (4290, 0.0), (4291, 0.05522702112970089), (4292, 0.0), (4293, 0.004361246527860129), (4294, 0.0), (4295, 0.004326659582491311), (4296, 0.0), (4297, 0.0), (4298, 0.0), (4299, 0.011230810914743709), (4300, 0.0), (4301, 0.0), (4302, 0.0), (4303, 0.0), (4304, 0.0), (4305, 0.0), (4306, 0.0), (4307, 0.0), (4308, 0.0), (4309, 0.0036751929133667025), (4310, 0.0), (4311, 0.0032452117593159595), (4312, 0.0), (4313, 0.0), (4314, 0.0), (4315, 0.0), (4316, 0.0), (4317, 0.0), (4318, 0.019838656546188094), (4319, 0.02448433565862448), (4320, 0.0), (4321, 0.0035243851695382243), (4322, 0.0), (4323, 0.0), (4324, 0.012481174555797309), (4325, 0.0), (4326, 0.0), (4327, 0.0), (4328, 0.0), (4329, 0.0), (4330, 0.004081390296845558), (4331, 0.0), (4332, 0.0), (4333, 0.004364047505766216), (4334, 0.003843040742501839), (4335, 0.0), (4336, 0.003880785045728706), (4337, 0.0), (4338, 0.012422411109083884), (4339, 0.0), (4340, 0.0), (4341, 0.0), (4342, 0.0), (4343, 0.01985786234854321), (4344, 0.00321795414915798), (4345, 0.00362255542450211), (4346, 0.012982813342765805), (4347, 0.0), (4348, 0.0), (4349, 0.0), (4350, 0.0034623100516682046), (4351, 0.0), (4352, 0.0), (4353, 0.0), (4354, 0.0), (4355, 0.0), (4356, 0.014976580435752453), (4357, 0.003986780018947685), (4358, 0.0), (4359, 0.0), (4360, 0.045955788214460995), (4361, 0.0), (4362, 0.0037007365555488036), (4363, 0.0), (4364, 0.030202607232853305), (4365, 0.0), (4366, 0.0), (4367, 0.0), (4368, 0.004269175633881773), (4369, 0.004277211106609451), (4370, 0.0), (4371, 0.00399323818717954), (4372, 0.0), (4373, 0.0), (4374, 0.0035249804929147355), (4375, 0.0), (4376, 0.0), (4377, 0.0), (4378, 0.0), (4379, 0.003936135229943762), (4380, 0.0), (4381, 0.0), (4382, 0.0035563981662648236), (4383, 0.0), (4384, 0.0), (4385, 0.010143235995502932), (4386, 0.0), (4387, 0.00365174866043369), (4388, 0.0), (4389, 0.0), (4390, 0.0), (4391, 0.0), (4392, 0.0), (4393, 0.0), (4394, 0.003646813276949809), (4395, 0.0), (4396, 0.0), (4397, 0.0), (4398, 0.0), (4399, 0.0), (4400, 0.0), (4401, 0.004018936635996137), (4402, 0.0034553273785532723), (4403, 0.00465269312429741), (4404, 0.0), (4405, 0.0), (4406, 0.0), (4407, 0.0), (4408, 0.0), (4409, 0.0), (4410, 0.0), (4411, 0.0032750100614538746), (4412, 0.004411598124354828), (4413, 0.0), (4414, 0.0), (4415, 0.0), (4416, 0.0), (4417, 0.0), (4418, 0.0), (4419, 0.004037093848304432), (4420, 0.003890699852026317), (4421, 0.0), (4422, 0.003948805758135019), (4423, 0.0), (4424, 0.0), (4425, 0.0), (4426, 0.0), (4427, 0.0), (4428, 0.0), (4429, 0.003410293940649177), (4430, 0.02332122909924055), (4431, 0.0), (4432, 0.0361741135738638), (4433, 0.0), (4434, 0.0), (4435, 0.0), (4436, 0.0), (4437, 0.03249749723351007), (4438, 0.06619131370966942), (4439, 0.0), (4440, 0.0), (4441, 0.0), (4442, 0.0), (4443, 0.00449434490355582), (4444, 0.004947324770117608), (4445, 0.020271449571089572), (4446, 0.003915941929558268), (4447, 0.0), (4448, 0.0041691208060324865), (4449, 0.0), (4450, 0.0), (4451, 0.0), (4452, 0.0), (4453, 0.0), (4454, 0.01266060625443244), (4455, 0.014681853721560825), (4456, 0.0), (4457, 0.0), (4458, 0.0), (4459, 0.0), (4460, 0.0), (4461, 0.0), (4462, 0.0), (4463, 0.03038686382797269), (4464, 0.0), (4465, 0.0), (4466, 0.0), (4467, 0.0), (4468, 0.0), (4469, 0.0), (4470, 0.003947079637553668), (4471, 0.03994359309121684), (4472, 0.0035580126455704406), (4473, 0.0034882589532500086), (4474, 0.0), (4475, 0.003667626648316649), (4476, 0.0), (4477, 0.004506899911036016), (4478, 0.0), (4479, 0.02065942065583209), (4480, 0.08007367981597589), (4481, 0.0), (4482, 0.0), (4483, 0.0), (4484, 0.004872704352015798), (4485, 0.0), (4486, 0.0), (4487, 0.0037015677693477073), (4488, 0.020665983037701865), (4489, 0.004000662238145054), (4490, 0.004556796569695102), (4491, 0.0), (4492, 0.0), (4493, 0.0), (4494, 0.0042283040850650475), (4495, 0.012860796259416177), (4496, 0.0), (4497, 0.0), (4498, 0.0), (4499, 0.0), (4500, 0.0), (4501, 0.02728915963867208), (4502, 0.0035365132290269444), (4503, 0.07061772540234593), (4504, 0.0), (4505, 0.0), (4506, 0.0), (4507, 0.004147008978241484), (4508, 0.0), (4509, 0.011245316793262258), (4510, 0.0), (4511, 0.0037073061717538556), (4512, 0.0), (4513, 0.0), (4514, 0.0), (4515, 0.0), (4516, 0.004334096040953149), (4517, 0.0039819684662379725), (4518, 0.021121220931392612), (4519, 0.0), (4520, 0.004049584372035546), (4521, 0.004570218871121785), (4522, 0.0042858434132191404), (4523, 0.003513176003276667), (4524, 0.0), (4525, 0.0), (4526, 0.0), (4527, 0.0), (4528, 0.004099574468898285), (4529, 0.0), (4530, 0.003672484660869658), (4531, 0.0), (4532, 0.0), (4533, 0.003830734014829782), (4534, 0.0), (4535, 0.004198092751306952), (4536, 0.0035804146344390456), (4537, 0.0), (4538, 0.0), (4539, 0.0), (4540, 0.0), (4541, 0.0), (4542, 0.0), (4543, 0.0), (4544, 0.0), (4545, 0.0), (4546, 0.0048301313790450615), (4547, 0.0), (4548, 0.0), (4549, 0.0), (4550, 0.0), (4551, 0.003961702769059514), (4552, 0.0118007422051733), (4553, 0.0), (4554, 0.0), (4555, 0.005745791704079453), (4556, 0.0), (4557, 0.0), (4558, 0.0), (4559, 0.0), (4560, 0.0), (4561, 0.0), (4562, 0.0), (4563, 0.0038381338584814848), (4564, 0.021279470824505813), (4565, 0.0), (4566, 0.015994092299837993), (4567, 0.0), (4568, 0.037423321467185536), (4569, 0.0), (4570, 0.0), (4571, 0.005713884175431027), (4572, 0.0), (4573, 0.003915906152121308), (4574, 0.0), (4575, 0.004236554642413565), (4576, 0.0), (4577, 0.0), (4578, 0.0), (4579, 0.0), (4580, 0.0), (4581, 0.0695277889531864), (4582, 0.0), (4583, 0.0), (4584, 0.0), (4585, 0.0), (4586, 0.0), (4587, 0.0), (4588, 0.0), (4589, 0.004401692411713049), (4590, 0.0032940854381811897), (4591, 0.0035861046445372926), (4592, 0.0), (4593, 0.004183550070545998), (4594, 0.004504508227643431), (4595, 0.0), (4596, 0.0), (4597, 0.021670323446449643), (4598, 0.030539037031740796), (4599, 0.020817645452672767), (4600, 0.0), (4601, 0.003993452568540238), (4602, 0.0), (4603, 0.0038556948617378493), (4604, 0.0), (4605, 0.0), (4606, 0.0), (4607, 0.0), (4608, 0.0), (4609, 0.012260677867876558), (4610, 0.0031598131021745865), (4611, 0.015429688657506853), (4612, 0.0), (4613, 0.0), (4614, 0.0), (4615, 0.0), (4616, 0.0), (4617, 0.005070598869063026), (4618, 0.0), (4619, 0.00449574554500049), (4620, 0.0), (4621, 0.0), (4622, 0.0), (4623, 0.0), (4624, 0.004121346915027323), (4625, 0.004090995091714677), (4626, 0.0032300549851798583), (4627, 0.0), (4628, 0.01227633352509858), (4629, 0.003948965118268666), (4630, 0.0), (4631, 0.0), (4632, 0.004444398085526938), (4633, 0.0), (4634, 0.0), (4635, 0.0), (4636, 0.003279318375031135), (4637, 0.004644345131538868), (4638, 0.0035161748851062096), (4639, 0.0), (4640, 0.0037513479123956472), (4641, 0.0), (4642, 0.0), (4643, 0.00401337711548449), (4644, 0.0), (4645, 0.0), (4646, 0.0), (4647, 0.0), (4648, 0.0), (4649, 0.0), (4650, 0.017546793961952883), (4651, 0.0), (4652, 0.0), (4653, 0.02172818616911414), (4654, 0.0), (4655, 0.0), (4656, 0.0), (4657, 0.004177944125239836), (4658, 0.0035662123294564066), (4659, 0.0), (4660, 0.004573498474040568), (4661, 0.0), (4662, 0.0), (4663, 0.0), (4664, 0.0), (4665, 0.0), (4666, 0.0), (4667, 0.0), (4668, 0.0038757465004292365), (4669, 0.004043687723771325), (4670, 0.0036967459452727043), (4671, 0.0), (4672, 0.0), (4673, 0.0036271761127328957), (4674, 0.003033419229551988), (4675, 0.0), (4676, 0.012843981165622178), (4677, 0.0), (4678, 0.0), (4679, 0.0), (4680, 0.0), (4681, 0.0), (4682, 0.0), (4683, 0.0), (4684, 0.02691028029120922), (4685, 0.0), (4686, 0.0), (4687, 0.0), (4688, 0.0), (4689, 0.0), (4690, 0.0), (4691, 0.0), (4692, 0.0), (4693, 0.0), (4694, 0.0), (4695, 0.0), (4696, 0.0), (4697, 0.0), (4698, 0.0), (4699, 0.004165700240637403), (4700, 0.0), (4701, 0.004345386945517556), (4702, 0.0), (4703, 0.0), (4704, 0.0), (4705, 0.0), (4706, 0.004362991153910882), (4707, 0.0), (4708, 0.0), (4709, 0.02385875090327774), (4710, 0.0049892857790501555), (4711, 0.0), (4712, 0.0034620409255957693), (4713, 0.0043355297687311094), (4714, 0.0), (4715, 0.0), (4716, 0.0), (4717, 0.0), (4718, 0.004286141463168081), (4719, 0.0), (4720, 0.0), (4721, 0.0), (4722, 0.004016153881328314), (4723, 0.0047606895714344686), (4724, 0.0), (4725, 0.0), (4726, 0.010451726045169892), (4727, 0.0), (4728, 0.0), (4729, 0.0), (4730, 0.0), (4731, 0.004408253385886373), (4732, 0.0), (4733, 0.0032946886892870745), (4734, 0.004140072592562183), (4735, 0.0), (4736, 0.0), (4737, 0.0), (4738, 0.0), (4739, 0.007781297471283716), (4740, 0.0), (4741, 0.0), (4742, 0.0), (4743, 0.0), (4744, 0.0), (4745, 0.0), (4746, 0.0), (4747, 0.0), (4748, 0.0), (4749, 0.0), (4750, 0.0), (4751, 0.0), (4752, 0.0026802350469439583), (4753, 0.0), (4754, 0.0), (4755, 0.0), (4756, 0.0), (4757, 0.012645006603862169), (4758, 0.0), (4759, 0.0)]\n"
          ]
        }
      ]
    },
    {
      "cell_type": "code",
      "source": [
        "len(Recommendation_Score)"
      ],
      "metadata": {
        "colab": {
          "base_uri": "https://localhost:8080/"
        },
        "id": "v_k7kA9zzoS8",
        "outputId": "cb1d177e-a8ea-48d3-90e5-65e220cd597f"
      },
      "execution_count": 29,
      "outputs": [
        {
          "output_type": "execute_result",
          "data": {
            "text/plain": [
              "4760"
            ]
          },
          "metadata": {},
          "execution_count": 29
        }
      ]
    },
    {
      "cell_type": "markdown",
      "source": [
        "##**Get All Movies Sort Based On Recommendation Score wrt Favourite Movie**"
      ],
      "metadata": {
        "id": "rmSQmeInz-ee"
      }
    },
    {
      "cell_type": "code",
      "source": [
        "#Sorting the movies based on their similarity score\n",
        "\n",
        "Sorted_Similar_Movies = sorted(Recommendation_Score, key = lambda x:x[1], reverse = True)\n",
        "print(Sorted_Similar_Movies)"
      ],
      "metadata": {
        "colab": {
          "base_uri": "https://localhost:8080/"
        },
        "id": "JDSBI2e1z7TQ",
        "outputId": "c8472b40-9e9c-4c56-bb0f-6a31ba1ff892"
      },
      "execution_count": 30,
      "outputs": [
        {
          "output_type": "stream",
          "name": "stdout",
          "text": [
            "[(480, 1.0000000000000002), (1908, 0.13866901817034596), (799, 0.10887477808526629), (1740, 0.09023832966551454), (3433, 0.08589782026070955), (533, 0.0807622914670498), (4480, 0.08007367981597589), (1714, 0.07880494099566107), (475, 0.07862286544341857), (203, 0.07854852783195568), (3394, 0.07832936063567816), (3126, 0.07825457085093081), (2843, 0.07643963336703893), (4239, 0.07614647800010817), (492, 0.0748150623366041), (1568, 0.07194359573046955), (1442, 0.07080496529248936), (1762, 0.07070584912339226), (4503, 0.07061772540234593), (4581, 0.0695277889531864), (998, 0.06936273425636375), (817, 0.06888665941916838), (3101, 0.0678792885246831), (1041, 0.06688469812637621), (594, 0.06687783412483736), (3225, 0.06670768941769604), (3854, 0.06652029951550192), (4438, 0.06619131370966942), (393, 0.0659156442121572), (3970, 0.06550679520164909), (199, 0.0649243387626045), (604, 0.0646077745977081), (3940, 0.06424439679030362), (865, 0.06418153441942537), (1172, 0.06143885038075793), (4268, 0.06088409969562043), (3693, 0.06070614443580968), (2591, 0.06021170781987865), (3850, 0.05991629126771335), (2827, 0.05972670143168281), (186, 0.05908655096912439), (1750, 0.05789569603421184), (4291, 0.05522702112970089), (2444, 0.05466642158602309), (115, 0.05420995225058589), (108, 0.05384008890323518), (2689, 0.05351627521729535), (3113, 0.05271131541669326), (892, 0.05256767357419148), (2866, 0.052092820726363086), (1050, 0.05195573166048102), (2708, 0.051648844692246974), (2439, 0.05109790800972674), (3142, 0.05075285156352625), (390, 0.04979033086652041), (1202, 0.049604473399107396), (4197, 0.04910901384078044), (4182, 0.049022209333241355), (389, 0.048762981405371275), (2992, 0.04731053375520918), (883, 0.047153040056050824), (929, 0.04692344794676067), (564, 0.04663680675252976), (47, 0.04653461327258548), (3980, 0.046189344808216126), (2355, 0.04600264180220842), (4360, 0.045955788214460995), (1529, 0.04558295714890361), (3484, 0.04505140622192528), (154, 0.04495134547181483), (1160, 0.044419887039340154), (2039, 0.043982514135857534), (2469, 0.043455928059762526), (2104, 0.0433374703892953), (1054, 0.04331913789814688), (3130, 0.04326227774116579), (374, 0.04303641666869375), (3463, 0.04301519334599327), (3092, 0.04266520053892616), (2894, 0.04265244853735346), (4082, 0.042569258021203975), (355, 0.04212518820821886), (132, 0.04210116751812524), (3102, 0.04194998476654142), (3847, 0.0416240938270583), (2516, 0.04135256394074438), (1981, 0.041055056422783336), (2822, 0.04097878082165871), (1390, 0.04075310149503215), (613, 0.040554348474897986), (183, 0.040522761098842126), (2057, 0.04037327783853627), (3686, 0.04011044587165854), (4471, 0.03994359309121684), (2140, 0.039768202755265956), (3830, 0.03970747773896485), (3398, 0.039614510887279936), (96, 0.03959868416922476), (1661, 0.03949025455985609), (578, 0.03938063904383711), (1263, 0.03925717602991054), (2760, 0.03906010568564046), (3200, 0.038639473603758294), (2935, 0.03837395462609741), (659, 0.03823560521731206), (1496, 0.03814999910849008), (77, 0.0381480954098616), (2793, 0.038125593255927445), (349, 0.03809175794077162), (442, 0.03758688886494888), (35, 0.03754873257517449), (1968, 0.037516940382037046), (1964, 0.03747082199943906), (4568, 0.037423321467185536), (595, 0.03733967949871266), (3286, 0.037335143140345854), (859, 0.03696126349936904), (1991, 0.036836886870564536), (1719, 0.03683532579272531), (3780, 0.03665558869106981), (2184, 0.036580635222165175), (3404, 0.03634782346938399), (312, 0.036302932293403166), (3580, 0.036292815727108636), (4432, 0.0361741135738638), (1495, 0.03586079970128431), (3604, 0.03573275480168138), (2680, 0.035544616792738265), (4022, 0.035476533833798986), (1029, 0.03540907782377914), (1869, 0.03526300443992707), (1603, 0.035053297331426064), (436, 0.0349430201977838), (810, 0.03490767477657903), (3534, 0.03490680836121742), (240, 0.03478848209469863), (577, 0.034604541104521526), (1140, 0.0345677625529633), (4018, 0.034509645637652464), (4210, 0.034442725419929064), (619, 0.034427206950940197), (3906, 0.03418395123676728), (3368, 0.03407236012274114), (3174, 0.034055641573428455), (3754, 0.03400897105936826), (1249, 0.033999960501441745), (193, 0.03396364200294785), (3178, 0.033900001140957946), (3385, 0.03385284767864615), (190, 0.03372987239787303), (4149, 0.03340114539411833), (1143, 0.033347653203707604), (2028, 0.03303011978726044), (2864, 0.03286428579811336), (979, 0.03286150200974847), (988, 0.03283704926815333), (1474, 0.03265059421618425), (4437, 0.03249749723351007), (2069, 0.03233660083577288), (3774, 0.03219175665376517), (2957, 0.03201813452333527), (3310, 0.03191924614263824), (726, 0.03179751126212412), (3965, 0.031674587786360994), (2798, 0.03162724700818822), (2009, 0.03152667833403924), (1649, 0.031503564728301965), (3091, 0.031275268933727486), (434, 0.03125350508819277), (2347, 0.031216688646309883), (1569, 0.03113783225848059), (3057, 0.030844103963099005), (1085, 0.03079479960896239), (2764, 0.03074269686504018), (3833, 0.03062838125098255), (4598, 0.030539037031740796), (1356, 0.03045741722333573), (4463, 0.03038686382797269), (1998, 0.030288639943313093), (4158, 0.03028228538272403), (4364, 0.030202607232853305), (969, 0.030111130064304773), (280, 0.030033590601402285), (2118, 0.029989281020262718), (3157, 0.02995800927834017), (614, 0.02981317025537121), (1338, 0.02965772477024622), (909, 0.02964216236081068), (705, 0.02956944246809375), (3869, 0.029556203122389813), (2061, 0.029506238571250263), (1970, 0.0294649913812422), (1374, 0.029315360742976106), (358, 0.029228752872609377), (3698, 0.029095883965040217), (1913, 0.028937366599495473), (493, 0.02889361835844536), (3696, 0.028786376530245492), (1668, 0.02876278324860823), (3300, 0.02866849128899685), (2180, 0.028658032850775207), (2257, 0.02846397777692998), (4020, 0.028378810905973946), (1736, 0.02833700291922158), (2558, 0.02832640346784791), (1283, 0.02832015950717466), (1372, 0.02829904308923177), (3694, 0.028230974881459005), (4096, 0.028181619235032776), (1153, 0.028165571477004218), (2258, 0.028062622629840106), (1052, 0.02803852807884462), (4199, 0.02795703314997315), (41, 0.02793642220346126), (228, 0.027756877392728647), (1528, 0.027593580299082213), (2797, 0.027559330951709), (1647, 0.02755756762645023), (3097, 0.02755186250493555), (3934, 0.027375962893268557), (914, 0.0272931451865862), (428, 0.027291694397586046), (4501, 0.02728915963867208), (3236, 0.027260311571964506), (3678, 0.027259462523422928), (1299, 0.027231779056724793), (4256, 0.02716239691927102), (36, 0.027160290210246282), (1278, 0.027039758471797914), (1689, 0.026967114608714662), (2701, 0.02695695320984105), (585, 0.026942340141398416), (4684, 0.02691028029120922), (1772, 0.026883907267396197), (2332, 0.02688280515130397), (631, 0.02680708704305068), (3150, 0.026795211742362355), (282, 0.026766112889709107), (3963, 0.026698816425888942), (3689, 0.02667382679032365), (2534, 0.02651816331007917), (81, 0.02642964803509623), (2488, 0.02633220751409112), (1601, 0.026297173730228038), (3106, 0.026281872425195293), (1995, 0.026265043393679032), (3355, 0.02623944674292827), (259, 0.026237312614492456), (153, 0.026226231714744218), (3895, 0.02620761974269504), (538, 0.026109666952798136), (3554, 0.026107720163865956), (2353, 0.026058553498438077), (2157, 0.025841544501771403), (2298, 0.025839452156624563), (353, 0.025738846666601905), (6, 0.025713446199740843), (1919, 0.0256698541169748), (3695, 0.025559401795515694), (1217, 0.02555430988220696), (2527, 0.02555024168673316), (3470, 0.025533542054446474), (2975, 0.025496475024166666), (886, 0.025470591623993625), (1416, 0.02539128081630036), (2397, 0.025323925230113935), (1963, 0.02532035901655836), (1123, 0.02531126276179576), (733, 0.02525477379667536), (669, 0.025211886220915688), (846, 0.025206389751281703), (1948, 0.02518822188572354), (307, 0.025172435037147303), (1460, 0.025079611207890824), (213, 0.025055692027644363), (2819, 0.0250180000371191), (1241, 0.025012702662499435), (713, 0.024952868084090387), (3706, 0.024947203739518885), (3634, 0.024869970853171313), (3213, 0.024810465061442046), (4148, 0.024797537095838335), (703, 0.02469253378027048), (3161, 0.024672587502277278), (4319, 0.02448433565862448), (385, 0.024422383917073544), (401, 0.024359598184435147), (1290, 0.024344056216932648), (453, 0.024297579816351), (324, 0.02428288304808533), (2203, 0.024244779279775565), (3202, 0.024206400818142737), (18, 0.02420477620972514), (1357, 0.024196136835524497), (2365, 0.024178997696426115), (1871, 0.02413140569896502), (808, 0.024103419392011556), (1613, 0.02410066276581517), (3539, 0.0240561591650831), (3234, 0.024031275765595415), (3018, 0.02392965876234564), (2608, 0.023920303290874915), (4709, 0.02385875090327774), (1817, 0.023855822481091523), (28, 0.023855498161330098), (694, 0.023839598917874665), (2546, 0.023811765243444884), (745, 0.02380933554192771), (590, 0.023800271830048868), (1675, 0.023731069927303467), (1616, 0.02372603022213504), (911, 0.023687579848097686), (1273, 0.023653213496825302), (371, 0.023611840411145505), (184, 0.02358603784500136), (2447, 0.023555337818582704), (1780, 0.02350491910074529), (4430, 0.02332122909924055), (3063, 0.023224337167919818), (1764, 0.023079730056267535), (565, 0.022808500863782246), (310, 0.02277682429043493), (231, 0.022766715391697893), (1165, 0.022694381344747886), (580, 0.022693823168656105), (2393, 0.0226092308786948), (2125, 0.02252155558732922), (588, 0.022519815435526645), (3082, 0.02249607277368197), (1559, 0.02246966331273204), (1198, 0.022451286578730748), (3882, 0.02239678376484336), (2711, 0.02231997704391957), (1522, 0.02231713303201605), (730, 0.022252132883773274), (906, 0.022241168566201182), (399, 0.02204256075675952), (2100, 0.02202459278464602), (46, 0.02200265959812562), (1671, 0.0219274469358281), (1317, 0.021923652814219995), (1653, 0.021909618963108998), (4653, 0.02172818616911414), (3473, 0.021723296748840156), (1301, 0.021703757601168362), (2551, 0.021671282593823813), (4597, 0.021670323446449643), (1747, 0.02161912240696847), (3371, 0.02156808238794346), (2250, 0.021554987122009338), (3868, 0.021488769982890107), (3716, 0.02141398666183678), (2642, 0.021360142871057378), (607, 0.021340069045169063), (3051, 0.02132079062697916), (989, 0.02130773615918291), (4564, 0.021279470824505813), (3419, 0.021258585198612935), (283, 0.021250388744825873), (381, 0.021149411643038206), (4518, 0.021121220931392612), (1367, 0.02110627084447876), (668, 0.021103538887204534), (3759, 0.020874944732338942), (3808, 0.02082993021223626), (4599, 0.020817645452672767), (376, 0.020728135737793148), (3856, 0.02072129874018538), (1524, 0.02069467916105722), (4488, 0.020665983037701865), (4479, 0.02065942065583209), (4121, 0.0205922657494125), (1120, 0.020570210028676053), (435, 0.02050776736429891), (1579, 0.0205063939842539), (3614, 0.020495948993044785), (2518, 0.020416517299356632), (3356, 0.020391944989945596), (4445, 0.020271449571089572), (515, 0.02022746896359182), (1595, 0.02012639093339522), (638, 0.02010927153138563), (2058, 0.0200365998408033), (253, 0.020027516801188302), (919, 0.019970927224285676), (3961, 0.01995788470877632), (4343, 0.01985786234854321), (4318, 0.019838656546188094), (725, 0.019761718699622975), (2240, 0.019702078567382646), (180, 0.019663774020261756), (3697, 0.019617947440066463), (3997, 0.019554328947269207), (2838, 0.01936503099532528), (875, 0.01933445484431656), (2241, 0.019317333934833775), (1470, 0.01922508102321442), (1394, 0.019102600462104418), (787, 0.018980554855285582), (3154, 0.01897243106925484), (2286, 0.018972187135247315), (3432, 0.018939393379140537), (1362, 0.01886854363011818), (1402, 0.018808234426705928), (320, 0.018726518767547468), (3513, 0.018716935298750702), (1622, 0.018716637445499815), (1268, 0.018591534804561022), (264, 0.01851765871922995), (3405, 0.01847311702293738), (3265, 0.018468091254012352), (3792, 0.018467344881588355), (4004, 0.018467299158066077), (1296, 0.018451662245228508), (814, 0.018327942959563498), (1467, 0.018311948660112085), (1326, 0.01829193495237474), (1589, 0.018270514520343135), (3270, 0.018255261520025354), (3577, 0.018252862101481762), (3302, 0.018246935790760442), (3053, 0.018168250954780737), (3308, 0.018163351432166255), (572, 0.018159523765938542), (2026, 0.01789598126634573), (2646, 0.01785223996482858), (72, 0.017769038704936645), (2571, 0.017760990474187766), (2909, 0.017720383730145395), (2269, 0.01762074676500935), (4650, 0.017546793961952883), (790, 0.017534795630032476), (263, 0.017478031489071826), (2411, 0.01746540535732593), (812, 0.01738724808302884), (915, 0.017282947317649257), (2327, 0.01722144844576518), (3984, 0.017128642120314893), (4063, 0.017124872694614983), (4101, 0.017055733963052717), (1774, 0.016961986994817234), (2348, 0.01692368596857877), (3408, 0.01688683486480413), (481, 0.016870570788032425), (548, 0.01679509696903055), (1114, 0.016772404295633734), (1518, 0.01674648988414555), (2236, 0.01673314612644296), (2830, 0.016715169320388697), (2821, 0.01669051616185075), (1188, 0.016593016741816204), (206, 0.01658055387381414), (1821, 0.0164106333989133), (278, 0.016408833614000938), (2714, 0.016356053153391927), (3314, 0.01630999992726847), (456, 0.016289653210396937), (1946, 0.01621263763705148), (2609, 0.016084720065277478), (2500, 0.01600524261304406), (4566, 0.015994092299837993), (3184, 0.015980025591707296), (3386, 0.015971575471020037), (204, 0.015967796556191585), (2242, 0.015926851522931475), (430, 0.01591686076245013), (3728, 0.015870270486807107), (660, 0.015782173515699598), (923, 0.015762223547506657), (1223, 0.01569925583851951), (697, 0.015695482321811473), (696, 0.015675317698006574), (2842, 0.015671609856200835), (71, 0.01567143386333071), (198, 0.01564218497030604), (644, 0.015636461269561152), (238, 0.015571631040650673), (1533, 0.015478971148385992), (3445, 0.015477959687863387), (4611, 0.015429688657506853), (2652, 0.015427865332290814), (2073, 0.01542040244677563), (1175, 0.015414125621827484), (2715, 0.01538264382067922), (3811, 0.015382378127239287), (3492, 0.01530673849618925), (4137, 0.015303593869746517), (3472, 0.01526312999931664), (1378, 0.015243062761061188), (1027, 0.015197239968101827), (3641, 0.015188965204866938), (1248, 0.01518317756811942), (522, 0.015165869017783959), (1408, 0.015158104038066287), (4356, 0.014976580435752453), (676, 0.014975631419479543), (4152, 0.0149490088794552), (2102, 0.014939826992427106), (1245, 0.014934600680447647), (1132, 0.014907998965141939), (2461, 0.01489277760291035), (215, 0.014863316856167931), (4011, 0.014834823452194133), (61, 0.01482233154633619), (1510, 0.014813585783818146), (388, 0.014801177951811092), (3352, 0.014800402867956959), (1261, 0.014782998293986034), (880, 0.014778533873578657), (1177, 0.014776043407152628), (2892, 0.014769321125165647), (1255, 0.014722483105389338), (2837, 0.01472062578298027), (1034, 0.014712161768169547), (31, 0.014686088736012091), (4455, 0.014681853721560825), (1375, 0.01459005165601782), (116, 0.01458583571050965), (4194, 0.014496442009357), (3563, 0.014489885287390198), (1340, 0.014488675861218015), (608, 0.014460475107470483), (926, 0.014436768264963524), (1462, 0.014310894137401883), (563, 0.01427341246212935), (218, 0.014182682632431567), (2265, 0.014143742343259717), (3304, 0.01413858125283073), (3592, 0.014124204712728032), (1258, 0.01411523015191939), (136, 0.0140999723707799), (1080, 0.014072316884552115), (3655, 0.014069633717713354), (2611, 0.014050416310643967), (936, 0.01404138241588766), (125, 0.014029411828137297), (2771, 0.014008698361256467), (1627, 0.013957989209766729), (1565, 0.013945676474839705), (951, 0.013937572356653112), (957, 0.013912779477226864), (3089, 0.01390420090430048), (357, 0.013891342534396223), (851, 0.013875478352170368), (1051, 0.013860450202407606), (3880, 0.013859617352287166), (4074, 0.013844110959561676), (1539, 0.013840708177398964), (2927, 0.01382947295600882), (2956, 0.013801396853232489), (491, 0.013778185241220835), (3377, 0.013745992557490544), (1437, 0.013701796942973738), (3403, 0.013690686934073154), (653, 0.013666261823408193), (751, 0.013573113666555957), (2532, 0.013521722007962768), (1414, 0.013503851144692918), (3096, 0.013500816031240977), (3575, 0.013443254662494589), (861, 0.013411520912971427), (1615, 0.013375892207199716), (60, 0.013350533209162987), (3, 0.013344229556764267), (1370, 0.013310206817382734), (707, 0.01327706650105567), (1069, 0.013259722482452078), (2621, 0.013235827238191696), (1943, 0.0132063046198365), (1332, 0.013192083041908907), (2132, 0.013176620399656669), (2012, 0.01314908975620308), (2211, 0.013131014738862551), (3001, 0.01310717703401043), (25, 0.013061497328178281), (2672, 0.013056378580896552), (1836, 0.013028158289751252), (1959, 0.01298328404198219), (4346, 0.012982813342765805), (2371, 0.012900836040829531), (1142, 0.012894248254675852), (3730, 0.01287162486623477), (4495, 0.012860796259416177), (4676, 0.012843981165622178), (3162, 0.012777778278926332), (303, 0.012771673393878413), (3191, 0.012710093827007852), (635, 0.012684896018333138), (2190, 0.01267936670185781), (887, 0.012669749280148074), (4454, 0.01266060625443244), (982, 0.012651487676545302), (4757, 0.012645006603862169), (3587, 0.012602952856386756), (340, 0.012592781984073742), (609, 0.01258335004735498), (1926, 0.012572565539813264), (1511, 0.01256629760876254), (2648, 0.01255869453649694), (3259, 0.012534953172468164), (2147, 0.0125014873351986), (2955, 0.01248901813229959), (715, 0.012483933800935973), (4324, 0.012481174555797309), (2588, 0.012474323082537958), (3812, 0.012462604503350098), (3522, 0.012460845589948295), (961, 0.012454213002672819), (1841, 0.012453539279143933), (1955, 0.012438611434241544), (4338, 0.012422411109083884), (953, 0.012375780882513614), (700, 0.0123634782698671), (1013, 0.01235464182152101), (2136, 0.012343802252049106), (2086, 0.012343240214100014), (2208, 0.012343122064827251), (1043, 0.012340735097000516), (363, 0.01233014188374165), (205, 0.012329718543534198), (977, 0.012319549798444417), (3790, 0.012317437839690793), (1359, 0.012300818950369198), (3283, 0.012299047986701374), (3242, 0.012297463020013513), (1234, 0.012286399047750805), (1732, 0.012284236154972246), (4628, 0.01227633352509858), (4136, 0.012268251493401246), (4609, 0.012260677867876558), (3798, 0.012256869740624933), (232, 0.012252561617446948), (3514, 0.012246963991540362), (2650, 0.012232723119485669), (297, 0.012203380837614977), (1683, 0.01219560426447154), (298, 0.012183742029776257), (17, 0.012179012004408324), (1346, 0.012167456860137935), (141, 0.012164488185176616), (4188, 0.01216211844338034), (1361, 0.01215233113848051), (1599, 0.012140785776573376), (1271, 0.012132732246594686), (1600, 0.012131883728849421), (2511, 0.012129898605515697), (684, 0.012124090252174168), (244, 0.012105572741915798), (849, 0.012078481879774722), (2330, 0.012068085758184688), (3093, 0.012063335458831257), (258, 0.012056349549164347), (3351, 0.012055873063441127), (301, 0.012046754748887082), (1345, 0.012044281039300614), (3179, 0.012033463447788151), (2283, 0.012031578846920027), (1150, 0.012025512021892027), (752, 0.012018542992718987), (2940, 0.012014008609046672), (2637, 0.01200713125367694), (1195, 0.011974399900408673), (1047, 0.011959029139983526), (2729, 0.011951998854434072), (3464, 0.011949086047120038), (2691, 0.011938732764498078), (3937, 0.011929592144377842), (1578, 0.011923889904408574), (1250, 0.01192350724218177), (1936, 0.011909296305899333), (2385, 0.01190627780603297), (819, 0.011904650760060592), (2456, 0.011883530394815872), (2297, 0.011874072933345296), (375, 0.01187161315318967), (483, 0.011851307909611105), (56, 0.01181886616941903), (993, 0.011806721446188708), (4552, 0.0118007422051733), (2120, 0.01177981409291884), (633, 0.011772499565911887), (2641, 0.011756458264611268), (2300, 0.011754378513090845), (55, 0.0117526289348887), (54, 0.011745401361444639), (2133, 0.011733996487761222), (3870, 0.011730911407129598), (1726, 0.011730217367214989), (674, 0.011730212904740087), (3058, 0.011712934574920564), (2813, 0.011705824066979157), (1298, 0.0116980685247925), (299, 0.01169771705276184), (586, 0.011695720790611978), (720, 0.011654498766347452), (3066, 0.011649062955163545), (736, 0.011642567879863706), (4218, 0.01164043558128918), (1204, 0.011634659942661966), (758, 0.011633977815730936), (610, 0.011612850970401338), (1111, 0.011610003561298776), (1256, 0.011602581600776296), (2178, 0.011596699182547613), (241, 0.011584623884306545), (1738, 0.011578456267449256), (3416, 0.011565207974967118), (152, 0.011560249107224778), (1376, 0.0115473029515363), (404, 0.011522041172523454), (2335, 0.011511529434508973), (1515, 0.011495728483869884), (1386, 0.011489334279250507), (4159, 0.011477662686548849), (1767, 0.011448077092037554), (822, 0.011436597914036369), (3121, 0.011433026260365985), (1129, 0.011422946752229086), (49, 0.011417361368016582), (1117, 0.011410241084842045), (3886, 0.011402143959189877), (2036, 0.01139598346397631), (247, 0.011395483817518062), (339, 0.011378908307994649), (451, 0.011363232704886747), (1592, 0.011354810114137892), (3609, 0.011350329191873619), (2681, 0.011342436857243256), (1295, 0.011334158737120938), (1130, 0.01133309035610566), (2847, 0.011330609494598862), (731, 0.011327522812360711), (1190, 0.01132341636728181), (2791, 0.011310302894610597), (1633, 0.011308233560890696), (2618, 0.011307793747160419), (84, 0.011289519954313194), (2616, 0.011282870567072074), (4509, 0.011245316793262258), (4070, 0.011242355896372834), (3141, 0.011236965608478488), (4299, 0.011230810914743709), (500, 0.011229756011174102), (1363, 0.011225970084322466), (568, 0.011219508077119304), (1610, 0.01121805149013842), (3454, 0.011215014781879692), (230, 0.01121162163665004), (939, 0.011209780804757697), (409, 0.011193336569595216), (2322, 0.011192034002966733), (1929, 0.01117462970340748), (3232, 0.011160886393372187), (1196, 0.011137733964628478), (4171, 0.011136882844762122), (449, 0.011122634704880851), (4071, 0.011103745202630695), (624, 0.011103077240847352), (1292, 0.011099145983545023), (1797, 0.011082684295433744), (710, 0.011079302344540859), (3589, 0.011067543645055711), (300, 0.011065705890389377), (1855, 0.011043472556995918), (4270, 0.011030151186355638), (2183, 0.011026289419061362), (2311, 0.011025704825114436), (3723, 0.011017185252087178), (1368, 0.01099432984308563), (129, 0.010990018785957806), (2958, 0.010967611862183394), (546, 0.010960048313303265), (2062, 0.010953594621561603), (824, 0.010952572260891358), (9, 0.010951467868071076), (1974, 0.010936410898375725), (291, 0.0108919782551726), (2094, 0.010887807632249006), (1664, 0.010887502805107835), (2584, 0.010868681571461234), (3941, 0.010858397526205415), (354, 0.010853399362260492), (1197, 0.010846929010868662), (411, 0.010837623518719615), (2129, 0.010820498844406973), (1157, 0.010818219852339788), (3495, 0.010811882791274598), (863, 0.010808236008209205), (3948, 0.010806597977332985), (1218, 0.0107909281425365), (2170, 0.010789907359983386), (1310, 0.010780546252939232), (3238, 0.010775499367285042), (1468, 0.010767790433699782), (382, 0.010732634943224103), (4164, 0.010723332199902387), (1008, 0.01069868830507337), (302, 0.010696335304368837), (285, 0.01068982450396923), (1171, 0.010689509400469017), (1055, 0.010683143961742513), (1982, 0.010682240390843414), (4237, 0.010665547755082001), (3459, 0.01066455182079352), (3656, 0.010660940707337765), (882, 0.010656703047656655), (2360, 0.010632245781007627), (3480, 0.010617833185274457), (3738, 0.010612847021855458), (122, 0.010593973862849469), (1903, 0.010580333104476883), (2152, 0.010569919638416598), (1392, 0.010564797223287117), (2682, 0.0105253854271406), (1784, 0.010517321493634716), (1938, 0.01050983263164279), (191, 0.010468377653738946), (3752, 0.010460532263450674), (2227, 0.010458534983790553), (4726, 0.010451726045169892), (130, 0.010436280329045373), (2443, 0.010416362317129465), (497, 0.01041361564912045), (1850, 0.010363206992388352), (2074, 0.01034725348121937), (334, 0.010325899745994693), (912, 0.010309363106191688), (2323, 0.010307253448519873), (1405, 0.010282794137213953), (836, 0.010235321363067627), (779, 0.010224964366121842), (1379, 0.010211845076092184), (3279, 0.010210847443569631), (2460, 0.010202447371921206), (640, 0.010160716845475868), (1925, 0.010154716136062317), (2688, 0.010144432643201286), (4385, 0.010143235995502932), (1046, 0.010054975234614693), (58, 0.009982969353105558), (1212, 0.009965379193384529), (1221, 0.009962580897139748), (3559, 0.009922935109003283), (1781, 0.009911282280053528), (2114, 0.009898100033910475), (177, 0.009892719292810982), (706, 0.009871758995046616), (639, 0.009860234042341981), (57, 0.009824075098572482), (438, 0.009820700254991615), (3362, 0.009819706553021926), (3045, 0.009780190643019016), (469, 0.009776914782930966), (2018, 0.009776300902321719), (1341, 0.009646397958974174), (506, 0.009633656082878191), (237, 0.00955825819600728), (2774, 0.009492971388749787), (2867, 0.009340006330309953), (807, 0.009311556387460963), (1418, 0.009110166425690052), (2562, 0.008928671350717066), (414, 0.008764226038693096), (2064, 0.008701899308718427), (2544, 0.00801692080642919), (2614, 0.007909048371115321), (4288, 0.007822817626638418), (2809, 0.007821265411315307), (4739, 0.007781297471283716), (3932, 0.006979833768026575), (3325, 0.006124456335007853), (3512, 0.006106155960947838), (2678, 0.0060054782257810265), (3552, 0.005981214854918177), (3667, 0.005754248328703819), (4555, 0.005745791704079453), (4571, 0.005713884175431027), (3925, 0.005540626829191629), (735, 0.005447859514608808), (3276, 0.005432427928033808), (2529, 0.005404168121100457), (2998, 0.005389557766277069), (947, 0.005377549807935985), (3291, 0.005375459098747214), (2490, 0.0053234609529759285), (4202, 0.005312411330947769), (3257, 0.005289573699418044), (2989, 0.005251736387106994), (2251, 0.005230064939597603), (2870, 0.0052269945768090445), (2379, 0.005197178176520354), (2832, 0.005179605373545091), (3262, 0.00516575262440634), (2768, 0.005163653576011802), (2568, 0.005134727936554175), (2349, 0.005131584520086335), (2655, 0.00509952142330831), (4617, 0.005070598869063026), (2643, 0.005062123517568674), (3166, 0.005057627472646837), (2883, 0.0050479538502857125), (3990, 0.005037947788523612), (2775, 0.005036973870043925), (627, 0.005007816417276297), (3635, 0.005004091788859088), (2889, 0.005003324010079572), (4710, 0.0049892857790501555), (2407, 0.004968973836152841), (2731, 0.004968936435424884), (2932, 0.004968496979592903), (4444, 0.004947324770117608), (2901, 0.004937972350951446), (2559, 0.0049367680335241125), (2484, 0.004924651596520657), (3076, 0.00491020626220189), (3479, 0.004889181995678806), (3219, 0.004884032305117961), (2255, 0.00487846858344983), (4484, 0.004872704352015798), (3922, 0.0048603085043798094), (2423, 0.004850199004908238), (2795, 0.004846132087166651), (2645, 0.0048421940860768065), (3140, 0.00483726089488824), (4546, 0.0048301313790450615), (2350, 0.0048290257948315615), (3015, 0.0048023682050876365), (3892, 0.004802167224469784), (2448, 0.004800353526246803), (2438, 0.004770611897762465), (2075, 0.00477019043296673), (3613, 0.004765178923571733), (2415, 0.004763975914982774), (4723, 0.0047606895714344686), (3074, 0.004747275626741777), (2199, 0.004737726440415953), (3832, 0.004703114629710746), (3766, 0.004673597722213712), (2966, 0.004668237942086129), (3282, 0.004663238122089594), (3828, 0.004662980401726604), (4403, 0.00465269312429741), (1655, 0.004647300827083333), (4637, 0.004644345131538868), (3763, 0.004642149188906142), (3275, 0.0046263146057531675), (3081, 0.00462528918953087), (1264, 0.004619581975187536), (2530, 0.0046192630816122016), (3675, 0.00460990108845292), (2879, 0.004607980725328103), (1711, 0.004606968494429121), (1208, 0.004580513636177703), (4163, 0.004578860349646341), (1064, 0.004574842655277612), (4660, 0.004573498474040568), (3620, 0.004572374415529506), (4521, 0.004570218871121785), (3363, 0.004567570315883507), (2778, 0.004558585792514717), (4490, 0.004556796569695102), (2834, 0.004543299446159163), (326, 0.004541095561689874), (2266, 0.004536373016594243), (3901, 0.004533954296746174), (2154, 0.00453024401659445), (3521, 0.0045260055401109694), (3638, 0.004525715599831866), (3019, 0.0045188008117011645), (3072, 0.004517413132409361), (4243, 0.004512962365172034), (2890, 0.004510647916895791), (4477, 0.004506899911036016), (4594, 0.004504508227643431), (4619, 0.00449574554500049), (4443, 0.00449434490355582), (2406, 0.004492330122211364), (670, 0.004491756253869867), (2848, 0.004482794526332307), (2428, 0.0044805473593850014), (3357, 0.004477016044751202), (3004, 0.0044714851881451885), (3952, 0.004468800340652511), (3359, 0.004467763861134815), (2434, 0.00446230874683769), (3123, 0.004461706481522326), (1429, 0.004457191253249033), (937, 0.004455623615036496), (3012, 0.004453144833950422), (2388, 0.004449290440648385), (4117, 0.00444737972020403), (2772, 0.004446371810190441), (1053, 0.004446140314754455), (4632, 0.004444398085526938), (3165, 0.0044424294003401225), (4244, 0.004429116334544427), (448, 0.004418321908305249), (2857, 0.004416496517084266), (925, 0.004415549963973132), (2748, 0.004415428084627317), (3772, 0.004413564547101226), (4412, 0.004411598124354828), (1885, 0.004410741761612185), (2570, 0.004410567141413537), (1049, 0.0044105414175936684), (2696, 0.004408351755494102), (4731, 0.004408253385886373), (2535, 0.00440781829309954), (2475, 0.0044070731243519585), (2623, 0.004406325914849747), (2188, 0.004406319248205268), (4589, 0.004401692411713049), (2872, 0.004400011845791702), (2986, 0.004397861015284042), (2914, 0.004396244571036632), (2437, 0.00439503801551162), (2796, 0.004393951793161943), (2427, 0.004390882312866165), (3228, 0.004390487393090029), (3413, 0.0043903725018105645), (1947, 0.0043836839544474995), (1187, 0.004382562350040928), (721, 0.004382258477129966), (1547, 0.004379847658501327), (3866, 0.00437908435362637), (2459, 0.004370345932511543), (3364, 0.004369519075779172), (3062, 0.004368766833353277), (2320, 0.004366427330414339), (4333, 0.004364047505766216), (1658, 0.004363490879350971), (4706, 0.004362991153910882), (4293, 0.004361246527860129), (2916, 0.004356660230069862), (419, 0.004352190993360599), (1498, 0.00435186273136969), (3274, 0.00434656633976158), (2134, 0.004346520025545049), (4701, 0.004345386945517556), (860, 0.004342370616752479), (3680, 0.004337334419165837), (4713, 0.0043355297687311094), (1748, 0.004334696690024817), (4516, 0.004334096040953149), (3745, 0.00433151933223288), (4295, 0.004326659582491311), (2769, 0.004326399374465843), (2740, 0.004322279194287949), (1909, 0.004321096967059927), (1398, 0.004320757287674498), (2051, 0.00431739548961551), (3094, 0.004316712824206659), (2089, 0.0043161960884770985), (3296, 0.004314528904104511), (813, 0.0043140591300300166), (2229, 0.004312771119745944), (985, 0.00431072356419437), (2702, 0.00430566702672699), (2625, 0.004304052218779729), (3248, 0.0043030915645727915), (2881, 0.0043003327131222865), (3903, 0.004299498002050887), (2974, 0.004297516141851655), (3590, 0.004292612150657581), (3524, 0.0042913358881080796), (4269, 0.004291186300477832), (4051, 0.004290880916082582), (3992, 0.0042866232088977696), (4718, 0.004286141463168081), (4522, 0.0042858434132191404), (431, 0.0042835052417989315), (3258, 0.004281427001392485), (596, 0.0042792676155921595), (1489, 0.00427804058202713), (4369, 0.004277211106609451), (2664, 0.004276801797085599), (3560, 0.004274768836837143), (2478, 0.0042744098295363206), (4368, 0.004269175633881773), (3032, 0.004266531714158797), (3883, 0.004258537134374477), (2302, 0.004253355610844132), (4203, 0.004252114244726604), (2162, 0.004248914512661628), (458, 0.004248592600651247), (3425, 0.004248457788676659), (1184, 0.004248100468529536), (1383, 0.004245831598380746), (274, 0.004242843309626447), (3506, 0.00424008040248701), (3044, 0.004239064775209134), (21, 0.004238293878349938), (999, 0.004237263521256364), (2638, 0.004237167847595562), (4575, 0.004236554642413565), (4160, 0.004232323687245555), (2924, 0.004230670179147368), (4494, 0.0042283040850650475), (3962, 0.004227500892165111), (3450, 0.004222990073876939), (2705, 0.0042224669447997985), (4092, 0.004220988796056263), (2888, 0.00421973113517907), (3148, 0.004219177325297112), (2893, 0.004217291912187881), (1023, 0.004215704992371538), (2049, 0.004215404271238135), (2260, 0.0042144861693162745), (107, 0.004212572198243109), (3827, 0.004210503906034294), (3640, 0.0042101839106855055), (4087, 0.004207284225157126), (2108, 0.004206712083644166), (443, 0.00420269798000851), (4133, 0.004200253701938526), (847, 0.004199289597634537), (4535, 0.004198092751306952), (857, 0.004196494989238224), (701, 0.004195552772924049), (2176, 0.0041932731856182785), (1275, 0.00419271925908563), (2943, 0.004192415858365405), (2400, 0.004189828122921574), (1325, 0.004189542973497566), (3639, 0.004185637722222535), (4593, 0.004183550070545998), (739, 0.004183511427962433), (3116, 0.004178554667378223), (4130, 0.004178204877353762), (4657, 0.004177944125239836), (1109, 0.004176994917818038), (208, 0.0041762065543723284), (2915, 0.0041757046455227825), (3893, 0.004173255100065014), (3391, 0.004171201586993237), (2903, 0.004170760035917351), (2840, 0.00417048433481809), (4448, 0.0041691208060324865), (62, 0.004167401992661082), (4699, 0.004165700240637403), (3960, 0.004165280801202321), (3196, 0.004157559096367387), (1924, 0.00415743031321242), (2629, 0.004156196136652545), (2579, 0.004155443747360695), (2560, 0.004155141806712929), (576, 0.00415508948993584), (2592, 0.004151650589378444), (4507, 0.004147008978241484), (3797, 0.004146321334034288), (3618, 0.004144249140243155), (3417, 0.004142509996292302), (587, 0.004142480601062592), (4138, 0.004142408078252917), (716, 0.004140657775122489), (4734, 0.004140072592562183), (48, 0.004139471674610104), (1119, 0.004139282062031149), (1349, 0.004139267318257596), (3043, 0.0041340057609962335), (876, 0.004133007903298129), (12, 0.004131967561841093), (4113, 0.00413076465423774), (2116, 0.004127583563887514), (623, 0.004125049856204579), (2436, 0.004124997740376698), (3146, 0.004124221317247312), (3867, 0.004121728045667436), (4624, 0.004121346915027323), (3037, 0.004119085224666966), (2755, 0.004117977930670189), (2223, 0.004116236108769314), (2214, 0.004113395997655061), (967, 0.004112250607518435), (2854, 0.0041119991153300015), (3601, 0.004111732441742875), (3187, 0.004110051655332178), (3902, 0.004109282632012572), (2097, 0.004108505425871042), (4116, 0.004108399019128111), (2394, 0.004108167889677714), (1141, 0.004107591130994339), (2159, 0.004107225879006178), (1716, 0.004106997208781682), (350, 0.004106687771344894), (3813, 0.004105955890671554), (2555, 0.004105110651201776), (4187, 0.004104779566365452), (4098, 0.004103091705856591), (2782, 0.004102920941993472), (4024, 0.004102414605257743), (8, 0.004102383110682602), (1923, 0.00409993237060237), (4528, 0.004099574468898285), (3273, 0.004098493788248621), (2361, 0.004095947228875079), (688, 0.0040949291569480455), (3749, 0.004093935443457471), (1822, 0.004093565622246218), (3873, 0.004093253908866755), (4625, 0.004090995091714677), (1798, 0.004090703350431673), (1997, 0.004090334798565827), (3920, 0.004085948359882461), (210, 0.004081630311576881), (4330, 0.004081390296845558), (3183, 0.004080382947077938), (1007, 0.004077313850523507), (3013, 0.004076193859654578), (3924, 0.004074816003086589), (1897, 0.004070872907211249), (729, 0.004070687206233267), (3198, 0.004069414075373017), (3112, 0.004068537456689002), (1905, 0.004067734548580934), (4111, 0.004066274716562082), (3862, 0.00406508798575422), (612, 0.004064947400998291), (4014, 0.004063425188947762), (3704, 0.004063215562175062), (318, 0.004059927232634054), (3218, 0.0040562858926118574), (1896, 0.0040556171149649595), (888, 0.004053436821780171), (3692, 0.0040528737791564575), (3915, 0.004052713012345357), (2289, 0.004051282417880515), (4520, 0.004049584372035546), (2391, 0.004048107533194093), (3904, 0.004047242763601682), (4079, 0.004046228151593249), (4669, 0.004043687723771325), (4249, 0.004040801728643011), (2522, 0.004040246204956869), (2040, 0.0040390156091107635), (2390, 0.0040377469392105314), (1687, 0.0040374821371980734), (4259, 0.004037354495749508), (4419, 0.004037093848304432), (1907, 0.004033910239897016), (2375, 0.004033678615271261), (1866, 0.004033608794949165), (1685, 0.004032554051361176), (3406, 0.004029515037667733), (3235, 0.004028808609206391), (3527, 0.004028244646814884), (120, 0.004026249891864509), (2112, 0.004025659900160141), (1513, 0.0040238946569726266), (3845, 0.0040229671676811525), (534, 0.004022476846758686), (1570, 0.004019734854821604), (4401, 0.004018936635996137), (4722, 0.004016153881328314), (4046, 0.004015762977719081), (1537, 0.004013984866364558), (4643, 0.00401337711548449), (826, 0.004012811498143947), (3822, 0.004011855115684613), (1893, 0.004008198585710251), (896, 0.004008043014123632), (1916, 0.004007006636604613), (342, 0.004005657542520344), (3919, 0.004004857269608073), (1703, 0.0040042801978520505), (2096, 0.00400406276049439), (3959, 0.004002706588751368), (673, 0.004002221654246847), (4286, 0.004002208307852051), (450, 0.004002053286954535), (4489, 0.004000662238145054), (227, 0.003998340378618362), (2601, 0.003997720950519943), (2344, 0.003996776422481927), (1182, 0.0039957771193186884), (4231, 0.003994789691170457), (1224, 0.003994273209274295), (1851, 0.003993791442222364), (4601, 0.003993452568540238), (4371, 0.00399323818717954), (1350, 0.003992242070622444), (3210, 0.003992171687691278), (986, 0.003991437671249476), (68, 0.003988949489525521), (3349, 0.003988777562713216), (774, 0.003988273765534926), (4123, 0.003988072338015475), (1225, 0.003987000076055188), (4357, 0.003986780018947685), (2911, 0.003986241210725665), (2016, 0.003982828904787777), (74, 0.00398237883562011), (3437, 0.00398204475939327), (4517, 0.0039819684662379725), (2776, 0.003979811619609494), (3771, 0.003978979021756838), (903, 0.003978534555660808), (2999, 0.003978513155766741), (1454, 0.003978132099236861), (3374, 0.003977939771736893), (2088, 0.003975977549364447), (1364, 0.003974844223770847), (2477, 0.003973656488737918), (2067, 0.003972618586807659), (2926, 0.003972517460830962), (2053, 0.003972060308594747), (1951, 0.0039695042825711405), (2334, 0.003969142079432769), (728, 0.003968542987573135), (2633, 0.0039662952703200995), (34, 0.003965768599473343), (3511, 0.003965383117011849), (3075, 0.0039643910983365675), (991, 0.003964260083049333), (872, 0.003963939471444329), (4551, 0.003961702769059514), (2048, 0.003961467006194546), (792, 0.0039609321746987315), (1960, 0.003960620552367904), (472, 0.003960138545398009), (4005, 0.003958096917112753), (3493, 0.0039579534736855935), (4038, 0.003957526874235542), (1463, 0.003955819024417683), (1324, 0.003953599529296712), (584, 0.003953443880338978), (1918, 0.0039532562090757615), (470, 0.0039520024541722576), (3612, 0.003951633596965516), (2712, 0.003950075637701525), (4629, 0.003948965118268666), (4422, 0.003948805758135019), (3449, 0.003948049380563001), (4470, 0.003947079637553668), (3086, 0.003946825393423675), (3496, 0.0039466419381857555), (1876, 0.003940996564262304), (1382, 0.003940759439370698), (482, 0.0039406116665483765), (2105, 0.003939628364646505), (1853, 0.00393817532910728), (3777, 0.003937207936044437), (192, 0.003937118038519104), (4379, 0.003936135229943762), (429, 0.003935524909221119), (3353, 0.003935308177238709), (1229, 0.003934539196098869), (4033, 0.00393393200062671), (2230, 0.003933832565216665), (879, 0.003933147355688204), (2996, 0.003933140983391504), (952, 0.003932808967467019), (930, 0.003932638180858874), (3326, 0.003931644837428121), (761, 0.003931455127814258), (255, 0.003931360076346013), (2037, 0.003928229268860105), (3501, 0.00392717662256853), (844, 0.003926336001492522), (2531, 0.0039260301164841475), (178, 0.0039254324462680845), (3623, 0.0039239943697981), (606, 0.003922969078805176), (2988, 0.00391778616051888), (2277, 0.003916798806716744), (743, 0.003916226753477032), (4446, 0.003915941929558268), (4573, 0.003915906152121308), (1071, 0.003914051466898462), (3654, 0.003912826667655626), (3227, 0.003912371043891526), (2919, 0.003911737896747664), (830, 0.003910386923696278), (2083, 0.00390948738579457), (1400, 0.003906008854802564), (23, 0.0039051348284268005), (3973, 0.0039045275682360815), (1643, 0.00390424471505317), (2386, 0.003903541158374666), (1286, 0.003902394600383), (11, 0.0039015541357618542), (2254, 0.0039006984856935654), (2091, 0.0039002087728925495), (551, 0.003899563197359363), (3388, 0.0038995516410770268), (1006, 0.0038995010172881628), (3233, 0.0038990989609636356), (3643, 0.003897107249980827), (51, 0.003896357974144689), (1902, 0.003896332127231296), (3809, 0.0038948280253869342), (2661, 0.003892215050880689), (2554, 0.0038919081803621834), (543, 0.0038913435099339326), (2319, 0.0038909851163099435), (4420, 0.003890699852026317), (1015, 0.003890652056188153), (652, 0.0038888124215989282), (2910, 0.00388748241758884), (2466, 0.003886712522293515), (1619, 0.0038853495117133776), (3666, 0.003884581568693261), (3241, 0.003882591884079551), (3551, 0.003881365746413663), (1475, 0.0038810361645256523), (216, 0.003880917183914449), (4336, 0.003880785045728706), (4056, 0.0038805375666390012), (783, 0.003877667764790601), (3624, 0.003876808779477849), (3153, 0.0038760746447004646), (4668, 0.0038757465004292365), (3214, 0.003875583695874274), (622, 0.003872800888981347), (3765, 0.003871996534630559), (1083, 0.003868108634137636), (871, 0.003865920678828172), (3526, 0.0038647433620358136), (3516, 0.0038639281341740165), (2405, 0.0038631248968082374), (1122, 0.0038609247539457977), (1722, 0.0038607747534518213), (579, 0.0038606570860451393), (2878, 0.0038594373259126505), (1942, 0.003857570249175973), (2494, 0.0038574575450510476), (4603, 0.0038556948617378493), (3483, 0.003855528137986483), (3553, 0.0038535082925860212), (3542, 0.0038514816004183864), (174, 0.0038501503418760133), (1779, 0.003849982374666303), (4025, 0.003849677540668144), (1413, 0.0038496238151476693), (1645, 0.003848117480921903), (173, 0.0038476988907276835), (3653, 0.003847077360371942), (4016, 0.0038470122592116343), (3778, 0.0038468160002109518), (4054, 0.003843439496965866), (4334, 0.003843040742501839), (479, 0.0038428157800903095), (2668, 0.0038418162905736186), (3564, 0.0038416017238848844), (2934, 0.0038413428440719688), (2744, 0.003840125166025427), (1176, 0.0038395613005939304), (4563, 0.0038381338584814848), (636, 0.003836834666221346), (4287, 0.0038367863968087504), (3303, 0.0038366700515270777), (3125, 0.003836624610280685), (3182, 0.0038364976156022887), (1931, 0.0038339601649391678), (4533, 0.003830734014829782), (1232, 0.003829930340903919), (169, 0.0038292236833501604), (2295, 0.0038288722997818618), (4178, 0.0038274697852376193), (502, 0.0038265977507934757), (3707, 0.003825533699591931), (1335, 0.0038245032598049297), (2489, 0.003824078728709836), (1131, 0.0038223685721834656), (794, 0.0038198657449207813), (504, 0.0038176868229077873), (1179, 0.0038174773931003), (2746, 0.003815400669703069), (4284, 0.003814866995934065), (2977, 0.003814640797138851), (980, 0.0038121066119548275), (2492, 0.003811960328278882), (87, 0.0038112889731102234), (3727, 0.0038106249316483152), (4266, 0.003808347998161873), (2144, 0.0038080353821236786), (1019, 0.00380627430654571), (1985, 0.0038050347575986723), (3917, 0.0038048923714452836), (1192, 0.003802514322212201), (2904, 0.0037991734749420556), (1967, 0.003798915385919322), (897, 0.003798783809907462), (1163, 0.003797366960494694), (464, 0.0037951152716655715), (406, 0.0037934112537121134), (3571, 0.0037923859081689833), (755, 0.00379180323175891), (270, 0.003791524261397132), (2632, 0.0037914692147169903), (1983, 0.003791186617676945), (637, 0.0037903297365718294), (3436, 0.003790117774523095), (3297, 0.0037897858714331626), (4255, 0.003789182573431886), (1077, 0.003788764399584318), (1252, 0.003788012960790637), (3673, 0.00378798599148358), (509, 0.0037876744029726713), (2321, 0.003787626343718877), (1410, 0.0037865748825131025), (3807, 0.003786034142655261), (2155, 0.0037829751048239816), (3330, 0.003781965602213947), (387, 0.0037809732246981424), (3799, 0.00377980166447876), (3900, 0.0037786494361274855), (2946, 0.0037777289625457663), (1717, 0.0037766889304666727), (3888, 0.00377591345605226), (2695, 0.0037743376222077168), (1020, 0.0037740516780136383), (2887, 0.003773249521526481), (2961, 0.003771403670727981), (2279, 0.0037697634726250487), (2706, 0.0037674976400692392), (832, 0.0037670869854231803), (3268, 0.0037665583904350625), (2972, 0.003765899591151436), (2745, 0.0037658600954889316), (2606, 0.0037654452096832053), (2647, 0.0037648099973533076), (3036, 0.0037622575219100813), (2212, 0.0037606911000689493), (2169, 0.003760226016644462), (2812, 0.0037601874072576186), (2313, 0.0037594404787037305), (1075, 0.003758878635145802), (3346, 0.0037573850750693117), (1629, 0.003757176586303109), (1678, 0.003756614910902336), (3435, 0.00375476428180661), (1017, 0.0037540448148928613), (4135, 0.0037538971517636585), (2374, 0.003753439420166718), (3541, 0.003751841922513331), (4640, 0.0037513479123956472), (2784, 0.00375085200003554), (3067, 0.0037497651271309364), (867, 0.003748737410986772), (1191, 0.0037485996069884075), (1102, 0.003748397849344717), (5, 0.003745479707063078), (1768, 0.00374452368799541), (693, 0.0037436945517490597), (2422, 0.0037435460360077774), (1334, 0.0037434113455418598), (864, 0.0037417365276242705), (4283, 0.0037412888761455456), (1969, 0.003738961797421783), (19, 0.0037388433569091333), (749, 0.003738486660270708), (698, 0.0037371219627594333), (437, 0.003735273309592456), (850, 0.0037342858253768124), (4068, 0.0037325753937234693), (1035, 0.003732536280800864), (806, 0.003732109891193641), (1730, 0.003731077136398586), (769, 0.003729383265466692), (2045, 0.003729171376246799), (1476, 0.0037280606749329937), (3500, 0.003723338980810087), (2687, 0.0037223482582894847), (4053, 0.0037219024828412097), (894, 0.003721494512195374), (370, 0.0037190428381510144), (2122, 0.0037181383439557516), (2087, 0.0037174716037407653), (2226, 0.0037163666384629024), (2802, 0.003715022897316047), (750, 0.003714454833011704), (490, 0.0037139446626353045), (3170, 0.0037129038019058868), (2008, 0.003711807303230258), (4183, 0.0037112305695710963), (4036, 0.003711133894683116), (1621, 0.0037101128294284224), (3876, 0.0037100249647380843), (2980, 0.003707839279016722), (4511, 0.0037073061717538556), (3237, 0.0037069655990603135), (1882, 0.0037068270243259625), (3890, 0.003706762707532709), (3122, 0.003706645832535874), (628, 0.003706480001184448), (2027, 0.003705804154350761), (3402, 0.003705747798283565), (1488, 0.003704913122506931), (2024, 0.0037046161866732567), (2362, 0.003703885454644693), (1620, 0.0037033723774509723), (2945, 0.003703193098415297), (1706, 0.0037029399289737227), (1138, 0.003702673138060388), (4487, 0.0037015677693477073), (1472, 0.003700889619641568), (1422, 0.0037007522696643437), (4362, 0.0037007365555488036), (1313, 0.0036997252617118432), (2121, 0.003698545034240016), (1170, 0.003698333150089042), (3477, 0.003697209236909234), (4670, 0.0036967459452727043), (104, 0.003695164889373252), (2808, 0.003695141343241868), (3557, 0.003695137588638847), (3739, 0.003695037038836634), (3171, 0.003694652413111649), (400, 0.003693914615911211), (2831, 0.0036937296098045374), (3784, 0.0036926015781282868), (109, 0.0036916458269872837), (1634, 0.003687759647930976), (114, 0.0036864848969400013), (1257, 0.0036855900713755304), (3195, 0.003685158689753277), (959, 0.003685152559667954), (1891, 0.0036840530050564393), (3151, 0.003682752418468391), (1483, 0.0036819043967093296), (1693, 0.0036816333458547556), (79, 0.003681560999636294), (2593, 0.003679673959450869), (1337, 0.003679298157896197), (348, 0.003679222065886022), (3315, 0.0036783804328761327), (2779, 0.0036769939824182365), (2174, 0.0036764257481329307), (4309, 0.0036751929133667025), (4530, 0.003672484660869658), (2612, 0.0036721586407165692), (689, 0.003671846054350321), (2716, 0.003670939377115264), (2965, 0.0036704458839190235), (2210, 0.0036692013383107023), (1421, 0.003669100497796726), (966, 0.0036684260814662884), (112, 0.0036682936532247356), (4475, 0.003667626648316649), (2886, 0.003666157444033156), (1161, 0.003665437656302572), (1892, 0.0036650636743317346), (1247, 0.0036650329516305967), (2698, 0.003664871224560231), (727, 0.0036633881142454925), (2216, 0.0036621035188311676), (3487, 0.003659075140530434), (1026, 0.0036586815390046716), (2195, 0.003658626882979362), (4189, 0.003656024017735803), (1666, 0.003655719939597451), (1598, 0.003655615193729225), (2103, 0.00365357311975419), (1558, 0.003652422677108973), (1021, 0.0036520738128312546), (2496, 0.0036520024617165726), (4387, 0.00365174866043369), (1710, 0.0036517016623423357), (2131, 0.003649592299847275), (1044, 0.0036488038076228193), (2430, 0.0036468227314214955), (4394, 0.003646813276949809), (1438, 0.0036466185385840527), (870, 0.003644429114265844), (343, 0.0036436905405961635), (598, 0.0036418850634889277), (29, 0.003638989304590866), (126, 0.0036385514032594175), (651, 0.003637269222492099), (2068, 0.003635967934142855), (3498, 0.0036349927630271966), (854, 0.0036323472843669746), (962, 0.0036323009698710717), (3819, 0.00362925257167396), (373, 0.0036291674037266406), (4069, 0.003628977261631224), (2907, 0.003628840897460597), (1060, 0.0036287035723843305), (3953, 0.003628521654896628), (852, 0.003628073020031111), (2634, 0.003628025221922719), (4673, 0.0036271761127328957), (1446, 0.0036266793860558924), (85, 0.0036248997576217687), (818, 0.003624732810861612), (1597, 0.0036244958921631933), (3734, 0.0036240258553610883), (2777, 0.0036240175279272442), (1628, 0.0036226646377040123), (4345, 0.00362255542450211), (2995, 0.003622288869844635), (197, 0.0036195682961369293), (2540, 0.003618758227245728), (838, 0.003618694576315887), (119, 0.0036179880143026558), (1667, 0.0036176846527135468), (2402, 0.0036162502546244835), (2512, 0.0036159676022785854), (2029, 0.003615890564493839), (2553, 0.0036149093264601227), (3407, 0.0036136895486962974), (3898, 0.00361343447090425), (3220, 0.003612381256867736), (3050, 0.003611925078343079), (1782, 0.003611353558626045), (1030, 0.003610286241040066), (3379, 0.0036080483074046373), (3558, 0.003607352444922956), (1813, 0.0036061573314817154), (1448, 0.003603881855039835), (221, 0.0036002250486833194), (3298, 0.003599572926413033), (127, 0.0035990321207835197), (2674, 0.003598429523816379), (2473, 0.003596349678676534), (1481, 0.003594918015499029), (3646, 0.0035945671314565972), (878, 0.003594519105757645), (2117, 0.0035936474747126244), (3014, 0.0035933223065530563), (1665, 0.0035919723526013463), (3194, 0.0035916869438280255), (1002, 0.0035914648003144397), (4085, 0.0035901747997817033), (488, 0.0035876897464818735), (2528, 0.003587241359409492), (2467, 0.003586836130682553), (4591, 0.0035861046445372926), (2556, 0.0035855783641381136), (3293, 0.00358540157647264), (1084, 0.0035853571787402712), (4154, 0.0035843628934183304), (4536, 0.0035804146344390456), (4205, 0.0035791911175889757), (1519, 0.0035780995557145663), (1796, 0.003577889171183812), (1360, 0.0035777534754493565), (1878, 0.003576682166544387), (325, 0.003575868821779989), (1183, 0.003575060843670241), (643, 0.0035750305105366953), (798, 0.0035745570449652016), (1864, 0.0035741385487886466), (3826, 0.0035740111920936853), (1001, 0.003573777784585941), (471, 0.003572580408164451), (3660, 0.0035712755190263385), (3504, 0.003570496871593246), (1819, 0.0035701892966024024), (4192, 0.0035695018030976145), (1385, 0.0035678017192475623), (276, 0.003566953324284039), (4658, 0.0035662123294564066), (2004, 0.0035659327260540363), (3240, 0.0035634283381713334), (2859, 0.0035633268412715), (3399, 0.0035632442294444796), (866, 0.0035601698179419886), (2743, 0.003559955654154354), (1744, 0.003559585088059566), (4472, 0.0035580126455704406), (356, 0.003557832360898799), (1478, 0.003556468249346451), (4382, 0.0035563981662648236), (52, 0.0035554673577540036), (2653, 0.0035535084624703944), (1220, 0.0035511883662735287), (3028, 0.0035491283416371447), (907, 0.0035479597177868866), (408, 0.0035471985588716027), (4282, 0.003546533267331662), (2023, 0.003543940132898431), (3974, 0.0035410159385993673), (3278, 0.003539508739074429), (1582, 0.0035392030084279015), (975, 0.003538845101717095), (2482, 0.0035366736770315547), (4502, 0.0035365132290269444), (2862, 0.0035352021555830034), (1884, 0.0035333870726670675), (1514, 0.003533235338843804), (4257, 0.003532804359750931), (3447, 0.003530980289517189), (372, 0.0035295875190389384), (589, 0.003528946986016229), (655, 0.0035286603777209976), (3503, 0.0035266638626039884), (1608, 0.003526029058145318), (2143, 0.0035259891088264576), (4374, 0.0035249804929147355), (742, 0.0035245849242566797), (4321, 0.0035243851695382243), (3669, 0.0035234049920890463), (236, 0.003520669059777797), (2800, 0.0035177521775303098), (3370, 0.0035175293662664106), (4638, 0.0035161748851062096), (1206, 0.0035152639467209783), (4523, 0.003513176003276667), (2453, 0.003512626327011148), (1009, 0.0035096632781131884), (734, 0.003507425315300532), (963, 0.003507417985252632), (1682, 0.003507315111685333), (359, 0.0035068794604198343), (2899, 0.0035065941872734884), (900, 0.0035064478110699983), (2149, 0.0035060829363451618), (121, 0.0035058435577006272), (4176, 0.0035044231812615184), (3460, 0.003501127476249835), (111, 0.0035004148398499486), (2598, 0.0034998297040747415), (92, 0.003498638716669489), (3342, 0.0034982158132635895), (605, 0.0034977016642521947), (2920, 0.0034953651963239188), (252, 0.003494854107975161), (1065, 0.0034934296153957822), (3954, 0.0034911896799476763), (2201, 0.0034900795368216515), (1308, 0.003489976590275046), (4473, 0.0034882589532500086), (1107, 0.0034864523366969317), (2457, 0.0034856976300757527), (200, 0.0034834278765107003), (2367, 0.003483260957102931), (3147, 0.0034829915596770867), (2224, 0.003482983085782599), (3311, 0.003480358665957134), (32, 0.003479819101527906), (3071, 0.0034776634308773353), (3910, 0.0034699055918669675), (2741, 0.0034677765259132575), (934, 0.003466854330077145), (2803, 0.0034643099711563537), (4350, 0.0034623100516682046), (4712, 0.0034620409255957693), (1605, 0.0034607555033910413), (1079, 0.0034601535517776423), (2287, 0.0034593701569361358), (788, 0.003458283429945409), (2607, 0.003456934330420286), (465, 0.003455976804103302), (1760, 0.0034556649411139244), (4402, 0.0034553273785532723), (1209, 0.003454846507049734), (3829, 0.0034517097328481358), (3705, 0.0034507455042828996), (3755, 0.003447907016784469), (3027, 0.003446636105606172), (3120, 0.003445643627798639), (2301, 0.0034443419412572528), (1739, 0.003441823861172307), (3389, 0.0034412919959018367), (2191, 0.003441162993178743), (1503, 0.00344038082276115), (910, 0.003439980310902057), (1427, 0.003439157447143709), (944, 0.003437989130687904), (3226, 0.0034378948380531108), (124, 0.0034362774873422626), (1000, 0.0034358287978489286), (3284, 0.0034348556840544313), (1827, 0.003433965927896253), (2399, 0.0034310964903011146), (1543, 0.0034246513174293045), (3742, 0.0034228748377924893), (1477, 0.0034224888579823904), (968, 0.003422234041632975), (2031, 0.003421665542473087), (1875, 0.0034209577559811788), (15, 0.003417780413808514), (3801, 0.0034176086322587687), (103, 0.003415217970831588), (3839, 0.0034130864415720876), (495, 0.003412679463319527), (416, 0.003411796419064636), (744, 0.0034117514119342295), (804, 0.0034103092871683744), (4429, 0.003410293940649177), (4143, 0.003409589271294286), (4066, 0.0034095454352289223), (4141, 0.0034084676727221728), (558, 0.003406009180316119), (2931, 0.003404648696442203), (3579, 0.0034037795111726945), (1865, 0.003402741324539578), (3318, 0.0034022908371637048), (1219, 0.0033984082436347104), (3913, 0.003396861570033669), (286, 0.0033960954177545306), (1763, 0.003394987861511953), (457, 0.0033928408346732926), (2055, 0.0033926997334209753), (410, 0.0033923595854736866), (2747, 0.003391572810025634), (2845, 0.0033890480441083172), (1690, 0.0033858726113239752), (981, 0.003384489455193329), (2011, 0.0033822157456702114), (3956, 0.003381798956368919), (2502, 0.0033810045763490166), (166, 0.0033803121617680633), (1216, 0.003379812793619706), (149, 0.0033797868521035055), (1920, 0.003377629196916995), (463, 0.00337754761544416), (161, 0.0033773961909692044), (722, 0.0033750297579854096), (1830, 0.0033713213478320857), (3137, 0.00337071628746405), (3767, 0.0033700954398742052), (3474, 0.0033685907441002054), (2338, 0.0033647543260994597), (3380, 0.0033621566793921626), (1934, 0.0033618865533894256), (3637, 0.003361832681662454), (2724, 0.0033597970348522893), (1199, 0.0033559083961375927), (364, 0.003354724320682839), (519, 0.0033536202173224446), (3327, 0.0033501742463132294), (815, 0.0033498458628488685), (3569, 0.0033495940194713577), (267, 0.003349532046412346), (147, 0.003349389889569277), (33, 0.003349052031357875), (1977, 0.0033452079896641195), (1136, 0.0033448560512525207), (856, 0.003344024039185002), (3065, 0.0033391222472876577), (1186, 0.003339050774652519), (672, 0.0033388419212013708), (2520, 0.0033370420919806884), (1971, 0.003336965077885291), (1352, 0.0033369025011933656), (1251, 0.0033363724507184268), (1237, 0.003335863900145368), (657, 0.003334346588262839), (800, 0.003331349689092851), (2580, 0.0033311670277485603), (1318, 0.003330077702353599), (2602, 0.003328967250880797), (1423, 0.00332571650403001), (3108, 0.0033246442931893503), (4247, 0.0033214258756470772), (1387, 0.0033168676544409336), (251, 0.0033151295064467053), (2976, 0.003313780795330697), (3928, 0.0033131271023394116), (222, 0.00331281970250086), (2065, 0.003312363707995212), (3360, 0.003307528319382303), (3393, 0.0033038938645809615), (242, 0.003302624706981543), (2933, 0.0033006360031365253), (617, 0.003298286201854851), (194, 0.003295034600354042), (4733, 0.0032946886892870745), (3556, 0.00329412814369816), (4590, 0.0032940854381811897), (3657, 0.0032870287102847954), (3111, 0.003284719547396746), (2692, 0.003279384635800519), (4636, 0.003279318375031135), (2981, 0.0032788409852760416), (97, 0.0032784924163658676), (816, 0.0032779567095203546), (496, 0.003277691773326372), (2509, 0.0032767342155412948), (1040, 0.0032755830361186015), (4411, 0.0032750100614538746), (2237, 0.003274925126752612), (642, 0.003272184673050274), (3254, 0.00326276794166636), (16, 0.003261881110284216), (4151, 0.0032610137929066346), (3331, 0.0032590239964695), (165, 0.003258642789805902), (403, 0.0032546545851116684), (3409, 0.003250766673539017), (712, 0.0032497568235853886), (611, 0.00324828257521865), (4311, 0.0032452117593159595), (1215, 0.003242823074499608), (1088, 0.003239291037189934), (566, 0.00323688086145699), (4156, 0.003233922362397921), (732, 0.003233289231548896), (2412, 0.003232505783827091), (4626, 0.0032300549851798583), (3471, 0.0032277675959748674), (2876, 0.0032196292380857793), (1365, 0.0032192400176079433), (195, 0.003218068465563598), (4344, 0.00321795414915798), (3927, 0.003217708877905617), (269, 0.0032171657649868782), (1377, 0.0032135813625445778), (796, 0.0032120324273093932), (1078, 0.0032116711081347183), (2603, 0.0032089249404887864), (1828, 0.0032041069819896545), (2359, 0.0032039183142758805), (626, 0.0032035428431257756), (1415, 0.0032031971177220375), (2969, 0.0032017314044930586), (3056, 0.0032010510697380494), (4095, 0.0031990575918951327), (3301, 0.0031962362908347164), (2034, 0.003191865577910956), (924, 0.0031889344755265444), (44, 0.0031881262058119464), (547, 0.003188111934198783), (2070, 0.0031863235638559238), (1707, 0.0031863090103631028), (2127, 0.0031852993333589394), (2035, 0.0031845397992332795), (3347, 0.0031772733756531683), (441, 0.003177188875696281), (63, 0.0031765625408726643), (2526, 0.003172051157920992), (2761, 0.0031720232067605782), (3855, 0.003167903632564359), (1743, 0.0031675781364118435), (142, 0.003162475932536118), (4610, 0.0031598131021745865), (3756, 0.0031575610049484433), (3344, 0.003156384611828443), (2563, 0.003152341300199708), (3024, 0.003148836617229357), (2758, 0.0031408832912521553), (1845, 0.003139152330840043), (1624, 0.0031388594444096657), (1950, 0.0031373729615320977), (719, 0.003128927561175615), (843, 0.0031191917956930543), (3645, 0.003118442273071151), (616, 0.0031142242155608084), (2697, 0.0031131454623833615), (1305, 0.003111998596867842), (2441, 0.003105506126964761), (3317, 0.003097682395360771), (2010, 0.003095166900684387), (113, 0.003091058125727322), (942, 0.0030863301375761536), (1886, 0.003076059914275386), (3875, 0.003070614732386313), (2844, 0.0030681128833181183), (2000, 0.0030662163925242888), (3152, 0.003061061305137374), (433, 0.0030596614110015978), (156, 0.003056291221406696), (309, 0.0030512470881238645), (2925, 0.003049264215265096), (1989, 0.003045035814684895), (1677, 0.0030423854029722913), (1303, 0.0030362442947971685), (4674, 0.003033419229551988), (2917, 0.0030077351702059714), (407, 0.003006533321726744), (2908, 0.0030021852685834884), (2474, 0.0030016501424506366), (2766, 0.002991374471136277), (256, 0.0029908551886988215), (510, 0.002988679978758972), (351, 0.0029828998192561445), (1005, 0.002976657357611046), (3199, 0.0029763790115729973), (271, 0.0029721992718766276), (2767, 0.0029599711671871223), (1417, 0.002951814073039553), (571, 0.0029479043383678666), (224, 0.0029466488906479005), (296, 0.0029410480649133893), (3316, 0.0029374688019686637), (3626, 0.002922686174055467), (562, 0.0029189221606721245), (1403, 0.0029011919256897475), (3983, 0.0028958326369509825), (266, 0.0028897625176998757), (1648, 0.0028868150508301626), (452, 0.0028808379497297703), (641, 0.002862792150217024), (1471, 0.002854127844991421), (3546, 0.0028303420242167176), (7, 0.002825485004310851), (831, 0.0028194637170997623), (2550, 0.0028148222789136806), (1306, 0.002758900669485533), (1351, 0.0027471253505721538), (542, 0.0027380808829566314), (3365, 0.0027075852953665587), (4752, 0.0026802350469439583), (243, 0.0026673994292146907), (455, 0.0026418049310971683), (940, 0.002637946697697991), (858, 0.002636653534316682), (330, 0.0026276191127120557), (1509, 0.002616180684358954), (1506, 0.002567042959394115), (202, 0.002469821391329134), (3835, 0.0024633346089014234), (3328, 0.0024556870997109875), (2538, 0.002337963954103624), (0, 0.0), (1, 0.0), (2, 0.0), (4, 0.0), (10, 0.0), (13, 0.0), (14, 0.0), (20, 0.0), (22, 0.0), (24, 0.0), (26, 0.0), (27, 0.0), (30, 0.0), (37, 0.0), (38, 0.0), (39, 0.0), (40, 0.0), (42, 0.0), (43, 0.0), (45, 0.0), (50, 0.0), (53, 0.0), (59, 0.0), (64, 0.0), (65, 0.0), (66, 0.0), (67, 0.0), (69, 0.0), (70, 0.0), (73, 0.0), (75, 0.0), (76, 0.0), (78, 0.0), (80, 0.0), (82, 0.0), (83, 0.0), (86, 0.0), (88, 0.0), (89, 0.0), (90, 0.0), (91, 0.0), (93, 0.0), (94, 0.0), (95, 0.0), (98, 0.0), (99, 0.0), (100, 0.0), (101, 0.0), (102, 0.0), (105, 0.0), (106, 0.0), (110, 0.0), (117, 0.0), (118, 0.0), (123, 0.0), (128, 0.0), (131, 0.0), (133, 0.0), (134, 0.0), (135, 0.0), (137, 0.0), (138, 0.0), (139, 0.0), (140, 0.0), (143, 0.0), (144, 0.0), (145, 0.0), (146, 0.0), (148, 0.0), (150, 0.0), (151, 0.0), (155, 0.0), (157, 0.0), (158, 0.0), (159, 0.0), (160, 0.0), (162, 0.0), (163, 0.0), (164, 0.0), (167, 0.0), (168, 0.0), (170, 0.0), (171, 0.0), (172, 0.0), (175, 0.0), (176, 0.0), (179, 0.0), (181, 0.0), (182, 0.0), (185, 0.0), (187, 0.0), (188, 0.0), (189, 0.0), (196, 0.0), (201, 0.0), (207, 0.0), (209, 0.0), (211, 0.0), (212, 0.0), (214, 0.0), (217, 0.0), (219, 0.0), (220, 0.0), (223, 0.0), (225, 0.0), (226, 0.0), (229, 0.0), (233, 0.0), (234, 0.0), (235, 0.0), (239, 0.0), (245, 0.0), (246, 0.0), (248, 0.0), (249, 0.0), (250, 0.0), (254, 0.0), (257, 0.0), (260, 0.0), (261, 0.0), (262, 0.0), (265, 0.0), (268, 0.0), (272, 0.0), (273, 0.0), (275, 0.0), (277, 0.0), (279, 0.0), (281, 0.0), (284, 0.0), (287, 0.0), (288, 0.0), (289, 0.0), (290, 0.0), (292, 0.0), (293, 0.0), (294, 0.0), (295, 0.0), (304, 0.0), (305, 0.0), (306, 0.0), (308, 0.0), (311, 0.0), (313, 0.0), (314, 0.0), (315, 0.0), (316, 0.0), (317, 0.0), (319, 0.0), (321, 0.0), (322, 0.0), (323, 0.0), (327, 0.0), (328, 0.0), (329, 0.0), (331, 0.0), (332, 0.0), (333, 0.0), (335, 0.0), (336, 0.0), (337, 0.0), (338, 0.0), (341, 0.0), (344, 0.0), (345, 0.0), (346, 0.0), (347, 0.0), (352, 0.0), (360, 0.0), (361, 0.0), (362, 0.0), (365, 0.0), (366, 0.0), (367, 0.0), (368, 0.0), (369, 0.0), (377, 0.0), (378, 0.0), (379, 0.0), (380, 0.0), (383, 0.0), (384, 0.0), (386, 0.0), (391, 0.0), (392, 0.0), (394, 0.0), (395, 0.0), (396, 0.0), (397, 0.0), (398, 0.0), (402, 0.0), (405, 0.0), (412, 0.0), (413, 0.0), (415, 0.0), (417, 0.0), (418, 0.0), (420, 0.0), (421, 0.0), (422, 0.0), (423, 0.0), (424, 0.0), (425, 0.0), (426, 0.0), (427, 0.0), (432, 0.0), (439, 0.0), (440, 0.0), (444, 0.0), (445, 0.0), (446, 0.0), (447, 0.0), (454, 0.0), (459, 0.0), (460, 0.0), (461, 0.0), (462, 0.0), (466, 0.0), (467, 0.0), (468, 0.0), (473, 0.0), (474, 0.0), (476, 0.0), (477, 0.0), (478, 0.0), (484, 0.0), (485, 0.0), (486, 0.0), (487, 0.0), (489, 0.0), (494, 0.0), (498, 0.0), (499, 0.0), (501, 0.0), (503, 0.0), (505, 0.0), (507, 0.0), (508, 0.0), (511, 0.0), (512, 0.0), (513, 0.0), (514, 0.0), (516, 0.0), (517, 0.0), (518, 0.0), (520, 0.0), (521, 0.0), (523, 0.0), (524, 0.0), (525, 0.0), (526, 0.0), (527, 0.0), (528, 0.0), (529, 0.0), (530, 0.0), (531, 0.0), (532, 0.0), (535, 0.0), (536, 0.0), (537, 0.0), (539, 0.0), (540, 0.0), (541, 0.0), (544, 0.0), (545, 0.0), (549, 0.0), (550, 0.0), (552, 0.0), (553, 0.0), (554, 0.0), (555, 0.0), (556, 0.0), (557, 0.0), (559, 0.0), (560, 0.0), (561, 0.0), (567, 0.0), (569, 0.0), (570, 0.0), (573, 0.0), (574, 0.0), (575, 0.0), (581, 0.0), (582, 0.0), (583, 0.0), (591, 0.0), (592, 0.0), (593, 0.0), (597, 0.0), (599, 0.0), (600, 0.0), (601, 0.0), (602, 0.0), (603, 0.0), (615, 0.0), (618, 0.0), (620, 0.0), (621, 0.0), (625, 0.0), (629, 0.0), (630, 0.0), (632, 0.0), (634, 0.0), (645, 0.0), (646, 0.0), (647, 0.0), (648, 0.0), (649, 0.0), (650, 0.0), (654, 0.0), (656, 0.0), (658, 0.0), (661, 0.0), (662, 0.0), (663, 0.0), (664, 0.0), (665, 0.0), (666, 0.0), (667, 0.0), (671, 0.0), (675, 0.0), (677, 0.0), (678, 0.0), (679, 0.0), (680, 0.0), (681, 0.0), (682, 0.0), (683, 0.0), (685, 0.0), (686, 0.0), (687, 0.0), (690, 0.0), (691, 0.0), (692, 0.0), (695, 0.0), (699, 0.0), (702, 0.0), (704, 0.0), (708, 0.0), (709, 0.0), (711, 0.0), (714, 0.0), (717, 0.0), (718, 0.0), (723, 0.0), (724, 0.0), (737, 0.0), (738, 0.0), (740, 0.0), (741, 0.0), (746, 0.0), (747, 0.0), (748, 0.0), (753, 0.0), (754, 0.0), (756, 0.0), (757, 0.0), (759, 0.0), (760, 0.0), (762, 0.0), (763, 0.0), (764, 0.0), (765, 0.0), (766, 0.0), (767, 0.0), (768, 0.0), (770, 0.0), (771, 0.0), (772, 0.0), (773, 0.0), (775, 0.0), (776, 0.0), (777, 0.0), (778, 0.0), (780, 0.0), (781, 0.0), (782, 0.0), (784, 0.0), (785, 0.0), (786, 0.0), (789, 0.0), (791, 0.0), (793, 0.0), (795, 0.0), (797, 0.0), (801, 0.0), (802, 0.0), (803, 0.0), (805, 0.0), (809, 0.0), (811, 0.0), (820, 0.0), (821, 0.0), (823, 0.0), (825, 0.0), (827, 0.0), (828, 0.0), (829, 0.0), (833, 0.0), (834, 0.0), (835, 0.0), (837, 0.0), (839, 0.0), (840, 0.0), (841, 0.0), (842, 0.0), (845, 0.0), (848, 0.0), (853, 0.0), (855, 0.0), (862, 0.0), (868, 0.0), (869, 0.0), (873, 0.0), (874, 0.0), (877, 0.0), (881, 0.0), (884, 0.0), (885, 0.0), (889, 0.0), (890, 0.0), (891, 0.0), (893, 0.0), (895, 0.0), (898, 0.0), (899, 0.0), (901, 0.0), (902, 0.0), (904, 0.0), (905, 0.0), (908, 0.0), (913, 0.0), (916, 0.0), (917, 0.0), (918, 0.0), (920, 0.0), (921, 0.0), (922, 0.0), (927, 0.0), (928, 0.0), (931, 0.0), (932, 0.0), (933, 0.0), (935, 0.0), (938, 0.0), (941, 0.0), (943, 0.0), (945, 0.0), (946, 0.0), (948, 0.0), (949, 0.0), (950, 0.0), (954, 0.0), (955, 0.0), (956, 0.0), (958, 0.0), (960, 0.0), (964, 0.0), (965, 0.0), (970, 0.0), (971, 0.0), (972, 0.0), (973, 0.0), (974, 0.0), (976, 0.0), (978, 0.0), (983, 0.0), (984, 0.0), (987, 0.0), (990, 0.0), (992, 0.0), (994, 0.0), (995, 0.0), (996, 0.0), (997, 0.0), (1003, 0.0), (1004, 0.0), (1010, 0.0), (1011, 0.0), (1012, 0.0), (1014, 0.0), (1016, 0.0), (1018, 0.0), (1022, 0.0), (1024, 0.0), (1025, 0.0), (1028, 0.0), (1031, 0.0), (1032, 0.0), (1033, 0.0), (1036, 0.0), (1037, 0.0), (1038, 0.0), (1039, 0.0), (1042, 0.0), (1045, 0.0), (1048, 0.0), (1056, 0.0), (1057, 0.0), (1058, 0.0), (1059, 0.0), (1061, 0.0), (1062, 0.0), (1063, 0.0), (1066, 0.0), (1067, 0.0), (1068, 0.0), (1070, 0.0), (1072, 0.0), (1073, 0.0), (1074, 0.0), (1076, 0.0), (1081, 0.0), (1082, 0.0), (1086, 0.0), (1087, 0.0), (1089, 0.0), (1090, 0.0), (1091, 0.0), (1092, 0.0), (1093, 0.0), (1094, 0.0), (1095, 0.0), (1096, 0.0), (1097, 0.0), (1098, 0.0), (1099, 0.0), (1100, 0.0), (1101, 0.0), (1103, 0.0), (1104, 0.0), (1105, 0.0), (1106, 0.0), (1108, 0.0), (1110, 0.0), (1112, 0.0), (1113, 0.0), (1115, 0.0), (1116, 0.0), (1118, 0.0), (1121, 0.0), (1124, 0.0), (1125, 0.0), (1126, 0.0), (1127, 0.0), (1128, 0.0), (1133, 0.0), (1134, 0.0), (1135, 0.0), (1137, 0.0), (1139, 0.0), (1144, 0.0), (1145, 0.0), (1146, 0.0), (1147, 0.0), (1148, 0.0), (1149, 0.0), (1151, 0.0), (1152, 0.0), (1154, 0.0), (1155, 0.0), (1156, 0.0), (1158, 0.0), (1159, 0.0), (1162, 0.0), (1164, 0.0), (1166, 0.0), (1167, 0.0), (1168, 0.0), (1169, 0.0), (1173, 0.0), (1174, 0.0), (1178, 0.0), (1180, 0.0), (1181, 0.0), (1185, 0.0), (1189, 0.0), (1193, 0.0), (1194, 0.0), (1200, 0.0), (1201, 0.0), (1203, 0.0), (1205, 0.0), (1207, 0.0), (1210, 0.0), (1211, 0.0), (1213, 0.0), (1214, 0.0), (1222, 0.0), (1226, 0.0), (1227, 0.0), (1228, 0.0), (1230, 0.0), (1231, 0.0), (1233, 0.0), (1235, 0.0), (1236, 0.0), (1238, 0.0), (1239, 0.0), (1240, 0.0), (1242, 0.0), (1243, 0.0), (1244, 0.0), (1246, 0.0), (1253, 0.0), (1254, 0.0), (1259, 0.0), (1260, 0.0), (1262, 0.0), (1265, 0.0), (1266, 0.0), (1267, 0.0), (1269, 0.0), (1270, 0.0), (1272, 0.0), (1274, 0.0), (1276, 0.0), (1277, 0.0), (1279, 0.0), (1280, 0.0), (1281, 0.0), (1282, 0.0), (1284, 0.0), (1285, 0.0), (1287, 0.0), (1288, 0.0), (1289, 0.0), (1291, 0.0), (1293, 0.0), (1294, 0.0), (1297, 0.0), (1300, 0.0), (1302, 0.0), (1304, 0.0), (1307, 0.0), (1309, 0.0), (1311, 0.0), (1312, 0.0), (1314, 0.0), (1315, 0.0), (1316, 0.0), (1319, 0.0), (1320, 0.0), (1321, 0.0), (1322, 0.0), (1323, 0.0), (1327, 0.0), (1328, 0.0), (1329, 0.0), (1330, 0.0), (1331, 0.0), (1333, 0.0), (1336, 0.0), (1339, 0.0), (1342, 0.0), (1343, 0.0), (1344, 0.0), (1347, 0.0), (1348, 0.0), (1353, 0.0), (1354, 0.0), (1355, 0.0), (1358, 0.0), (1366, 0.0), (1369, 0.0), (1371, 0.0), (1373, 0.0), (1380, 0.0), (1381, 0.0), (1384, 0.0), (1388, 0.0), (1389, 0.0), (1391, 0.0), (1393, 0.0), (1395, 0.0), (1396, 0.0), (1397, 0.0), (1399, 0.0), (1401, 0.0), (1404, 0.0), (1406, 0.0), (1407, 0.0), (1409, 0.0), (1411, 0.0), (1412, 0.0), (1419, 0.0), (1420, 0.0), (1424, 0.0), (1425, 0.0), (1426, 0.0), (1428, 0.0), (1430, 0.0), (1431, 0.0), (1432, 0.0), (1433, 0.0), (1434, 0.0), (1435, 0.0), (1436, 0.0), (1439, 0.0), (1440, 0.0), (1441, 0.0), (1443, 0.0), (1444, 0.0), (1445, 0.0), (1447, 0.0), (1449, 0.0), (1450, 0.0), (1451, 0.0), (1452, 0.0), (1453, 0.0), (1455, 0.0), (1456, 0.0), (1457, 0.0), (1458, 0.0), (1459, 0.0), (1461, 0.0), (1464, 0.0), (1465, 0.0), (1466, 0.0), (1469, 0.0), (1473, 0.0), (1479, 0.0), (1480, 0.0), (1482, 0.0), (1484, 0.0), (1485, 0.0), (1486, 0.0), (1487, 0.0), (1490, 0.0), (1491, 0.0), (1492, 0.0), (1493, 0.0), (1494, 0.0), (1497, 0.0), (1499, 0.0), (1500, 0.0), (1501, 0.0), (1502, 0.0), (1504, 0.0), (1505, 0.0), (1507, 0.0), (1508, 0.0), (1512, 0.0), (1516, 0.0), (1517, 0.0), (1520, 0.0), (1521, 0.0), (1523, 0.0), (1525, 0.0), (1526, 0.0), (1527, 0.0), (1530, 0.0), (1531, 0.0), (1532, 0.0), (1534, 0.0), (1535, 0.0), (1536, 0.0), (1538, 0.0), (1540, 0.0), (1541, 0.0), (1542, 0.0), (1544, 0.0), (1545, 0.0), (1546, 0.0), (1548, 0.0), (1549, 0.0), (1550, 0.0), (1551, 0.0), (1552, 0.0), (1553, 0.0), (1554, 0.0), (1555, 0.0), (1556, 0.0), (1557, 0.0), (1560, 0.0), (1561, 0.0), (1562, 0.0), (1563, 0.0), (1564, 0.0), (1566, 0.0), (1567, 0.0), (1571, 0.0), (1572, 0.0), (1573, 0.0), (1574, 0.0), (1575, 0.0), (1576, 0.0), (1577, 0.0), (1580, 0.0), (1581, 0.0), (1583, 0.0), (1584, 0.0), (1585, 0.0), (1586, 0.0), (1587, 0.0), (1588, 0.0), (1590, 0.0), (1591, 0.0), (1593, 0.0), (1594, 0.0), (1596, 0.0), (1602, 0.0), (1604, 0.0), (1606, 0.0), (1607, 0.0), (1609, 0.0), (1611, 0.0), (1612, 0.0), (1614, 0.0), (1617, 0.0), (1618, 0.0), (1623, 0.0), (1625, 0.0), (1626, 0.0), (1630, 0.0), (1631, 0.0), (1632, 0.0), (1635, 0.0), (1636, 0.0), (1637, 0.0), (1638, 0.0), (1639, 0.0), (1640, 0.0), (1641, 0.0), (1642, 0.0), (1644, 0.0), (1646, 0.0), (1650, 0.0), (1651, 0.0), (1652, 0.0), (1654, 0.0), (1656, 0.0), (1657, 0.0), (1659, 0.0), (1660, 0.0), (1662, 0.0), (1663, 0.0), (1669, 0.0), (1670, 0.0), (1672, 0.0), (1673, 0.0), (1674, 0.0), (1676, 0.0), (1679, 0.0), (1680, 0.0), (1681, 0.0), (1684, 0.0), (1686, 0.0), (1688, 0.0), (1691, 0.0), (1692, 0.0), (1694, 0.0), (1695, 0.0), (1696, 0.0), (1697, 0.0), (1698, 0.0), (1699, 0.0), (1700, 0.0), (1701, 0.0), (1702, 0.0), (1704, 0.0), (1705, 0.0), (1708, 0.0), (1709, 0.0), (1712, 0.0), (1713, 0.0), (1715, 0.0), (1718, 0.0), (1720, 0.0), (1721, 0.0), (1723, 0.0), (1724, 0.0), (1725, 0.0), (1727, 0.0), (1728, 0.0), (1729, 0.0), (1731, 0.0), (1733, 0.0), (1734, 0.0), (1735, 0.0), (1737, 0.0), (1741, 0.0), (1742, 0.0), (1745, 0.0), (1746, 0.0), (1749, 0.0), (1751, 0.0), (1752, 0.0), (1753, 0.0), (1754, 0.0), (1755, 0.0), (1756, 0.0), (1757, 0.0), (1758, 0.0), (1759, 0.0), (1761, 0.0), (1765, 0.0), (1766, 0.0), (1769, 0.0), (1770, 0.0), (1771, 0.0), (1773, 0.0), (1775, 0.0), (1776, 0.0), (1777, 0.0), (1778, 0.0), (1783, 0.0), (1785, 0.0), (1786, 0.0), (1787, 0.0), (1788, 0.0), (1789, 0.0), (1790, 0.0), (1791, 0.0), (1792, 0.0), (1793, 0.0), (1794, 0.0), (1795, 0.0), (1799, 0.0), (1800, 0.0), (1801, 0.0), (1802, 0.0), (1803, 0.0), (1804, 0.0), (1805, 0.0), (1806, 0.0), (1807, 0.0), (1808, 0.0), (1809, 0.0), (1810, 0.0), (1811, 0.0), (1812, 0.0), (1814, 0.0), (1815, 0.0), (1816, 0.0), (1818, 0.0), (1820, 0.0), (1823, 0.0), (1824, 0.0), (1825, 0.0), (1826, 0.0), (1829, 0.0), (1831, 0.0), (1832, 0.0), (1833, 0.0), (1834, 0.0), (1835, 0.0), (1837, 0.0), (1838, 0.0), (1839, 0.0), (1840, 0.0), (1842, 0.0), (1843, 0.0), (1844, 0.0), (1846, 0.0), (1847, 0.0), (1848, 0.0), (1849, 0.0), (1852, 0.0), (1854, 0.0), (1856, 0.0), (1857, 0.0), (1858, 0.0), (1859, 0.0), (1860, 0.0), (1861, 0.0), (1862, 0.0), (1863, 0.0), (1867, 0.0), (1868, 0.0), (1870, 0.0), (1872, 0.0), (1873, 0.0), (1874, 0.0), (1877, 0.0), (1879, 0.0), (1880, 0.0), (1881, 0.0), (1883, 0.0), (1887, 0.0), (1888, 0.0), (1889, 0.0), (1890, 0.0), (1894, 0.0), (1895, 0.0), (1898, 0.0), (1899, 0.0), (1900, 0.0), (1901, 0.0), (1904, 0.0), (1906, 0.0), (1910, 0.0), (1911, 0.0), (1912, 0.0), (1914, 0.0), (1915, 0.0), (1917, 0.0), (1921, 0.0), (1922, 0.0), (1927, 0.0), (1928, 0.0), (1930, 0.0), (1932, 0.0), (1933, 0.0), (1935, 0.0), (1937, 0.0), (1939, 0.0), (1940, 0.0), (1941, 0.0), (1944, 0.0), (1945, 0.0), (1949, 0.0), (1952, 0.0), (1953, 0.0), (1954, 0.0), (1956, 0.0), (1957, 0.0), (1958, 0.0), (1961, 0.0), (1962, 0.0), (1965, 0.0), (1966, 0.0), (1972, 0.0), (1973, 0.0), (1975, 0.0), (1976, 0.0), (1978, 0.0), (1979, 0.0), (1980, 0.0), (1984, 0.0), (1986, 0.0), (1987, 0.0), (1988, 0.0), (1990, 0.0), (1992, 0.0), (1993, 0.0), (1994, 0.0), (1996, 0.0), (1999, 0.0), (2001, 0.0), (2002, 0.0), (2003, 0.0), (2005, 0.0), (2006, 0.0), (2007, 0.0), (2013, 0.0), (2014, 0.0), (2015, 0.0), (2017, 0.0), (2019, 0.0), (2020, 0.0), (2021, 0.0), (2022, 0.0), (2025, 0.0), (2030, 0.0), (2032, 0.0), (2033, 0.0), (2038, 0.0), (2041, 0.0), (2042, 0.0), (2043, 0.0), (2044, 0.0), (2046, 0.0), (2047, 0.0), (2050, 0.0), (2052, 0.0), (2054, 0.0), (2056, 0.0), (2059, 0.0), (2060, 0.0), (2063, 0.0), (2066, 0.0), (2071, 0.0), (2072, 0.0), (2076, 0.0), (2077, 0.0), (2078, 0.0), (2079, 0.0), (2080, 0.0), (2081, 0.0), (2082, 0.0), (2084, 0.0), (2085, 0.0), (2090, 0.0), (2092, 0.0), (2093, 0.0), (2095, 0.0), (2098, 0.0), (2099, 0.0), (2101, 0.0), (2106, 0.0), (2107, 0.0), (2109, 0.0), (2110, 0.0), (2111, 0.0), (2113, 0.0), (2115, 0.0), (2119, 0.0), (2123, 0.0), (2124, 0.0), (2126, 0.0), (2128, 0.0), (2130, 0.0), (2135, 0.0), (2137, 0.0), (2138, 0.0), (2139, 0.0), (2141, 0.0), (2142, 0.0), (2145, 0.0), (2146, 0.0), (2148, 0.0), (2150, 0.0), (2151, 0.0), (2153, 0.0), (2156, 0.0), (2158, 0.0), (2160, 0.0), (2161, 0.0), (2163, 0.0), (2164, 0.0), (2165, 0.0), (2166, 0.0), (2167, 0.0), (2168, 0.0), (2171, 0.0), (2172, 0.0), (2173, 0.0), (2175, 0.0), (2177, 0.0), (2179, 0.0), (2181, 0.0), (2182, 0.0), (2185, 0.0), (2186, 0.0), (2187, 0.0), (2189, 0.0), (2192, 0.0), (2193, 0.0), (2194, 0.0), (2196, 0.0), (2197, 0.0), (2198, 0.0), (2200, 0.0), (2202, 0.0), (2204, 0.0), (2205, 0.0), (2206, 0.0), (2207, 0.0), (2209, 0.0), (2213, 0.0), (2215, 0.0), (2217, 0.0), (2218, 0.0), (2219, 0.0), (2220, 0.0), (2221, 0.0), (2222, 0.0), (2225, 0.0), (2228, 0.0), (2231, 0.0), (2232, 0.0), (2233, 0.0), (2234, 0.0), (2235, 0.0), (2238, 0.0), (2239, 0.0), (2243, 0.0), (2244, 0.0), (2245, 0.0), (2246, 0.0), (2247, 0.0), (2248, 0.0), (2249, 0.0), (2252, 0.0), (2253, 0.0), (2256, 0.0), (2259, 0.0), (2261, 0.0), (2262, 0.0), (2263, 0.0), (2264, 0.0), (2267, 0.0), (2268, 0.0), (2270, 0.0), (2271, 0.0), (2272, 0.0), (2273, 0.0), (2274, 0.0), (2275, 0.0), (2276, 0.0), (2278, 0.0), (2280, 0.0), (2281, 0.0), (2282, 0.0), (2284, 0.0), (2285, 0.0), (2288, 0.0), (2290, 0.0), (2291, 0.0), (2292, 0.0), (2293, 0.0), (2294, 0.0), (2296, 0.0), (2299, 0.0), (2303, 0.0), (2304, 0.0), (2305, 0.0), (2306, 0.0), (2307, 0.0), (2308, 0.0), (2309, 0.0), (2310, 0.0), (2312, 0.0), (2314, 0.0), (2315, 0.0), (2316, 0.0), (2317, 0.0), (2318, 0.0), (2324, 0.0), (2325, 0.0), (2326, 0.0), (2328, 0.0), (2329, 0.0), (2331, 0.0), (2333, 0.0), (2336, 0.0), (2337, 0.0), (2339, 0.0), (2340, 0.0), (2341, 0.0), (2342, 0.0), (2343, 0.0), (2345, 0.0), (2346, 0.0), (2351, 0.0), (2352, 0.0), (2354, 0.0), (2356, 0.0), (2357, 0.0), (2358, 0.0), (2363, 0.0), (2364, 0.0), (2366, 0.0), (2368, 0.0), (2369, 0.0), (2370, 0.0), (2372, 0.0), (2373, 0.0), (2376, 0.0), (2377, 0.0), (2378, 0.0), (2380, 0.0), (2381, 0.0), (2382, 0.0), (2383, 0.0), (2384, 0.0), (2387, 0.0), (2389, 0.0), (2392, 0.0), (2395, 0.0), (2396, 0.0), (2398, 0.0), (2401, 0.0), (2403, 0.0), (2404, 0.0), (2408, 0.0), (2409, 0.0), (2410, 0.0), (2413, 0.0), (2414, 0.0), (2416, 0.0), (2417, 0.0), (2418, 0.0), (2419, 0.0), (2420, 0.0), (2421, 0.0), (2424, 0.0), (2425, 0.0), (2426, 0.0), (2429, 0.0), (2431, 0.0), (2432, 0.0), (2433, 0.0), (2435, 0.0), (2440, 0.0), (2442, 0.0), (2445, 0.0), (2446, 0.0), (2449, 0.0), (2450, 0.0), (2451, 0.0), (2452, 0.0), (2454, 0.0), (2455, 0.0), (2458, 0.0), (2462, 0.0), (2463, 0.0), (2464, 0.0), (2465, 0.0), (2468, 0.0), (2470, 0.0), (2471, 0.0), (2472, 0.0), (2476, 0.0), (2479, 0.0), (2480, 0.0), (2481, 0.0), (2483, 0.0), (2485, 0.0), (2486, 0.0), (2487, 0.0), (2491, 0.0), (2493, 0.0), (2495, 0.0), (2497, 0.0), (2498, 0.0), (2499, 0.0), (2501, 0.0), (2503, 0.0), (2504, 0.0), (2505, 0.0), (2506, 0.0), (2507, 0.0), (2508, 0.0), (2510, 0.0), (2513, 0.0), (2514, 0.0), (2515, 0.0), (2517, 0.0), (2519, 0.0), (2521, 0.0), (2523, 0.0), (2524, 0.0), (2525, 0.0), (2533, 0.0), (2536, 0.0), (2537, 0.0), (2539, 0.0), (2541, 0.0), (2542, 0.0), (2543, 0.0), (2545, 0.0), (2547, 0.0), (2548, 0.0), (2549, 0.0), (2552, 0.0), (2557, 0.0), (2561, 0.0), (2564, 0.0), (2565, 0.0), (2566, 0.0), (2567, 0.0), (2569, 0.0), (2572, 0.0), (2573, 0.0), (2574, 0.0), (2575, 0.0), (2576, 0.0), (2577, 0.0), (2578, 0.0), (2581, 0.0), (2582, 0.0), (2583, 0.0), (2585, 0.0), (2586, 0.0), (2587, 0.0), (2589, 0.0), (2590, 0.0), (2594, 0.0), (2595, 0.0), (2596, 0.0), (2597, 0.0), (2599, 0.0), (2600, 0.0), (2604, 0.0), (2605, 0.0), (2610, 0.0), (2613, 0.0), (2615, 0.0), (2617, 0.0), (2619, 0.0), (2620, 0.0), (2622, 0.0), (2624, 0.0), (2626, 0.0), (2627, 0.0), (2628, 0.0), (2630, 0.0), (2631, 0.0), (2635, 0.0), (2636, 0.0), (2639, 0.0), (2640, 0.0), (2644, 0.0), (2649, 0.0), (2651, 0.0), (2654, 0.0), (2656, 0.0), (2657, 0.0), (2658, 0.0), (2659, 0.0), (2660, 0.0), (2662, 0.0), (2663, 0.0), (2665, 0.0), (2666, 0.0), (2667, 0.0), (2669, 0.0), (2670, 0.0), (2671, 0.0), (2673, 0.0), (2675, 0.0), (2676, 0.0), (2677, 0.0), (2679, 0.0), (2683, 0.0), (2684, 0.0), (2685, 0.0), (2686, 0.0), (2690, 0.0), (2693, 0.0), (2694, 0.0), (2699, 0.0), (2700, 0.0), (2703, 0.0), (2704, 0.0), (2707, 0.0), (2709, 0.0), (2710, 0.0), (2713, 0.0), (2717, 0.0), (2718, 0.0), (2719, 0.0), (2720, 0.0), (2721, 0.0), (2722, 0.0), (2723, 0.0), (2725, 0.0), (2726, 0.0), (2727, 0.0), (2728, 0.0), (2730, 0.0), (2732, 0.0), (2733, 0.0), (2734, 0.0), (2735, 0.0), (2736, 0.0), (2737, 0.0), (2738, 0.0), (2739, 0.0), (2742, 0.0), (2749, 0.0), (2750, 0.0), (2751, 0.0), (2752, 0.0), (2753, 0.0), (2754, 0.0), (2756, 0.0), (2757, 0.0), (2759, 0.0), (2762, 0.0), (2763, 0.0), (2765, 0.0), (2770, 0.0), (2773, 0.0), (2780, 0.0), (2781, 0.0), (2783, 0.0), (2785, 0.0), (2786, 0.0), (2787, 0.0), (2788, 0.0), (2789, 0.0), (2790, 0.0), (2792, 0.0), (2794, 0.0), (2799, 0.0), (2801, 0.0), (2804, 0.0), (2805, 0.0), (2806, 0.0), (2807, 0.0), (2810, 0.0), (2811, 0.0), (2814, 0.0), (2815, 0.0), (2816, 0.0), (2817, 0.0), (2818, 0.0), (2820, 0.0), (2823, 0.0), (2824, 0.0), (2825, 0.0), (2826, 0.0), (2828, 0.0), (2829, 0.0), (2833, 0.0), (2835, 0.0), (2836, 0.0), (2839, 0.0), (2841, 0.0), (2846, 0.0), (2849, 0.0), (2850, 0.0), (2851, 0.0), (2852, 0.0), (2853, 0.0), (2855, 0.0), (2856, 0.0), (2858, 0.0), (2860, 0.0), (2861, 0.0), (2863, 0.0), (2865, 0.0), (2868, 0.0), (2869, 0.0), (2871, 0.0), (2873, 0.0), (2874, 0.0), (2875, 0.0), (2877, 0.0), (2880, 0.0), (2882, 0.0), (2884, 0.0), (2885, 0.0), (2891, 0.0), (2895, 0.0), (2896, 0.0), (2897, 0.0), (2898, 0.0), (2900, 0.0), (2902, 0.0), (2905, 0.0), (2906, 0.0), (2912, 0.0), (2913, 0.0), (2918, 0.0), (2921, 0.0), (2922, 0.0), (2923, 0.0), (2928, 0.0), (2929, 0.0), (2930, 0.0), (2936, 0.0), (2937, 0.0), (2938, 0.0), (2939, 0.0), (2941, 0.0), (2942, 0.0), (2944, 0.0), (2947, 0.0), (2948, 0.0), (2949, 0.0), (2950, 0.0), (2951, 0.0), (2952, 0.0), (2953, 0.0), (2954, 0.0), (2959, 0.0), (2960, 0.0), (2962, 0.0), (2963, 0.0), (2964, 0.0), (2967, 0.0), (2968, 0.0), (2970, 0.0), (2971, 0.0), (2973, 0.0), (2978, 0.0), (2979, 0.0), (2982, 0.0), (2983, 0.0), (2984, 0.0), (2985, 0.0), (2987, 0.0), (2990, 0.0), (2991, 0.0), (2993, 0.0), (2994, 0.0), (2997, 0.0), (3000, 0.0), (3002, 0.0), (3003, 0.0), (3005, 0.0), (3006, 0.0), (3007, 0.0), (3008, 0.0), (3009, 0.0), (3010, 0.0), (3011, 0.0), (3016, 0.0), (3017, 0.0), (3020, 0.0), (3021, 0.0), (3022, 0.0), (3023, 0.0), (3025, 0.0), (3026, 0.0), (3029, 0.0), (3030, 0.0), (3031, 0.0), (3033, 0.0), (3034, 0.0), (3035, 0.0), (3038, 0.0), (3039, 0.0), (3040, 0.0), (3041, 0.0), (3042, 0.0), (3046, 0.0), (3047, 0.0), (3048, 0.0), (3049, 0.0), (3052, 0.0), (3054, 0.0), (3055, 0.0), (3059, 0.0), (3060, 0.0), (3061, 0.0), (3064, 0.0), (3068, 0.0), (3069, 0.0), (3070, 0.0), (3073, 0.0), (3077, 0.0), (3078, 0.0), (3079, 0.0), (3080, 0.0), (3083, 0.0), (3084, 0.0), (3085, 0.0), (3087, 0.0), (3088, 0.0), (3090, 0.0), (3095, 0.0), (3098, 0.0), (3099, 0.0), (3100, 0.0), (3103, 0.0), (3104, 0.0), (3105, 0.0), (3107, 0.0), (3109, 0.0), (3110, 0.0), (3114, 0.0), (3115, 0.0), (3117, 0.0), (3118, 0.0), (3119, 0.0), (3124, 0.0), (3127, 0.0), (3128, 0.0), (3129, 0.0), (3131, 0.0), (3132, 0.0), (3133, 0.0), (3134, 0.0), (3135, 0.0), (3136, 0.0), (3138, 0.0), (3139, 0.0), (3143, 0.0), (3144, 0.0), (3145, 0.0), (3149, 0.0), (3155, 0.0), (3156, 0.0), (3158, 0.0), (3159, 0.0), (3160, 0.0), (3163, 0.0), (3164, 0.0), (3167, 0.0), (3168, 0.0), (3169, 0.0), (3172, 0.0), (3173, 0.0), (3175, 0.0), (3176, 0.0), (3177, 0.0), (3180, 0.0), (3181, 0.0), (3185, 0.0), (3186, 0.0), (3188, 0.0), (3189, 0.0), (3190, 0.0), (3192, 0.0), (3193, 0.0), (3197, 0.0), (3201, 0.0), (3203, 0.0), (3204, 0.0), (3205, 0.0), (3206, 0.0), (3207, 0.0), (3208, 0.0), (3209, 0.0), (3211, 0.0), (3212, 0.0), (3215, 0.0), (3216, 0.0), (3217, 0.0), (3221, 0.0), (3222, 0.0), (3223, 0.0), (3224, 0.0), (3229, 0.0), (3230, 0.0), (3231, 0.0), (3239, 0.0), (3243, 0.0), (3244, 0.0), (3245, 0.0), (3246, 0.0), (3247, 0.0), (3249, 0.0), (3250, 0.0), (3251, 0.0), (3252, 0.0), (3253, 0.0), (3255, 0.0), (3256, 0.0), (3260, 0.0), (3261, 0.0), (3263, 0.0), (3264, 0.0), (3266, 0.0), (3267, 0.0), (3269, 0.0), (3271, 0.0), (3272, 0.0), (3277, 0.0), (3280, 0.0), (3281, 0.0), (3285, 0.0), (3287, 0.0), (3288, 0.0), (3289, 0.0), (3290, 0.0), (3292, 0.0), (3294, 0.0), (3295, 0.0), (3299, 0.0), (3305, 0.0), (3306, 0.0), (3307, 0.0), (3309, 0.0), (3312, 0.0), (3313, 0.0), (3319, 0.0), (3320, 0.0), (3321, 0.0), (3322, 0.0), (3323, 0.0), (3324, 0.0), (3329, 0.0), (3332, 0.0), (3333, 0.0), (3334, 0.0), (3335, 0.0), (3336, 0.0), (3337, 0.0), (3338, 0.0), (3339, 0.0), (3340, 0.0), (3341, 0.0), (3343, 0.0), (3345, 0.0), (3348, 0.0), (3350, 0.0), (3354, 0.0), (3358, 0.0), (3361, 0.0), (3366, 0.0), (3367, 0.0), (3369, 0.0), (3372, 0.0), (3373, 0.0), (3375, 0.0), (3376, 0.0), (3378, 0.0), (3381, 0.0), (3382, 0.0), (3383, 0.0), (3384, 0.0), (3387, 0.0), (3390, 0.0), (3392, 0.0), (3395, 0.0), (3396, 0.0), (3397, 0.0), (3400, 0.0), (3401, 0.0), (3410, 0.0), (3411, 0.0), (3412, 0.0), (3414, 0.0), (3415, 0.0), (3418, 0.0), (3420, 0.0), (3421, 0.0), (3422, 0.0), (3423, 0.0), (3424, 0.0), (3426, 0.0), (3427, 0.0), (3428, 0.0), (3429, 0.0), (3430, 0.0), (3431, 0.0), (3434, 0.0), (3438, 0.0), (3439, 0.0), (3440, 0.0), (3441, 0.0), (3442, 0.0), (3443, 0.0), (3444, 0.0), (3446, 0.0), (3448, 0.0), (3451, 0.0), (3452, 0.0), (3453, 0.0), (3455, 0.0), (3456, 0.0), (3457, 0.0), (3458, 0.0), (3461, 0.0), (3462, 0.0), (3465, 0.0), (3466, 0.0), (3467, 0.0), (3468, 0.0), (3469, 0.0), (3475, 0.0), (3476, 0.0), (3478, 0.0), (3481, 0.0), (3482, 0.0), (3485, 0.0), (3486, 0.0), (3488, 0.0), (3489, 0.0), (3490, 0.0), (3491, 0.0), (3494, 0.0), (3497, 0.0), (3499, 0.0), (3502, 0.0), (3505, 0.0), (3507, 0.0), (3508, 0.0), (3509, 0.0), (3510, 0.0), (3515, 0.0), (3517, 0.0), (3518, 0.0), (3519, 0.0), (3520, 0.0), (3523, 0.0), (3525, 0.0), (3528, 0.0), (3529, 0.0), (3530, 0.0), (3531, 0.0), (3532, 0.0), (3533, 0.0), (3535, 0.0), (3536, 0.0), (3537, 0.0), (3538, 0.0), (3540, 0.0), (3543, 0.0), (3544, 0.0), (3545, 0.0), (3547, 0.0), (3548, 0.0), (3549, 0.0), (3550, 0.0), (3555, 0.0), (3561, 0.0), (3562, 0.0), (3565, 0.0), (3566, 0.0), (3567, 0.0), (3568, 0.0), (3570, 0.0), (3572, 0.0), (3573, 0.0), (3574, 0.0), (3576, 0.0), (3578, 0.0), (3581, 0.0), (3582, 0.0), (3583, 0.0), (3584, 0.0), (3585, 0.0), (3586, 0.0), (3588, 0.0), (3591, 0.0), (3593, 0.0), (3594, 0.0), (3595, 0.0), (3596, 0.0), (3597, 0.0), (3598, 0.0), (3599, 0.0), (3600, 0.0), (3602, 0.0), (3603, 0.0), (3605, 0.0), (3606, 0.0), (3607, 0.0), (3608, 0.0), (3610, 0.0), (3611, 0.0), (3615, 0.0), (3616, 0.0), (3617, 0.0), (3619, 0.0), (3621, 0.0), (3622, 0.0), (3625, 0.0), (3627, 0.0), (3628, 0.0), (3629, 0.0), (3630, 0.0), (3631, 0.0), (3632, 0.0), (3633, 0.0), (3636, 0.0), (3642, 0.0), (3644, 0.0), (3647, 0.0), (3648, 0.0), (3649, 0.0), (3650, 0.0), (3651, 0.0), (3652, 0.0), (3658, 0.0), (3659, 0.0), (3661, 0.0), (3662, 0.0), (3663, 0.0), (3664, 0.0), (3665, 0.0), (3668, 0.0), (3670, 0.0), (3671, 0.0), (3672, 0.0), (3674, 0.0), (3676, 0.0), (3677, 0.0), (3679, 0.0), (3681, 0.0), (3682, 0.0), (3683, 0.0), (3684, 0.0), (3685, 0.0), (3687, 0.0), (3688, 0.0), (3690, 0.0), (3691, 0.0), (3699, 0.0), (3700, 0.0), (3701, 0.0), (3702, 0.0), (3703, 0.0), (3708, 0.0), (3709, 0.0), (3710, 0.0), (3711, 0.0), (3712, 0.0), (3713, 0.0), (3714, 0.0), (3715, 0.0), (3717, 0.0), (3718, 0.0), (3719, 0.0), (3720, 0.0), (3721, 0.0), (3722, 0.0), (3724, 0.0), (3725, 0.0), (3726, 0.0), (3729, 0.0), (3731, 0.0), (3732, 0.0), (3733, 0.0), (3735, 0.0), (3736, 0.0), (3737, 0.0), (3740, 0.0), (3741, 0.0), (3743, 0.0), (3744, 0.0), (3746, 0.0), (3747, 0.0), (3748, 0.0), (3750, 0.0), (3751, 0.0), (3753, 0.0), (3757, 0.0), (3758, 0.0), (3760, 0.0), (3761, 0.0), (3762, 0.0), (3764, 0.0), (3768, 0.0), (3769, 0.0), (3770, 0.0), (3773, 0.0), (3775, 0.0), (3776, 0.0), (3779, 0.0), (3781, 0.0), (3782, 0.0), (3783, 0.0), (3785, 0.0), (3786, 0.0), (3787, 0.0), (3788, 0.0), (3789, 0.0), (3791, 0.0), (3793, 0.0), (3794, 0.0), (3795, 0.0), (3796, 0.0), (3800, 0.0), (3802, 0.0), (3803, 0.0), (3804, 0.0), (3805, 0.0), (3806, 0.0), (3810, 0.0), (3814, 0.0), (3815, 0.0), (3816, 0.0), (3817, 0.0), (3818, 0.0), (3820, 0.0), (3821, 0.0), (3823, 0.0), (3824, 0.0), (3825, 0.0), (3831, 0.0), (3834, 0.0), (3836, 0.0), (3837, 0.0), (3838, 0.0), (3840, 0.0), (3841, 0.0), (3842, 0.0), (3843, 0.0), (3844, 0.0), (3846, 0.0), (3848, 0.0), (3849, 0.0), (3851, 0.0), (3852, 0.0), (3853, 0.0), (3857, 0.0), (3858, 0.0), (3859, 0.0), (3860, 0.0), (3861, 0.0), (3863, 0.0), (3864, 0.0), (3865, 0.0), (3871, 0.0), (3872, 0.0), (3874, 0.0), (3877, 0.0), (3878, 0.0), (3879, 0.0), (3881, 0.0), (3884, 0.0), (3885, 0.0), (3887, 0.0), (3889, 0.0), (3891, 0.0), (3894, 0.0), (3896, 0.0), (3897, 0.0), (3899, 0.0), (3905, 0.0), (3907, 0.0), (3908, 0.0), (3909, 0.0), (3911, 0.0), (3912, 0.0), (3914, 0.0), (3916, 0.0), (3918, 0.0), (3921, 0.0), (3923, 0.0), (3926, 0.0), (3929, 0.0), (3930, 0.0), (3931, 0.0), (3933, 0.0), (3935, 0.0), (3936, 0.0), (3938, 0.0), (3939, 0.0), (3942, 0.0), (3943, 0.0), (3944, 0.0), (3945, 0.0), (3946, 0.0), (3947, 0.0), (3949, 0.0), (3950, 0.0), (3951, 0.0), (3955, 0.0), (3957, 0.0), (3958, 0.0), (3964, 0.0), (3966, 0.0), (3967, 0.0), (3968, 0.0), (3969, 0.0), (3971, 0.0), (3972, 0.0), (3975, 0.0), (3976, 0.0), (3977, 0.0), (3978, 0.0), (3979, 0.0), (3981, 0.0), (3982, 0.0), (3985, 0.0), (3986, 0.0), (3987, 0.0), (3988, 0.0), (3989, 0.0), (3991, 0.0), (3993, 0.0), (3994, 0.0), (3995, 0.0), (3996, 0.0), (3998, 0.0), (3999, 0.0), (4000, 0.0), (4001, 0.0), (4002, 0.0), (4003, 0.0), (4006, 0.0), (4007, 0.0), (4008, 0.0), (4009, 0.0), (4010, 0.0), (4012, 0.0), (4013, 0.0), (4015, 0.0), (4017, 0.0), (4019, 0.0), (4021, 0.0), (4023, 0.0), (4026, 0.0), (4027, 0.0), (4028, 0.0), (4029, 0.0), (4030, 0.0), (4031, 0.0), (4032, 0.0), (4034, 0.0), (4035, 0.0), (4037, 0.0), (4039, 0.0), (4040, 0.0), (4041, 0.0), (4042, 0.0), (4043, 0.0), (4044, 0.0), (4045, 0.0), (4047, 0.0), (4048, 0.0), (4049, 0.0), (4050, 0.0), (4052, 0.0), (4055, 0.0), (4057, 0.0), (4058, 0.0), (4059, 0.0), (4060, 0.0), (4061, 0.0), (4062, 0.0), (4064, 0.0), (4065, 0.0), (4067, 0.0), (4072, 0.0), (4073, 0.0), (4075, 0.0), (4076, 0.0), (4077, 0.0), (4078, 0.0), (4080, 0.0), (4081, 0.0), (4083, 0.0), (4084, 0.0), (4086, 0.0), (4088, 0.0), (4089, 0.0), (4090, 0.0), (4091, 0.0), (4093, 0.0), (4094, 0.0), (4097, 0.0), (4099, 0.0), (4100, 0.0), (4102, 0.0), (4103, 0.0), (4104, 0.0), (4105, 0.0), (4106, 0.0), (4107, 0.0), (4108, 0.0), (4109, 0.0), (4110, 0.0), (4112, 0.0), (4114, 0.0), (4115, 0.0), (4118, 0.0), (4119, 0.0), (4120, 0.0), (4122, 0.0), (4124, 0.0), (4125, 0.0), (4126, 0.0), (4127, 0.0), (4128, 0.0), (4129, 0.0), (4131, 0.0), (4132, 0.0), (4134, 0.0), (4139, 0.0), (4140, 0.0), (4142, 0.0), (4144, 0.0), (4145, 0.0), (4146, 0.0), (4147, 0.0), (4150, 0.0), (4153, 0.0), (4155, 0.0), (4157, 0.0), (4161, 0.0), (4162, 0.0), (4165, 0.0), (4166, 0.0), (4167, 0.0), (4168, 0.0), (4169, 0.0), (4170, 0.0), (4172, 0.0), (4173, 0.0), (4174, 0.0), (4175, 0.0), (4177, 0.0), (4179, 0.0), (4180, 0.0), (4181, 0.0), (4184, 0.0), (4185, 0.0), (4186, 0.0), (4190, 0.0), (4191, 0.0), (4193, 0.0), (4195, 0.0), (4196, 0.0), (4198, 0.0), (4200, 0.0), (4201, 0.0), (4204, 0.0), (4206, 0.0), (4207, 0.0), (4208, 0.0), (4209, 0.0), (4211, 0.0), (4212, 0.0), (4213, 0.0), (4214, 0.0), (4215, 0.0), (4216, 0.0), (4217, 0.0), (4219, 0.0), (4220, 0.0), (4221, 0.0), (4222, 0.0), (4223, 0.0), (4224, 0.0), (4225, 0.0), (4226, 0.0), (4227, 0.0), (4228, 0.0), (4229, 0.0), (4230, 0.0), (4232, 0.0), (4233, 0.0), (4234, 0.0), (4235, 0.0), (4236, 0.0), (4238, 0.0), (4240, 0.0), (4241, 0.0), (4242, 0.0), (4245, 0.0), (4246, 0.0), (4248, 0.0), (4250, 0.0), (4251, 0.0), (4252, 0.0), (4253, 0.0), (4254, 0.0), (4258, 0.0), (4260, 0.0), (4261, 0.0), (4262, 0.0), (4263, 0.0), (4264, 0.0), (4265, 0.0), (4267, 0.0), (4271, 0.0), (4272, 0.0), (4273, 0.0), (4274, 0.0), (4275, 0.0), (4276, 0.0), (4277, 0.0), (4278, 0.0), (4279, 0.0), (4280, 0.0), (4281, 0.0), (4285, 0.0), (4289, 0.0), (4290, 0.0), (4292, 0.0), (4294, 0.0), (4296, 0.0), (4297, 0.0), (4298, 0.0), (4300, 0.0), (4301, 0.0), (4302, 0.0), (4303, 0.0), (4304, 0.0), (4305, 0.0), (4306, 0.0), (4307, 0.0), (4308, 0.0), (4310, 0.0), (4312, 0.0), (4313, 0.0), (4314, 0.0), (4315, 0.0), (4316, 0.0), (4317, 0.0), (4320, 0.0), (4322, 0.0), (4323, 0.0), (4325, 0.0), (4326, 0.0), (4327, 0.0), (4328, 0.0), (4329, 0.0), (4331, 0.0), (4332, 0.0), (4335, 0.0), (4337, 0.0), (4339, 0.0), (4340, 0.0), (4341, 0.0), (4342, 0.0), (4347, 0.0), (4348, 0.0), (4349, 0.0), (4351, 0.0), (4352, 0.0), (4353, 0.0), (4354, 0.0), (4355, 0.0), (4358, 0.0), (4359, 0.0), (4361, 0.0), (4363, 0.0), (4365, 0.0), (4366, 0.0), (4367, 0.0), (4370, 0.0), (4372, 0.0), (4373, 0.0), (4375, 0.0), (4376, 0.0), (4377, 0.0), (4378, 0.0), (4380, 0.0), (4381, 0.0), (4383, 0.0), (4384, 0.0), (4386, 0.0), (4388, 0.0), (4389, 0.0), (4390, 0.0), (4391, 0.0), (4392, 0.0), (4393, 0.0), (4395, 0.0), (4396, 0.0), (4397, 0.0), (4398, 0.0), (4399, 0.0), (4400, 0.0), (4404, 0.0), (4405, 0.0), (4406, 0.0), (4407, 0.0), (4408, 0.0), (4409, 0.0), (4410, 0.0), (4413, 0.0), (4414, 0.0), (4415, 0.0), (4416, 0.0), (4417, 0.0), (4418, 0.0), (4421, 0.0), (4423, 0.0), (4424, 0.0), (4425, 0.0), (4426, 0.0), (4427, 0.0), (4428, 0.0), (4431, 0.0), (4433, 0.0), (4434, 0.0), (4435, 0.0), (4436, 0.0), (4439, 0.0), (4440, 0.0), (4441, 0.0), (4442, 0.0), (4447, 0.0), (4449, 0.0), (4450, 0.0), (4451, 0.0), (4452, 0.0), (4453, 0.0), (4456, 0.0), (4457, 0.0), (4458, 0.0), (4459, 0.0), (4460, 0.0), (4461, 0.0), (4462, 0.0), (4464, 0.0), (4465, 0.0), (4466, 0.0), (4467, 0.0), (4468, 0.0), (4469, 0.0), (4474, 0.0), (4476, 0.0), (4478, 0.0), (4481, 0.0), (4482, 0.0), (4483, 0.0), (4485, 0.0), (4486, 0.0), (4491, 0.0), (4492, 0.0), (4493, 0.0), (4496, 0.0), (4497, 0.0), (4498, 0.0), (4499, 0.0), (4500, 0.0), (4504, 0.0), (4505, 0.0), (4506, 0.0), (4508, 0.0), (4510, 0.0), (4512, 0.0), (4513, 0.0), (4514, 0.0), (4515, 0.0), (4519, 0.0), (4524, 0.0), (4525, 0.0), (4526, 0.0), (4527, 0.0), (4529, 0.0), (4531, 0.0), (4532, 0.0), (4534, 0.0), (4537, 0.0), (4538, 0.0), (4539, 0.0), (4540, 0.0), (4541, 0.0), (4542, 0.0), (4543, 0.0), (4544, 0.0), (4545, 0.0), (4547, 0.0), (4548, 0.0), (4549, 0.0), (4550, 0.0), (4553, 0.0), (4554, 0.0), (4556, 0.0), (4557, 0.0), (4558, 0.0), (4559, 0.0), (4560, 0.0), (4561, 0.0), (4562, 0.0), (4565, 0.0), (4567, 0.0), (4569, 0.0), (4570, 0.0), (4572, 0.0), (4574, 0.0), (4576, 0.0), (4577, 0.0), (4578, 0.0), (4579, 0.0), (4580, 0.0), (4582, 0.0), (4583, 0.0), (4584, 0.0), (4585, 0.0), (4586, 0.0), (4587, 0.0), (4588, 0.0), (4592, 0.0), (4595, 0.0), (4596, 0.0), (4600, 0.0), (4602, 0.0), (4604, 0.0), (4605, 0.0), (4606, 0.0), (4607, 0.0), (4608, 0.0), (4612, 0.0), (4613, 0.0), (4614, 0.0), (4615, 0.0), (4616, 0.0), (4618, 0.0), (4620, 0.0), (4621, 0.0), (4622, 0.0), (4623, 0.0), (4627, 0.0), (4630, 0.0), (4631, 0.0), (4633, 0.0), (4634, 0.0), (4635, 0.0), (4639, 0.0), (4641, 0.0), (4642, 0.0), (4644, 0.0), (4645, 0.0), (4646, 0.0), (4647, 0.0), (4648, 0.0), (4649, 0.0), (4651, 0.0), (4652, 0.0), (4654, 0.0), (4655, 0.0), (4656, 0.0), (4659, 0.0), (4661, 0.0), (4662, 0.0), (4663, 0.0), (4664, 0.0), (4665, 0.0), (4666, 0.0), (4667, 0.0), (4671, 0.0), (4672, 0.0), (4675, 0.0), (4677, 0.0), (4678, 0.0), (4679, 0.0), (4680, 0.0), (4681, 0.0), (4682, 0.0), (4683, 0.0), (4685, 0.0), (4686, 0.0), (4687, 0.0), (4688, 0.0), (4689, 0.0), (4690, 0.0), (4691, 0.0), (4692, 0.0), (4693, 0.0), (4694, 0.0), (4695, 0.0), (4696, 0.0), (4697, 0.0), (4698, 0.0), (4700, 0.0), (4702, 0.0), (4703, 0.0), (4704, 0.0), (4705, 0.0), (4707, 0.0), (4708, 0.0), (4711, 0.0), (4714, 0.0), (4715, 0.0), (4716, 0.0), (4717, 0.0), (4719, 0.0), (4720, 0.0), (4721, 0.0), (4724, 0.0), (4725, 0.0), (4727, 0.0), (4728, 0.0), (4729, 0.0), (4730, 0.0), (4732, 0.0), (4735, 0.0), (4736, 0.0), (4737, 0.0), (4738, 0.0), (4740, 0.0), (4741, 0.0), (4742, 0.0), (4743, 0.0), (4744, 0.0), (4745, 0.0), (4746, 0.0), (4747, 0.0), (4748, 0.0), (4749, 0.0), (4750, 0.0), (4751, 0.0), (4753, 0.0), (4754, 0.0), (4755, 0.0), (4756, 0.0), (4758, 0.0), (4759, 0.0)]\n"
          ]
        }
      ]
    },
    {
      "cell_type": "code",
      "source": [
        "#print the name of similar movies based on the index\n",
        "\n",
        "print('Top 30 Movies Suggested for You  :\\n')\n",
        "\n",
        "i=1\n",
        "\n",
        "for movie in Sorted_Similar_Movies:\n",
        "  index= movie[0]\n",
        "  title_from_index = a[a.index==index]['Movie_Title'].values[0]\n",
        "  if (i<31):\n",
        "    print(i, '.',title_from_index)\n",
        "    i+=1"
      ],
      "metadata": {
        "colab": {
          "base_uri": "https://localhost:8080/"
        },
        "id": "nzx0NBrK0pcc",
        "outputId": "475c389d-d41b-42fb-e16e-dff026f519f8"
      },
      "execution_count": 31,
      "outputs": [
        {
          "output_type": "stream",
          "name": "stdout",
          "text": [
            "Top 30 Movies Suggested for You  :\n",
            "\n",
            "1 . Pan's Labyrinth\n",
            "2 . Hellboy II: The Golden Army\n",
            "3 . Dirty Pretty Things\n",
            "4 . The Hunted\n",
            "5 . The Rite\n",
            "6 . The Way of the Gun\n",
            "7 . The Work and The Story\n",
            "8 . Shark Tale\n",
            "9 . Y tu mamá también\n",
            "10 . Good Will Hunting\n",
            "11 . Troll Hunter\n",
            "12 . Blade II\n",
            "13 . Sheena\n",
            "14 . Love in the Time of Monsters\n",
            "15 . Hellboy\n",
            "16 . Cry_Wolf\n",
            "17 . Mad City\n",
            "18 . Crazy/Beautiful\n",
            "19 . Sicario\n",
            "20 . Suicide Squad\n",
            "21 . Lonesome Jim\n",
            "22 . Things We Lost in the Fire\n",
            "23 . The Last Time I Committed Suicide\n",
            "24 . The Wolfman\n",
            "25 . Fear and Loathing in Las Vegas\n",
            "26 . Real Steel\n",
            "27 . Savages\n",
            "28 . Escobar: Paradise Lost\n",
            "29 . Cool Runnings\n",
            "30 . I, Frankenstein\n"
          ]
        }
      ]
    },
    {
      "cell_type": "markdown",
      "source": [
        "##**Top 10 Movie Recommendation System**"
      ],
      "metadata": {
        "id": "IQszYbo53FfC"
      }
    },
    {
      "cell_type": "code",
      "source": [
        "Movie_Name = input('Enter your favourite movie name:')\n",
        "list_of_all_titles = a['Movie_Title'].tolist()\n",
        "Find_Close_Match = difflib.get_close_matches(Movie_Name, list_of_all_titles)\n",
        "Close_Match = Find_Close_Match[0]\n",
        "Index_of_Movie = a[a.Movie_Title == Close_Match]['Movie_ID'].values[0]\n",
        "Recommendation_Score = list(enumerate(Similarity_Score[Index_of_Movie]))\n",
        "Sorted_Similar_Movies= sorted(Recommendation_Score, key = lambda x:x[1],reverse = True)\n",
        "\n",
        "print('Top 10 Movies suggested for you:\\n')\n",
        "\n",
        "i=1\n",
        "\n",
        "for movie in Sorted_Similar_Movies:\n",
        "  index = movie[0]\n",
        "  title_from_index=a[a.Movie_ID==index]['Movie_Title'].values\n",
        "  if(i<11):\n",
        "    print(i, '.',title_from_index)\n",
        "    i+=1\n"
      ],
      "metadata": {
        "colab": {
          "base_uri": "https://localhost:8080/"
        },
        "id": "BjiR0KEB2QuO",
        "outputId": "2015df03-33ae-459b-b445-3098a6aefb75"
      },
      "execution_count": 32,
      "outputs": [
        {
          "output_type": "stream",
          "name": "stdout",
          "text": [
            "Enter your favourite movie name:avatar\n",
            "Top 10 Movies suggested for you:\n",
            "\n",
            "1 . ['Avatar']\n",
            "2 . ['The Godfather']\n",
            "3 . ['New Nightmare']\n",
            "4 . ['Elizabethtown']\n",
            "5 . ['Gerry']\n",
            "6 . ['Cradle Will Rock']\n",
            "7 . ['A Prairie Home Companion']\n",
            "8 . ['Bright Lights, Big City']\n",
            "9 . ['Rollerball']\n",
            "10 . ['Walking and Talking']\n"
          ]
        }
      ]
    },
    {
      "cell_type": "code",
      "source": [],
      "metadata": {
        "id": "AsJh2wUc6-K8"
      },
      "execution_count": 32,
      "outputs": []
    }
  ]
}